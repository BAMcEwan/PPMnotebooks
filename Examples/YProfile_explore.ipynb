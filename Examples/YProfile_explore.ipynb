{
 "cells": [
  {
   "cell_type": "code",
   "execution_count": null,
   "metadata": {
    "collapsed": false,
    "deletable": true,
    "editable": true
   },
   "outputs": [],
   "source": [
    "%pylab nbagg\n",
    "from ppmpy import ppm\n",
    "data_dir='/ppm_data1/rpod2/YProfiles/'"
   ]
  },
  {
   "cell_type": "code",
   "execution_count": null,
   "metadata": {
    "collapsed": false,
    "deletable": true,
    "editable": true
   },
   "outputs": [],
   "source": [
    "# Tese are the projects for which data is available\n",
    "!ls /ppm_data1/rpod2/YProfiles/"
   ]
  },
  {
   "cell_type": "code",
   "execution_count": null,
   "metadata": {
    "collapsed": true,
    "deletable": true,
    "editable": true
   },
   "outputs": [],
   "source": [
    "# select project \n",
    "project='O-shell-M25'"
   ]
  },
  {
   "cell_type": "code",
   "execution_count": null,
   "metadata": {
    "collapsed": false,
    "deletable": true,
    "editable": true
   },
   "outputs": [],
   "source": [
    "ppm.set_YProf_path(data_dir+project)"
   ]
  },
  {
   "cell_type": "code",
   "execution_count": null,
   "metadata": {
    "collapsed": false,
    "deletable": true,
    "editable": true
   },
   "outputs": [],
   "source": [
    "# show the available cases for this project (case=run):\n",
    "ppm.cases"
   ]
  },
  {
   "cell_type": "code",
   "execution_count": null,
   "metadata": {
    "collapsed": false,
    "deletable": true,
    "editable": true
   },
   "outputs": [],
   "source": [
    "D2=ppm.yprofile('D2')"
   ]
  },
  {
   "cell_type": "code",
   "execution_count": null,
   "metadata": {
    "collapsed": false,
    "deletable": true,
    "editable": true
   },
   "outputs": [],
   "source": [
    "D2.vprofs(100)"
   ]
  },
  {
   "cell_type": "code",
   "execution_count": null,
   "metadata": {
    "collapsed": false,
    "deletable": true,
    "editable": true
   },
   "outputs": [],
   "source": [
    "# initialize some cases\n",
    "d1=ppm.yprofile('D1')\n",
    "d2=ppm.yprofile('D2')"
   ]
  },
  {
   "cell_type": "code",
   "execution_count": null,
   "metadata": {
    "collapsed": false
   },
   "outputs": [],
   "source": [
    "d2.dcols"
   ]
  },
  {
   "cell_type": "code",
   "execution_count": null,
   "metadata": {
    "collapsed": false,
    "deletable": true,
    "editable": true
   },
   "outputs": [],
   "source": [
    "# plot a profile\n",
    "ifig=109;close(ifig);figure(ifig)\n",
    "#ything='FV H+He'\n",
    "ything='A'\n",
    "cycs=[0,100]\n",
    "d1.prof_time(cycs,yaxis_thing=ything,radtop=8.0848,ifig=ifig,ls_offset=10,label_case='D1')\n",
    "d2.prof_time(cycs,yaxis_thing=ything,radtop=8.0848,ifig=ifig,ls_offset=5,label_case='D2')\n",
    "\n",
    "xlim(3.5,9.2)\n",
    "#ylim(-8,0)    # FV H+He\n",
    "ylim(0.10209, 0.10262) # log A"
   ]
  },
  {
   "cell_type": "code",
   "execution_count": null,
   "metadata": {
    "collapsed": false,
    "deletable": true,
    "editable": true
   },
   "outputs": [],
   "source": [
    "# plot a profile\n",
    "ifig=110;close(ifig);figure(ifig)\n",
    "ything='FV H+He'\n",
    "#ything='A'\n",
    "cycs=[0,100]\n",
    "d1.prof_time(cycs,yaxis_thing=ything,radtop=8.0848,ifig=ifig,ls_offset=10,\\\n",
    "             label_case='D1, 768',logy=True)\n",
    "d2.prof_time(cycs,yaxis_thing=ything,radtop=8.0848,ifig=ifig,ls_offset=5,\\\n",
    "             label_case='D2, 1536',logy=True)\n",
    "\n",
    "xlim(3.5,9.2)\n",
    "ylim(-4,0)    # FV H+He\n",
    "#ylim(0.10209, 0.10262) # log A"
   ]
  },
  {
   "cell_type": "code",
   "execution_count": null,
   "metadata": {
    "collapsed": false,
    "deletable": true,
    "editable": true
   },
   "outputs": [],
   "source": [
    "# plot a profile\n",
    "ifig=113;close(ifig);figure(ifig)\n",
    "#ything='FV H+He'\n",
    "ything='EkY conv'\n",
    "cycs=[0,100]\n",
    "d1.prof_time(cycs,yaxis_thing=ything,radtop=8.0848,ifig=ifig,ls_offset=10,\\\n",
    "             label_case='D1, 768',logy=True)\n",
    "d2.prof_time(cycs,yaxis_thing=ything,radtop=8.0848,ifig=ifig,ls_offset=5,\\\n",
    "             label_case='D2, 1536',logy=True)\n",
    "\n",
    "xlim(3.5,9.2)\n",
    "#ylim(-4,0)    # FV H+He\n",
    "#ylim(0.10209, 0.10262) # log A"
   ]
  }
 ],
 "metadata": {
  "kernelspec": {
   "display_name": "Python 2",
   "language": "python",
   "name": "python2"
  },
  "language_info": {
   "codemirror_mode": {
    "name": "ipython",
    "version": 2
   },
   "file_extension": ".py",
   "mimetype": "text/x-python",
   "name": "python",
   "nbconvert_exporter": "python",
   "pygments_lexer": "ipython2",
   "version": "2.7.12"
  }
 },
 "nbformat": 4,
 "nbformat_minor": 1
}
