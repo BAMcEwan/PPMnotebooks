{
 "cells": [
  {
   "cell_type": "markdown",
   "metadata": {
    "collapsed": true
   },
   "source": [
    "# Evolution of maximum radial velocity in the convection zone"
   ]
  },
  {
   "cell_type": "code",
   "execution_count": null,
   "metadata": {
    "collapsed": false
   },
   "outputs": [],
   "source": [
    "import nugridpy.utils as utils\n",
    "from ppmppy.ppm import *\n",
    "import numpy as np\n",
    "import matplotlib.pyplot as plt\n",
    "%matplotlib nbagg\n",
    "\n",
    "def get_vr_max_evolution(prof, cycles, r1, r2):\n",
    "    r = prof.get('Y', fname = cycles[0], resolution = 'l')\n",
    "    idx1 = np.argmin(np.abs(r - r1))\n",
    "    idx2 = np.argmin(np.abs(r - r2))\n",
    "\n",
    "    t = np.zeros(len(cycles))\n",
    "    vr_max = np.zeros(len(cycles))\n",
    "    for k in range(len(cycles)):\n",
    "        t[k] = prof.get('t', fname = cycles[k], resolution = 'l')[-1]\n",
    "        vr_rms  = prof.get('EkY', fname = cycles[k], resolution = 'l')**0.5\n",
    "        vr_max[k] = np.max(vr_rms[idx2:idx1])\n",
    "    \n",
    "    return t, vr_max"
   ]
  },
  {
   "cell_type": "code",
   "execution_count": null,
   "metadata": {
    "collapsed": false
   },
   "outputs": [],
   "source": [
    "sparse = 1\n",
    "markevery = 25\n",
    "\n",
    "cycles_D1 = range(0, 332, sparse)\n",
    "prof_D1 = yprofile('/data1/PPM/YProfiles/O-shell-M25/D1')\n",
    "t_D1, vr_max_D1 = get_vr_max_evolution(prof_D1, cycles_D1, 4., 8.)\n",
    "\n",
    "cycles_D2 = range(0, 164, sparse)\n",
    "prof_D2 = yprofile('/data1/PPM/YProfiles/O-shell-M25/D2')\n",
    "t_D2, vr_max_D2 = get_vr_max_evolution(prof_D2, cycles_D2, 4., 8.)\n",
    "\n",
    "cycles_D8 = range(0, 218, sparse)\n",
    "prof_D8 = yprofile('/data1/PPM/YProfiles/O-shell-M25/D8')\n",
    "t_D8, vr_max_D8 = get_vr_max_evolution(prof_D8, cycles_D8, 4., 8.)\n",
    "\n",
    "cycles_D5 = range(0, 224, sparse)\n",
    "prof_D5 = yprofile('/data1/PPM/YProfiles/O-shell-M25/D5')\n",
    "t_D5, vr_max_D5 = get_vr_max_evolution(prof_D5, cycles_D5, 4., 8.)\n",
    "\n",
    "cycles_D6 = range(0, 249, sparse)\n",
    "prof_D6 = yprofile('/data1/PPM/YProfiles/O-shell-M25/D6')\n",
    "t_D6, vr_max_D6 = get_vr_max_evolution(prof_D6, cycles_D6, 4., 8.)\n",
    "\n",
    "cycles_D9 = range(0, 262, sparse)\n",
    "prof_D9 = yprofile('/data1/PPM/YProfiles/O-shell-M25/D9')\n",
    "t_D9, vr_max_D9 = get_vr_max_evolution(prof_D9, cycles_D9, 4., 8.)\n",
    "\n",
    "cycles_D10 = range(0, 263, sparse)\n",
    "prof_D10 = yprofile('/data1/PPM/YProfiles/O-shell-M25/D10')\n",
    "t_D10, vr_max_D10 = get_vr_max_evolution(prof_D10, cycles_D10, 4., 8.)"
   ]
  },
  {
   "cell_type": "code",
   "execution_count": null,
   "metadata": {
    "collapsed": false
   },
   "outputs": [],
   "source": [
    "cb = utils.colourblind\n",
    "ifig = 1; plt.close(ifig); plt.figure(ifig)\n",
    "plt.plot(t_D1/60.,  1e3*vr_max_D1,  color = cb(0), marker = 's', markevery = markevery, label = 'D1')\n",
    "plt.plot(t_D2/60.,  1e3*vr_max_D2,  color = cb(1), marker = 'D', markevery = markevery, label = 'D2')\n",
    "plt.plot(t_D8/60.,  1e3*vr_max_D8,  color = cb(2), marker = 'd', markevery = markevery, label = 'D8')\n",
    "plt.plot(t_D5/60.,  1e3*vr_max_D5,  color = cb(3), marker = 'v', markevery = markevery, label = 'D5')\n",
    "plt.plot(t_D6/60.,  1e3*vr_max_D6,  color = cb(4), marker = '^', markevery = markevery, label = 'D6')\n",
    "plt.plot(t_D9/60.,  1e3*vr_max_D9,  color = cb(5), marker = '>', markevery = markevery, label = 'D9')\n",
    "plt.plot(t_D10/60., 1e3*vr_max_D10, color = cb(6), marker = '<', markevery = markevery, label = 'D10')\n",
    "plt.xlim((0., 60.))\n",
    "plt.ylim((0., 130.))\n",
    "plt.xlabel('t / min')\n",
    "plt.ylabel(r'v$_r$ / km s$^{-1}$')\n",
    "plt.legend(loc = 0)"
   ]
  },
  {
   "cell_type": "code",
   "execution_count": null,
   "metadata": {
    "collapsed": true
   },
   "outputs": [],
   "source": []
  }
 ],
 "metadata": {
  "kernelspec": {
   "display_name": "Python 2",
   "language": "python",
   "name": "python2"
  },
  "language_info": {
   "codemirror_mode": {
    "name": "ipython",
    "version": 2
   },
   "file_extension": ".py",
   "mimetype": "text/x-python",
   "name": "python",
   "nbconvert_exporter": "python",
   "pygments_lexer": "ipython2",
   "version": "2.7.11"
  }
 },
 "nbformat": 4,
 "nbformat_minor": 0
}
