{
 "cells": [
  {
   "cell_type": "markdown",
   "metadata": {},
   "source": [
    "# Renderings of the contributions to the kinetic energy from the radial and tangential motions"
   ]
  },
  {
   "cell_type": "code",
   "execution_count": null,
   "metadata": {
    "collapsed": false
   },
   "outputs": [],
   "source": [
    "import matplotlib.pyplot as plt\n",
    "%matplotlib nbagg\n",
    "import matplotlib.colors as colors\n",
    "import numpy as np\n",
    "import time\n",
    "import moments\n",
    "import ppmpy.ppm as ppm"
   ]
  },
  {
   "cell_type": "code",
   "execution_count": null,
   "metadata": {
    "collapsed": false
   },
   "outputs": [],
   "source": [
    "yp = ppm.yprofile(\"/ppm_data1/rpod2/YProfiles/O-shell-M25/D2/\")\n",
    "moms = moments.Moments(\"/ppm_data1/D2/Moms\", use_e3d=True)"
   ]
  },
  {
   "cell_type": "code",
   "execution_count": null,
   "metadata": {
    "collapsed": true
   },
   "outputs": [],
   "source": [
    "def get_Ekr_Ekt(moms, yp, dump):\n",
    "    r1D = yp.get('Y', fname=dump-1, resolution='l')\n",
    "    #Rho1D = yp.get('Rho', fname=dump-1, resolution='l')\n",
    "    #Rho = moms.fromradprof(r1D, Rho1D)\n",
    "    Rho = moms.get(\"Rho\", dump)\n",
    "    \n",
    "    rad = moments.array([moms.get(\"coord1(Rho)\", dump), \\\n",
    "                         moms.get(\"coord2(Rho)\", dump), \\\n",
    "                         moms.get(\"coord3(Rho)\", dump)])\n",
    "    rad_norm = rad/moments.norm(rad)\n",
    "    RhoU = moments.array([moms.get(\"RhoUx\", dump), \\\n",
    "                          moms.get(\"RhoUy\", dump), \\\n",
    "                          moms.get(\"RhoUz\", dump)])\n",
    "    RhoUr = moments.dot(RhoU, rad_norm)\n",
    "    RhoUt = moments.norm(RhoU - RhoUr*rad_norm)\n",
    "    Ekr = RhoUr*RhoUr/(2.*Rho*Rho)\n",
    "    Ekt = RhoUt*RhoUt/(2.*Rho*Rho)\n",
    "    \n",
    "    return Ekr, Ekt\n",
    "\n",
    "def show_plots(data, vlim, ifig0):\n",
    "    res = 768\n",
    "    norm = colors.LogNorm(vmin=vlim[0], vmax=vlim[1], clip=True)\n",
    "    interpolation = 'spline16'\n",
    "    cmap = 'viridis'\n",
    "\n",
    "    ifig = ifig0; plt.close(ifig); plt.figure(ifig, figsize=(1., 1.), dpi=res)\n",
    "    plt.gca().set_position([0., 0., 1., 1.])\n",
    "    idx = range(192 - 10, 192 + 10)\n",
    "    img = np.sum((1e43/1e27)*data['Ekr'][:, ::-1, idx], axis=2)/len(idx)\n",
    "    img = np.transpose(img)\n",
    "    plt.imshow(img, norm=norm, interpolation=interpolation, cmap=cmap)\n",
    "    plt.axis('off')\n",
    "\n",
    "    ifig = ifig0 + 1; plt.close(ifig); plt.figure(ifig, figsize=(1., 1.), dpi=res)\n",
    "    plt.gca().set_position([0., 0., 1., 1.])\n",
    "    idx = range(192 - 10, 192 + 10)\n",
    "    img = np.sum((1e43/1e27)*data['Ekt'][:, ::-1, idx], axis=2)/len(idx)\n",
    "    img = np.transpose(img)\n",
    "    plt.imshow(img, norm=norm, interpolation=interpolation, cmap=cmap)\n",
    "    plt.axis('off')\n"
   ]
  },
  {
   "cell_type": "code",
   "execution_count": null,
   "metadata": {
    "collapsed": true
   },
   "outputs": [],
   "source": [
    "data = [{}, {}, {}, {}, {}]"
   ]
  },
  {
   "cell_type": "code",
   "execution_count": null,
   "metadata": {
    "collapsed": false
   },
   "outputs": [],
   "source": [
    "idx = 0\n",
    "data[idx]['dump'] = 100\n",
    "\n",
    "t0 = time.time()\n",
    "data[idx]['Ekr'], data[idx]['Ekt'] = get_Ekr_Ekt(moms, yp, data[idx]['dump'])\n",
    "t1 = time.time()\n",
    "print 'Data acquisition took {:.0f} s.'.format(t1 - t0)"
   ]
  },
  {
   "cell_type": "code",
   "execution_count": null,
   "metadata": {
    "collapsed": false
   },
   "outputs": [],
   "source": [
    "show_plots(data[0], (3e10, 5e13), 1)"
   ]
  },
  {
   "cell_type": "code",
   "execution_count": null,
   "metadata": {
    "collapsed": true
   },
   "outputs": [],
   "source": []
  }
 ],
 "metadata": {
  "kernelspec": {
   "display_name": "Python 2",
   "language": "python",
   "name": "python2"
  },
  "language_info": {
   "codemirror_mode": {
    "name": "ipython",
    "version": 2
   },
   "file_extension": ".py",
   "mimetype": "text/x-python",
   "name": "python",
   "nbconvert_exporter": "python",
   "pygments_lexer": "ipython2",
   "version": "2.7.11"
  }
 },
 "nbformat": 4,
 "nbformat_minor": 0
}
