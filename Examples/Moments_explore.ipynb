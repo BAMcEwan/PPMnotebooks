{
 "cells": [
  {
   "cell_type": "code",
   "execution_count": null,
   "metadata": {
    "collapsed": false,
    "deletable": true,
    "editable": true
   },
   "outputs": [],
   "source": [
    "%pylab \n",
    "#from matplotlib import pyplot\n",
    "import moments"
   ]
  },
  {
   "cell_type": "code",
   "execution_count": null,
   "metadata": {
    "collapsed": false,
    "deletable": true,
    "editable": true
   },
   "outputs": [],
   "source": [
    "data_dir = \"/ppm_data1/D2/\"\n",
    "data_type = \"Moms\"\n",
    "\n",
    "data = moments.Moments(data_dir+data_type)\n",
    "cycle = 100\n",
    "rho = data.get(\"Rho\", cycle)\n",
    "p = moments.array([data.get(\"RhoUx\", cycle), data.get(\"RhoUy\", cycle), data.get(\"RhoUz\", cycle)])\n",
    "Ek = moments.dot(p, p)/(2.0*rho)\n",
    "mid_pt = int(len(rho)/2.0)"
   ]
  },
  {
   "cell_type": "code",
   "execution_count": null,
   "metadata": {
    "collapsed": false,
    "deletable": true,
    "editable": true
   },
   "outputs": [],
   "source": [
    "figure(1)\n",
    "imshow(rho[:, :, mid_pt])\n",
    "title(\"Density cross section\")\n",
    "colorbar()\n",
    "#pyplot.show()"
   ]
  },
  {
   "cell_type": "code",
   "execution_count": null,
   "metadata": {
    "collapsed": false,
    "deletable": true,
    "editable": true
   },
   "outputs": [],
   "source": [
    "figure(2)\n",
    "plot(data.raxis, moments.radprof(rho))\n",
    "title(\"Density profile\")\n",
    "xlabel(\"Radius\")\n",
    "ylabel(\"Density\")\n"
   ]
  },
  {
   "cell_type": "code",
   "execution_count": null,
   "metadata": {
    "collapsed": false,
    "deletable": true,
    "editable": true
   },
   "outputs": [],
   "source": [
    "figure(3)\n",
    "imshow(Ek[:, :, mid_pt])\n",
    "title(\"Kinetic energy cross section\")\n",
    "colorbar()"
   ]
  },
  {
   "cell_type": "code",
   "execution_count": null,
   "metadata": {
    "collapsed": false,
    "deletable": true,
    "editable": true
   },
   "outputs": [],
   "source": [
    "figure(4)\n",
    "plot(data.raxis, moments.radprof(Ek))\n",
    "title(\"Kinetic energy profile\")\n",
    "xlabel(\"Radius\")\n",
    "ylabel(\"Kinetic energy\")\n"
   ]
  },
  {
   "cell_type": "code",
   "execution_count": null,
   "metadata": {
    "collapsed": true,
    "deletable": true,
    "editable": true
   },
   "outputs": [],
   "source": []
  }
 ],
 "metadata": {
  "kernelspec": {
   "display_name": "Python 2",
   "language": "python",
   "name": "python2"
  },
  "language_info": {
   "codemirror_mode": {
    "name": "ipython",
    "version": 2
   },
   "file_extension": ".py",
   "mimetype": "text/x-python",
   "name": "python",
   "nbconvert_exporter": "python",
   "pygments_lexer": "ipython2",
   "version": "2.7.12"
  }
 },
 "nbformat": 4,
 "nbformat_minor": 0
}
