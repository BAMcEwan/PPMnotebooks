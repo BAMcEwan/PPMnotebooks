{
 "cells": [
  {
   "cell_type": "code",
   "execution_count": null,
   "metadata": {
    "collapsed": true
   },
   "outputs": [],
   "source": [
    "from matplotlib import pyplot\n",
    "import moments"
   ]
  },
  {
   "cell_type": "code",
   "execution_count": null,
   "metadata": {
    "collapsed": true
   },
   "outputs": [],
   "source": [
    "data = moments.Moments(\"/data1/D2/Moms/\")\n",
    "cycle = 100\n",
    "rho = data.get(\"Rho\", cycle)\n",
    "p = moments.array([data.get(\"RhoUx\", cycle), data.get(\"RhoUy\", cycle), data.get(\"RhoUz\", cycle)])\n",
    "Ek = moments.dot(p, p)/(2.0*rho)\n",
    "mid_pt = int(len(rho)/2.0)"
   ]
  },
  {
   "cell_type": "code",
   "execution_count": null,
   "metadata": {
    "collapsed": false
   },
   "outputs": [],
   "source": [
    "pyplot.imshow(rho[:, :, mid_pt])\n",
    "pyplot.title(\"Density cross section\")\n",
    "pyplot.colorbar()\n",
    "pyplot.show()\n",
    "\n",
    "pyplot.plot(data.raxis, moments.radprof(rho))\n",
    "pyplot.title(\"Density profile\")\n",
    "pyplot.xlabel(\"Radius\")\n",
    "pyplot.ylabel(\"Density\")\n",
    "pyplot.show()"
   ]
  },
  {
   "cell_type": "code",
   "execution_count": null,
   "metadata": {
    "collapsed": false
   },
   "outputs": [],
   "source": [
    "pyplot.imshow(Ek[:, :, mid_pt])\n",
    "pyplot.title(\"Kinetic energy cross section\")\n",
    "pyplot.colorbar()\n",
    "pyplot.show()\n",
    "\n",
    "pyplot.plot(data.raxis, moments.radprof(Ek))\n",
    "pyplot.title(\"Kinetic energy profile\")\n",
    "pyplot.xlabel(\"Radius\")\n",
    "pyplot.ylabel(\"Kinetic energy\")\n",
    "pyplot.show()"
   ]
  },
  {
   "cell_type": "code",
   "execution_count": null,
   "metadata": {
    "collapsed": true
   },
   "outputs": [],
   "source": []
  }
 ],
 "metadata": {
  "kernelspec": {
   "display_name": "Python 2",
   "language": "python",
   "name": "python2"
  },
  "language_info": {
   "codemirror_mode": {
    "name": "ipython",
    "version": 2
   },
   "file_extension": ".py",
   "mimetype": "text/x-python",
   "name": "python",
   "nbconvert_exporter": "python",
   "pygments_lexer": "ipython2",
   "version": "2.7.9"
  }
 },
 "nbformat": 4,
 "nbformat_minor": 0
}
