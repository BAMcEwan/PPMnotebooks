{
 "cells": [
  {
   "cell_type": "markdown",
   "metadata": {},
   "source": [
    "# Entrainment rate in the D1 run (1x heating, 768^3)"
   ]
  },
  {
   "cell_type": "code",
   "execution_count": null,
   "metadata": {
    "collapsed": false
   },
   "outputs": [],
   "source": [
    "from ppm import *\n",
    "import utils\n",
    "import numpy as np\n",
    "import matplotlib.pyplot as plt\n",
    "import astronomy as ast\n",
    "%matplotlib nbagg\n",
    "\n",
    "case = 'D1'\n",
    "resolution = 768\n",
    "\n",
    "prof = yprofile('/data1/PPM/YProfiles/O-shell-M25/{:s}'.format(case))\n",
    "mdot_plot_file_name = 'entrainment_rate_{:s}.pdf'.format(case)\n",
    "mdot_data_file_name = 'entrainment_rate_{:s}.txt'.format(case)\n",
    "mdot_curve_label = r'{:s} $\\left( {:d}^3 \\right)$'.format(case, resolution)"
   ]
  },
  {
   "cell_type": "code",
   "execution_count": null,
   "metadata": {
    "collapsed": false,
    "scrolled": false
   },
   "outputs": [],
   "source": [
    "cycles = range(150, 332, 1)\n",
    "mdot = prof.entrainment_rate(cycles, 7.5, 8.5, var = 'vxz', criterion = 'min_grad', offset = -1., \\\n",
    "       integrate_both_fluids = False, ifig0 = 3, mdot_curve_label = mdot_curve_label, \\\n",
    "       show_fits = True)"
   ]
  },
  {
   "cell_type": "code",
   "execution_count": null,
   "metadata": {
    "collapsed": true
   },
   "outputs": [],
   "source": []
  }
 ],
 "metadata": {
  "kernelspec": {
   "display_name": "Python 2",
   "language": "python",
   "name": "python2"
  },
  "language_info": {
   "codemirror_mode": {
    "name": "ipython",
    "version": 2
   },
   "file_extension": ".py",
   "mimetype": "text/x-python",
   "name": "python",
   "nbconvert_exporter": "python",
   "pygments_lexer": "ipython2",
   "version": "2.7.11"
  }
 },
 "nbformat": 4,
 "nbformat_minor": 0
}
