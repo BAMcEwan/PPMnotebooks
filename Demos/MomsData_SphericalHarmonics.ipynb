{
 "cells": [
  {
   "cell_type": "code",
   "execution_count": null,
   "metadata": {},
   "outputs": [],
   "source": [
    "%matplotlib inline\n",
    "import numpy as np\n",
    "import matplotlib.pyplot as plt\n",
    "import matplotlib.tri as tri\n",
    "import matplotlib.colors as colors\n",
    "import nugridpy.utils as utils\n",
    "import sys\n",
    "import logging\n",
    "import collections\n",
    "import os\n",
    "\n",
    "# you can use sys.path.insert to add your own cloned copy of PyPPM which you can modify\n",
    "# sys.path.insert(0,'/home/user/home/PyPPM/')\n",
    "from ppmpy import ppm\n",
    "\n",
    "# spherical harmonics tools\n",
    "import pyshtools.expand \n",
    "import pyshtools.spectralanalysis\n",
    "\n",
    "# plotting utilities\n",
    "ifig = 0\n",
    "ptrack = {}\n",
    "cb = utils.linestylecb # colours\n",
    "\n",
    "# create smaller labelsizes on axes\n",
    "plt.rc('xtick', labelsize=7)\n",
    "plt.rc('ytick', labelsize=7)\n",
    "\n",
    "# named tuple for using rprofs and momsdata\n",
    "hydro = collections.namedtuple('hydro', ['moms','rprof'])\n",
    "\n",
    "# turn off matplotlib messages\n",
    "logging.getLogger(\"matplotlib\").setLevel(logging.CRITICAL)"
   ]
  },
  {
   "cell_type": "code",
   "execution_count": null,
   "metadata": {},
   "outputs": [],
   "source": [
    "# load in data, use LowZRAWD N16\n",
    "moms_dir = '/data/ASDR/PPMstar/LowZRAWD/N16-LowZRAWD-1536-10x-burn-moms/myavsbq'\n",
    "rprof_dir = '/data/ASDR/PPMstar/LowZRAWD/N16-LowZRAWD-1536-10x-burn-moms/prfs/'\n",
    "\n",
    "# the list of variables that are stored within the momsdata cube.\n",
    "var_list = ['xc','ux','uy','uz','|ut|','|ur|','|w|','P','rho','fv']\n",
    "\n",
    "# the dump to plot. read this in immediately \n",
    "mydump = 650\n",
    "\n",
    "# for mppnp runs of N16, there is an associated mass coordinates that define the convection zone\n",
    "# these are used to use radii within the convection zone only\n",
    "mtop = 2.991384128949e+04\n",
    "mbot = 1.149874300454e+04\n",
    "\n",
    "# create the \"hydro\" tuple\n",
    "n16 = hydro(ppm.MomsDataSet(moms_dir,mydump,2,var_list,rprofset=ppm.RprofSet(rprof_dir)),\n",
    "              ppm.RprofSet(rprof_dir))"
   ]
  },
  {
   "cell_type": "markdown",
   "metadata": {},
   "source": [
    "## Compute the Spectrum of Ur"
   ]
  },
  {
   "cell_type": "code",
   "execution_count": null,
   "metadata": {},
   "outputs": [],
   "source": [
    "# get the radius and mass rprof so that we can interpolate to the mtop and mbot of the convection zone\n",
    "r = n16.rprof.get('R',fname=0,resolution='l')\n",
    "m = n16.rprof.compute_m(fname=mydump)\n",
    "\n",
    "# interpolate\n",
    "rbot = ppm.interpolate(m,r,mbot)\n",
    "rtop = ppm.interpolate(m,r,mtop)\n",
    "\n",
    "# spectrogram radii with a spacing of 2*deex (half a moms cell)\n",
    "step = 2*n16.rprof.get('deex',fname=0)\n",
    "radii = np.linspace(rbot, rtop, int((rtop - rbot)/step))\n",
    "\n",
    "# to store the power per l at each and plot with imshow, there must be a constant sized array. For most \n",
    "# radii I cannot resolve a large l so those coefficients will be zero\n",
    "max_l = n16.moms.sphericalHarmonics_lmax(radii.max())[0]\n",
    "\n",
    "# arrays to hold lmax at a radius and the power at r as a function of l\n",
    "power_ur_l_r = np.zeros((max_l, len(radii)))\n",
    "lmax_r = np.zeros(len(radii))"
   ]
  },
  {
   "cell_type": "code",
   "execution_count": null,
   "metadata": {},
   "outputs": [],
   "source": [
    "# grab the radial velocity on the grid\n",
    "ur = n16.moms.get_spherical_components('ux','uy','uz',fname=mydump)[0]\n",
    "\n",
    "# for every radii in the convection zone\n",
    "for i,radius in enumerate(radii):\n",
    "    \n",
    "    # what is the maximum l mode that I can resolve at my radius?\n",
    "    mylmax, N, npoints = n16.moms.sphericalHarmonics_lmax(radius)\n",
    "    lmax_r[i] = mylmax\n",
    "    \n",
    "    # get the interpolated values of ur on a sphere. These must be sampled a certain way in theta and phi\n",
    "    # so that pyshtools can efficiently calculate the spherical harmonics (uses a fourier transform)\n",
    "    ur_interp = n16.moms.sphericalHarmonics_format(ur, radius, lmax=mylmax)\n",
    "        \n",
    "    # get coefficients and compute the power, drop l=0, it is just the mean!\n",
    "    coeffs = pyshtools.expand.SHExpandDH(ur_interp, sampling=2)\n",
    "    power_ur_l_r[0:mylmax,i] = pyshtools.spectralanalysis.spectrum(coeffs, unit='per_l')[1:]"
   ]
  },
  {
   "cell_type": "markdown",
   "metadata": {},
   "source": [
    "Plot all modes as a function of radius"
   ]
  },
  {
   "cell_type": "code",
   "execution_count": null,
   "metadata": {},
   "outputs": [],
   "source": [
    "# celln\n",
    "celln = 0\n",
    "\n",
    "# configure plots\n",
    "close_local = ppm.close_plot(celln,ifig,ptrack)\n",
    "if close_local[0]:\n",
    "    plt.close(fig); ifig += 1; fig = plt.figure(ifig,figsize=(6,3.5),dpi=300)\n",
    "    ppm.add_plot(celln,ifig,ptrack)\n",
    "else:\n",
    "    ifig += 1; fig = plt.figure(ifig,figsize=(6,3.5),dpi=300)\n",
    "    ppm.add_plot(celln,ifig,ptrack)\n",
    "\n",
    "ax = fig.add_subplot(111)\n",
    "plt.rc('xtick', labelsize=7)\n",
    "plt.rc('ytick', labelsize=7)\n",
    "    \n",
    "# scale the power by the maximum within that array\n",
    "scaled_power = power_ur_l_r/ np.max(power_ur_l_r,axis=0)[np.newaxis, :]\n",
    "\n",
    "# normalize logarithmically\n",
    "vmax = 1.0\n",
    "vmin = 1e-4\n",
    "lognorm = colors.LogNorm(vmin=vmin, vmax=vmax, clip=True)\n",
    "\n",
    "# imshow of the scaled power\n",
    "ax.imshow(scaled_power,interpolation='none',origin='lower',norm=lognorm,aspect='auto',\n",
    "         extent=(radii[0]-0.5*np.diff(radii)[0],radii[-1] + 0.5*np.diff(radii)[0],0.5,0.5+max_l))\n",
    "\n",
    "# create a colorbar for the axs1 tripcolor, use a new axes for it\n",
    "cbar1 = fig.colorbar(ax.images[0], ax=ax, orientation='vertical', \n",
    "             label=r'S$_{cc}(\\ell, r)$ / Max(S$_{cc}(r)$)',aspect=25)\n",
    "\n",
    "# plot details\n",
    "ax.set_xlabel('r / Mm')\n",
    "ax.set_ylabel(r'$\\ell$')\n",
    "fig.tight_layout()"
   ]
  },
  {
   "cell_type": "code",
   "execution_count": null,
   "metadata": {},
   "outputs": [],
   "source": []
  }
 ],
 "metadata": {
  "kernelspec": {
   "display_name": "Python 3",
   "language": "python",
   "name": "python3"
  },
  "language_info": {
   "codemirror_mode": {
    "name": "ipython",
    "version": 3
   },
   "file_extension": ".py",
   "mimetype": "text/x-python",
   "name": "python",
   "nbconvert_exporter": "python",
   "pygments_lexer": "ipython3",
   "version": "3.6.7"
  }
 },
 "nbformat": 4,
 "nbformat_minor": 2
}
