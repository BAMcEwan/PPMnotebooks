{
 "cells": [
  {
   "cell_type": "markdown",
   "metadata": {},
   "source": [
    "# Mollweide Gui"
   ]
  },
  {
   "cell_type": "code",
   "execution_count": 1,
   "metadata": {},
   "outputs": [
    {
     "name": "stdout",
     "output_type": "stream",
     "text": [
      "Populating the interactive namespace from numpy and matplotlib\n"
     ]
    }
   ],
   "source": [
    "%pylab ipympl"
   ]
  },
  {
   "cell_type": "code",
   "execution_count": 2,
   "metadata": {},
   "outputs": [
    {
     "name": "stdout",
     "output_type": "stream",
     "text": [
      "/user/scratch14_ppmstar/bamcewan/repos/PyPPM/ppmpy/ppm.py\n"
     ]
    }
   ],
   "source": [
    "import sys\n",
    "import inspect\n",
    "import logging\n",
    "import collections\n",
    "\n",
    "# if you make changes to the ppmpy module (e.g. add your analysis methods via a pull \n",
    "# request) in the https://github.com/PPMstar/PyPPM repo you may want use that \n",
    "# updated version\n",
    "sys.path.insert(0, '/user/scratch14_ppmstar/bamcewan/repos/PyPPM/')\n",
    "from ppmpy import ppm\n",
    "print(inspect.getfile(ppm))\n",
    "\n",
    "# turn off matplotlib messages\n",
    "logging.getLogger(\"matplotlib\").setLevel(logging.CRITICAL)"
   ]
  },
  {
   "cell_type": "code",
   "execution_count": 3,
   "metadata": {},
   "outputs": [
    {
     "name": "stdout",
     "output_type": "stream",
     "text": [
      "1618 rprof files found in '/data/ASDR/PPMstar/LowZRAWD/N16-LowZRAWD-1536-10x-burn-moms/prfs/.\n",
      "Dump numbers range from 0 to 1617.\n",
      "1616 .aaa files found in '/data/ASDR/PPMstar/LowZRAWD/N16-LowZRAWD-1536-10x-burn-moms/myavsbq/.\n",
      "Dump numbers range from 0 to 1615.\n"
     ]
    }
   ],
   "source": [
    "# load in data, use LowZRAWD N16\n",
    "rprof_dir = '/data/ASDR/PPMstar/LowZRAWD/N16-LowZRAWD-1536-10x-burn-moms/prfs/'\n",
    "moms_dir = '/data/ASDR/PPMstar/LowZRAWD/N16-LowZRAWD-1536-10x-burn-moms/myavsbq'\n",
    "\n",
    "# get rprof and moms datasets\n",
    "rprof_data = ppm.RprofSet(rprof_dir)\n",
    "moms_data = ppm.MomsDataSet(moms_dir, 0, rprofset=rprof_data)\n",
    "\n",
    "# define 'hydro' and get n16 data\n",
    "hydro = collections.namedtuple('hydro', ['moms','rprof'])\n",
    "n16 = hydro(moms_data, rprof_data)\n",
    "\n",
    "# load constants\n",
    "constants = {\n",
    "    'atomicnoH': 1.,\n",
    "    'atomicnocld': n16.rprof.get('atomicnocld',fname=0),\n",
    "    'fkcld': n16.rprof.get('fkcld',fname=0),\n",
    "    'airmu': n16.rprof.get('airmu',fname=0),\n",
    "    'cldmu': n16.rprof.get('cldmu',fname=0)\n",
    "}"
   ]
  },
  {
   "cell_type": "code",
   "execution_count": 4,
   "metadata": {},
   "outputs": [
    {
     "name": "stderr",
     "output_type": "stream",
     "text": [
      "/user/scratch14_ppmstar/bamcewan/repos/PyPPM/ppmpy/ppm.py:12100: RuntimeWarning: invalid value encountered in log\n",
      "  plot_val = np.log(plot_val)\n"
     ]
    },
    {
     "data": {
      "application/vnd.jupyter.widget-view+json": {
       "model_id": "982054d29cdc40ea8acebfd819a78125",
       "version_major": 2,
       "version_minor": 0
      },
      "text/plain": [
       "Tab(children=(HBox(children=(VBox(children=(IntSlider(value=1076, continuous_update=False, description='Dump',…"
      ]
     },
     "metadata": {},
     "output_type": "display_data"
    },
    {
     "data": {
      "application/vnd.jupyter.widget-view+json": {
       "model_id": "5faf0d42d8c24bbea041e8375d773594",
       "version_major": 2,
       "version_minor": 0
      },
      "text/plain": [
       "Output()"
      ]
     },
     "metadata": {},
     "output_type": "display_data"
    }
   ],
   "source": [
    "n16.moms.mollweide_gui(constants)"
   ]
  },
  {
   "cell_type": "code",
   "execution_count": null,
   "metadata": {},
   "outputs": [],
   "source": []
  }
 ],
 "metadata": {
  "kernelspec": {
   "display_name": "Python 3",
   "language": "python",
   "name": "python3"
  },
  "language_info": {
   "codemirror_mode": {
    "name": "ipython",
    "version": 3
   },
   "file_extension": ".py",
   "mimetype": "text/x-python",
   "name": "python",
   "nbconvert_exporter": "python",
   "pygments_lexer": "ipython3",
   "version": "3.6.8"
  }
 },
 "nbformat": 4,
 "nbformat_minor": 4
}
