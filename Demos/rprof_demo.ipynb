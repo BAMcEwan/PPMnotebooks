{
 "cells": [
  {
   "cell_type": "code",
   "execution_count": 1,
   "metadata": {},
   "outputs": [],
   "source": [
    "import sys, os\n",
    "#sys.path.append('/user/PyPPM')\n",
    "from ppmpy import ppm\n",
    "from matplotlib import pyplot as plt\n",
    "import logging\n",
    "import math\n",
    "logging.getLogger(\"matplotlib\").setLevel(logging.ERROR)"
   ]
  },
  {
   "cell_type": "code",
   "execution_count": 2,
   "metadata": {},
   "outputs": [],
   "source": [
    "def list_columns(obj, cols=6, columnwise=True, gap=4):\n",
    "    \"\"\"\n",
    "    Print the given list in evenly-spaced columns.\n",
    "\n",
    "    Parameters\n",
    "    ----------\n",
    "    obj : list\n",
    "        The list to be printed.\n",
    "    cols : int\n",
    "        The number of columns in which the list should be printed.\n",
    "    columnwise : bool, default=True\n",
    "        If True, the items in the list will be printed column-wise.\n",
    "        If False the items in the list will be printed row-wise.\n",
    "    gap : int\n",
    "        The number of spaces that should separate the longest column\n",
    "        item/s from the next column. This is the effective spacing\n",
    "        between columns based on the maximum len() of the list items.\n",
    "    \"\"\"\n",
    "\n",
    "    sobj = [str(item) for item in obj]\n",
    "    if cols > len(sobj): cols = len(sobj)\n",
    "    max_len = max([len(item) for item in sobj])\n",
    "    if columnwise: cols = int(math.ceil(float(len(sobj)) / float(cols)))\n",
    "    plist = [sobj[i: i+cols] for i in range(0, len(sobj), cols)]\n",
    "    if columnwise:\n",
    "        if not len(plist[-1]) == cols:\n",
    "            plist[-1].extend(['']*(len(sobj) - len(plist[-1])))\n",
    "        plist = zip(*plist)\n",
    "    printer = '\\n'.join([\n",
    "        ''.join([c.ljust(max_len + gap) for c in p])\n",
    "        for p in plist])\n",
    "    print(printer)"
   ]
  },
  {
   "cell_type": "markdown",
   "metadata": {},
   "source": [
    "# Initialisation"
   ]
  },
  {
   "cell_type": "code",
   "execution_count": 3,
   "metadata": {
    "scrolled": false
   },
   "outputs": [
    {
     "name": "stdout",
     "output_type": "stream",
     "text": [
      "2413 rprof files found in '/data/ASDR/H-core-M25/M29-768/rprofs/.\n",
      "Dump numbers range from 0 to 2412.\n"
     ]
    }
   ],
   "source": [
    "dir_repo    = '/data/ASDR'\n",
    "dir_project = 'H-core-M25'\n",
    "run         = 'M29-768'\n",
    "path = os.path.join(dir_repo,dir_project,run,'rprofs')\n",
    "rp_set = ppm.RprofSet(path)"
   ]
  },
  {
   "cell_type": "markdown",
   "metadata": {},
   "source": [
    "# Run history"
   ]
  },
  {
   "cell_type": "code",
   "execution_count": 4,
   "metadata": {},
   "outputs": [],
   "source": [
    "rp_hst = rp_set.get_history()"
   ]
  },
  {
   "cell_type": "code",
   "execution_count": 5,
   "metadata": {},
   "outputs": [
    {
     "data": {
      "text/plain": [
       "['NDump',\n",
       " 'NCycle',\n",
       " 'time(secs)',\n",
       " 'time(mins)',\n",
       " 'dt(secs)',\n",
       " 'Courant',\n",
       " 'MachNoMax',\n",
       " 'TotalFlops',\n",
       " 'TimeStamp']"
      ]
     },
     "execution_count": 5,
     "metadata": {},
     "output_type": "execute_result"
    }
   ],
   "source": [
    "rp_hst.get_variables()"
   ]
  },
  {
   "cell_type": "code",
   "execution_count": 6,
   "metadata": {
    "scrolled": false
   },
   "outputs": [
    {
     "name": "stdout",
     "output_type": "stream",
     "text": [
      "0       156     321     486     651     789     954     1119    1284    1449    1598    1763    1928    2093    2258    \n",
      "1       157     322     487     652     790     955     1120    1285    1450    1599    1764    1929    2094    2259    \n",
      "2       158     323     488     653     791     956     1121    1286    1451    1600    1765    1930    2095    2260    \n",
      "3       159     324     489     654     792     957     1122    1287    1452    1601    1766    1931    2096    2261    \n",
      "4       160     325     490     655     793     958     1123    1288    1453    1602    1767    1932    2097    2262    \n",
      "5       161     326     491     656     794     959     1124    1289    1454    1603    1768    1933    2098    2263    \n",
      "6       162     327     492     657     795     960     1125    1290    1455    1604    1769    1934    2099    2264    \n",
      "7       163     328     493     658     796     961     1126    1291    1456    1605    1770    1935    2100    2265    \n",
      "8       164     329     494     659     797     962     1127    1292    1457    1606    1771    1936    2101    2266    \n",
      "9       165     330     495     660     798     963     1128    1293    1458    1607    1772    1937    2102    2267    \n",
      "10      166     331     496     661     799     964     1129    1294    1459    1608    1773    1938    2103    2268    \n",
      "11      167     332     497     662     800     965     1130    1295    1460    1609    1774    1939    2104    2269    \n",
      "12      168     333     498     663     801     966     1131    1296    1461    1610    1775    1940    2105    2270    \n",
      "13      169     334     499     664     802     967     1132    1297    1462    1611    1776    1941    2106    2271    \n",
      "14      170     335     500     665     803     968     1133    1298    1463    1612    1777    1942    2107    2272    \n",
      "15      171     336     501     666     804     969     1134    1299    1464    1613    1778    1943    2108    2273    \n",
      "16      172     337     502     667     805     970     1135    1300    1465    1614    1779    1944    2109    2274    \n",
      "17      173     338     503     668     806     971     1136    1301    1466    1615    1780    1945    2110    2275    \n",
      "18      174     339     504     669     807     972     1137    1302    1467    1616    1781    1946    2111    2276    \n",
      "19      175     340     505     670     808     973     1138    1303    1468    1617    1782    1947    2112    2277    \n",
      "20      176     341     506     671     809     974     1139    1304    1469    1618    1783    1948    2113    2278    \n",
      "21      177     342     507     672     810     975     1140    1305    1470    1619    1784    1949    2114    2279    \n",
      "22      178     343     508     673     811     976     1141    1306    1471    1620    1785    1950    2115    2280    \n",
      "23      179     344     509     674     812     977     1142    1307    1472    1621    1786    1951    2116    2281    \n",
      "24      180     345     510     675     813     978     1143    1308    1473    1622    1787    1952    2117    2282    \n",
      "25      181     346     511     676     814     979     1144    1309    1474    1623    1788    1953    2118    2283    \n",
      "26      182     347     512     677     815     980     1145    1310    1475    1624    1789    1954    2119    2284    \n",
      "27      183     348     513     678     816     981     1146    1311    1476    1625    1790    1955    2120    2285    \n",
      "28      184     349     514     679     817     982     1147    1312    1477    1626    1791    1956    2121    2286    \n",
      "29      185     350     515     680     818     983     1148    1313    1478    1627    1792    1957    2122    2287    \n",
      "30      186     351     516     681     819     984     1149    1314    1479    1628    1793    1958    2123    2288    \n",
      "31      187     352     517     682     820     985     1150    1315    1480    1629    1794    1959    2124    2289    \n",
      "32      188     353     518     683     821     986     1151    1316    1481    1630    1795    1960    2125    2290    \n",
      "33      189     354     519     684     822     987     1152    1317    1482    1631    1796    1961    2126    2291    \n",
      "34      190     355     520     685     823     988     1153    1318    1483    1632    1797    1962    2127    2292    \n",
      "35      191     356     521     686     824     989     1154    1319    1484    1633    1798    1963    2128    2293    \n",
      "36      192     357     522     687     825     990     1155    1320    1485    1634    1799    1964    2129    2294    \n",
      "37      193     358     523     688     826     991     1156    1321    1486    1635    1800    1965    2130    2295    \n",
      "38      194     359     524     689     827     992     1157    1322    1487    1636    1801    1966    2131    2296    \n",
      "39      195     360     525     690     828     993     1158    1323    1488    1637    1802    1967    2132    2297    \n",
      "40      196     361     526     691     829     994     1159    1324    1489    1638    1803    1968    2133    2298    \n",
      "41      197     362     527     692     830     995     1160    1325    1490    1639    1804    1969    2134    2299    \n",
      "42      198     363     528     693     831     996     1161    1326    1491    1640    1805    1970    2135    2300    \n",
      "43      199     364     529     694     832     997     1162    1327    1492    1641    1806    1971    2136    2301    \n",
      "44      200     365     530     695     833     998     1163    1328    1493    1642    1807    1972    2137    2302    \n",
      "45      201     366     531     696     834     999     1164    1329    1494    1643    1808    1973    2138    2303    \n",
      "46      202     367     532     697     835     1000    1165    1330    1495    1644    1809    1974    2139    2304    \n",
      "47      203     368     533     698     836     1001    1166    1331    1496    1645    1810    1975    2140    2305    \n",
      "48      204     369     534     699     837     1002    1167    1332    1497    1646    1811    1976    2141    2306    \n",
      "49      205     370     535     700     838     1003    1168    1333    1498    1647    1812    1977    2142    2307    \n",
      "50      206     371     536     701     839     1004    1169    1334    1499    1648    1813    1978    2143    2308    \n",
      "51      207     372     537     702     840     1005    1170    1335    1500    1649    1814    1979    2144    2309    \n",
      "52      208     373     538     703     841     1006    1171    1336    1501    1650    1815    1980    2145    2310    \n",
      "53      209     374     539     704     842     1007    1172    1337    1502    1651    1816    1981    2146    2311    \n",
      "54      210     375     540     705     843     1008    1173    1338    1503    1652    1817    1982    2147    2312    \n",
      "55      211     376     541     706     844     1009    1174    1339    1504    1653    1818    1983    2148    2313    \n",
      "56      212     377     542     707     845     1010    1175    1340    1505    1654    1819    1984    2149    2314    \n",
      "57      213     378     543     708     846     1011    1176    1341    1506    1655    1820    1985    2150    2315    \n",
      "58      214     379     544     709     847     1012    1177    1342    1507    1656    1821    1986    2151    2316    \n",
      "59      215     380     545     710     848     1013    1178    1343    1508    1657    1822    1987    2152    2317    \n",
      "60      216     381     546     711     849     1014    1179    1344    1509    1658    1823    1988    2153    2318    \n",
      "61      217     382     547     712     850     1015    1180    1345    1510    1659    1824    1989    2154    2319    \n",
      "62      218     383     548     713     851     1016    1181    1346    1511    1660    1825    1990    2155    2320    \n",
      "63      219     384     549     714     852     1017    1182    1347    1512    1661    1826    1991    2156    2321    \n",
      "64      220     385     550     715     853     1018    1183    1348    1513    1662    1827    1992    2157    2322    \n",
      "65      221     386     551     716     854     1019    1184    1349    1514    1663    1828    1993    2158    2323    \n",
      "66      222     387     552     717     855     1020    1185    1350    1515    1664    1829    1994    2159    2324    \n",
      "67      223     388     553     718     856     1021    1186    1351    1516    1665    1830    1995    2160    2325    \n",
      "68      224     389     554     719     857     1022    1187    1352    1501    1666    1831    1996    2161    2326    \n",
      "69      225     390     555     720     858     1023    1188    1353    1502    1667    1832    1997    2162    2327    \n",
      "61      226     391     556     721     859     1024    1189    1354    1503    1668    1833    1998    2163    2328    \n",
      "62      227     392     557     722     860     1025    1190    1355    1504    1669    1834    1999    2164    2329    \n",
      "63      228     393     558     723     861     1026    1191    1356    1505    1670    1835    2000    2165    2330    \n",
      "64      229     394     559     724     862     1027    1192    1357    1506    1671    1836    2001    2166    2331    \n",
      "65      230     395     560     725     863     1028    1193    1358    1507    1672    1837    2002    2167    2332    \n",
      "66      231     396     561     726     864     1029    1194    1359    1508    1673    1838    2003    2168    2333    \n",
      "67      232     397     562     727     865     1030    1195    1360    1509    1674    1839    2004    2169    2334    \n",
      "68      233     398     563     728     866     1031    1196    1361    1510    1675    1840    2005    2170    2335    \n",
      "69      234     399     564     729     867     1032    1197    1362    1511    1676    1841    2006    2171    2336    \n",
      "70      235     400     565     730     868     1033    1198    1363    1512    1677    1842    2007    2172    2337    \n",
      "71      236     401     566     731     869     1034    1199    1364    1513    1678    1843    2008    2173    2338    \n",
      "72      237     402     567     732     870     1035    1200    1365    1514    1679    1844    2009    2174    2339    \n",
      "73      238     403     568     733     871     1036    1201    1366    1515    1680    1845    2010    2175    2340    \n",
      "74      239     404     569     734     872     1037    1202    1367    1516    1681    1846    2011    2176    2341    \n",
      "75      240     405     570     735     873     1038    1203    1368    1517    1682    1847    2012    2177    2342    \n",
      "76      241     406     571     736     874     1039    1204    1369    1518    1683    1848    2013    2178    2343    \n",
      "77      242     407     572     737     875     1040    1205    1370    1519    1684    1849    2014    2179    2344    \n",
      "78      243     408     573     738     876     1041    1206    1371    1520    1685    1850    2015    2180    2345    \n",
      "79      244     409     574     739     877     1042    1207    1372    1521    1686    1851    2016    2181    2346    \n",
      "80      245     410     575     740     878     1043    1208    1373    1522    1687    1852    2017    2182    2347    \n",
      "81      246     411     576     741     879     1044    1209    1374    1523    1688    1853    2018    2183    2348    \n",
      "82      247     412     577     742     880     1045    1210    1375    1524    1689    1854    2019    2184    2349    \n",
      "83      248     413     578     743     881     1046    1211    1376    1525    1690    1855    2020    2185    2350    \n",
      "84      249     414     579     744     882     1047    1212    1377    1526    1691    1856    2021    2186    2351    \n",
      "85      250     415     580     745     883     1048    1213    1378    1527    1692    1857    2022    2187    2352    \n",
      "86      251     416     581     746     884     1049    1214    1379    1528    1693    1858    2023    2188    2353    \n",
      "87      252     417     582     747     885     1050    1215    1380    1529    1694    1859    2024    2189    2354    \n",
      "88      253     418     583     721     886     1051    1216    1381    1530    1695    1860    2025    2190    2355    \n",
      "89      254     419     584     722     887     1052    1217    1382    1531    1696    1861    2026    2191    2356    \n",
      "90      255     420     585     723     888     1053    1218    1383    1532    1697    1862    2027    2192    2357    \n",
      "91      256     421     586     724     889     1054    1219    1384    1533    1698    1863    2028    2193    2358    \n",
      "92      257     422     587     725     890     1055    1220    1385    1534    1699    1864    2029    2194    2359    \n",
      "93      258     423     588     726     891     1056    1221    1386    1535    1700    1865    2030    2195    2360    \n",
      "94      259     424     589     727     892     1057    1222    1387    1536    1701    1866    2031    2196    2361    \n",
      "95      260     425     590     728     893     1058    1223    1388    1537    1702    1867    2032    2197    2362    \n",
      "96      261     426     591     729     894     1059    1224    1389    1538    1703    1868    2033    2198    2363    \n",
      "97      262     427     592     730     895     1060    1225    1390    1539    1704    1869    2034    2199    2364    \n",
      "98      263     428     593     731     896     1061    1226    1391    1540    1705    1870    2035    2200    2365    \n",
      "99      264     429     594     732     897     1062    1227    1392    1541    1706    1871    2036    2201    2366    \n",
      "100     265     430     595     733     898     1063    1228    1393    1542    1707    1872    2037    2202    2367    \n",
      "101     266     431     596     734     899     1064    1229    1394    1543    1708    1873    2038    2203    2368    \n",
      "102     267     432     597     735     900     1065    1230    1395    1544    1709    1874    2039    2204    2369    \n",
      "103     268     433     598     736     901     1066    1231    1396    1545    1710    1875    2040    2205    2370    \n",
      "104     269     434     599     737     902     1067    1232    1397    1546    1711    1876    2041    2206    2371    \n",
      "105     270     435     600     738     903     1068    1233    1398    1547    1712    1877    2042    2207    2372    \n",
      "106     271     436     601     739     904     1069    1234    1399    1548    1713    1878    2043    2208    2373    \n",
      "107     272     437     602     740     905     1070    1235    1400    1549    1714    1879    2044    2209    2374    \n",
      "108     273     438     603     741     906     1071    1236    1401    1550    1715    1880    2045    2210    2375    \n",
      "109     274     439     604     742     907     1072    1237    1402    1551    1716    1881    2046    2211    2376    \n",
      "110     275     440     605     743     908     1073    1238    1403    1552    1717    1882    2047    2212    2377    \n",
      "111     276     441     606     744     909     1074    1239    1404    1553    1718    1883    2048    2213    2378    \n",
      "112     277     442     607     745     910     1075    1240    1405    1554    1719    1884    2049    2214    2379    \n",
      "113     278     443     608     746     911     1076    1241    1406    1555    1720    1885    2050    2215    2380    \n",
      "114     279     444     609     747     912     1077    1242    1407    1556    1721    1886    2051    2216    2381    \n",
      "115     280     445     610     748     913     1078    1243    1408    1557    1722    1887    2052    2217    2382    \n",
      "116     281     446     611     749     914     1079    1244    1409    1558    1723    1888    2053    2218    2383    \n",
      "117     282     447     612     750     915     1080    1245    1410    1559    1724    1889    2054    2219    2384    \n",
      "118     283     448     613     751     916     1081    1246    1411    1560    1725    1890    2055    2220    2385    \n",
      "119     284     449     614     752     917     1082    1247    1412    1561    1726    1891    2056    2221    2386    \n",
      "120     285     450     615     753     918     1083    1248    1413    1562    1727    1892    2057    2222    2387    \n",
      "121     286     451     616     754     919     1084    1249    1414    1563    1728    1893    2058    2223    2388    \n",
      "122     287     452     617     755     920     1085    1250    1415    1564    1729    1894    2059    2224    2389    \n",
      "123     288     453     618     756     921     1086    1251    1416    1565    1730    1895    2060    2225    2390    \n",
      "124     289     454     619     757     922     1087    1252    1417    1566    1731    1896    2061    2226    2391    \n",
      "125     290     455     620     758     923     1088    1253    1418    1567    1732    1897    2062    2227    2392    \n",
      "126     291     456     621     759     924     1089    1254    1419    1568    1733    1898    2063    2228    2393    \n",
      "127     292     457     622     760     925     1090    1255    1420    1569    1734    1899    2064    2229    2394    \n",
      "128     293     458     623     761     926     1091    1256    1421    1570    1735    1900    2065    2230    2395    \n",
      "129     294     459     624     762     927     1092    1257    1422    1571    1736    1901    2066    2231    2396    \n",
      "130     295     460     625     763     928     1093    1258    1423    1572    1737    1902    2067    2232    2397    \n",
      "131     296     461     626     764     929     1094    1259    1424    1573    1738    1903    2068    2233    2398    \n",
      "132     297     462     627     765     930     1095    1260    1425    1574    1739    1904    2069    2234    2399    \n",
      "133     298     463     628     766     931     1096    1261    1426    1575    1740    1905    2070    2235    2400    \n",
      "134     299     464     629     767     932     1097    1262    1427    1576    1741    1906    2071    2236    2401    \n",
      "135     300     465     630     768     933     1098    1263    1428    1577    1742    1907    2072    2237    2402    \n",
      "136     301     466     631     769     934     1099    1264    1429    1578    1743    1908    2073    2238    2403    \n",
      "137     302     467     632     770     935     1100    1265    1430    1579    1744    1909    2074    2239    2404    \n",
      "138     303     468     633     771     936     1101    1266    1431    1580    1745    1910    2075    2240    2405    \n",
      "139     304     469     634     772     937     1102    1267    1432    1581    1746    1911    2076    2241    2406    \n",
      "140     305     470     635     773     938     1103    1268    1433    1582    1747    1912    2077    2242    2407    \n",
      "141     306     471     636     774     939     1104    1269    1434    1583    1748    1913    2078    2243    2408    \n",
      "142     307     472     637     775     940     1105    1270    1435    1584    1749    1914    2079    2244    2409    \n",
      "143     308     473     638     776     941     1106    1271    1436    1585    1750    1915    2080    2245    2410    \n",
      "144     309     474     639     777     942     1107    1272    1437    1586    1751    1916    2081    2246    2411    \n",
      "145     310     475     640     778     943     1108    1273    1438    1587    1752    1917    2082    2247    2412    \n",
      "146     311     476     641     779     944     1109    1274    1439    1588    1753    1918    2083    2248    2413    \n",
      "147     312     477     642     780     945     1110    1275    1440    1589    1754    1919    2084    2249            \n",
      "148     313     478     643     781     946     1111    1276    1441    1590    1755    1920    2085    2250            \n",
      "149     314     479     644     782     947     1112    1277    1442    1591    1756    1921    2086    2251            \n",
      "150     315     480     645     783     948     1113    1278    1443    1592    1757    1922    2087    2252            \n",
      "151     316     481     646     784     949     1114    1279    1444    1593    1758    1923    2088    2253            \n",
      "152     317     482     647     785     950     1115    1280    1445    1594    1759    1924    2089    2254            \n",
      "153     318     483     648     786     951     1116    1281    1446    1595    1760    1925    2090    2255            \n",
      "154     319     484     649     787     952     1117    1282    1447    1596    1761    1926    2091    2256            \n",
      "155     320     485     650     788     953     1118    1283    1448    1597    1762    1927    2092    2257            \n"
     ]
    }
   ],
   "source": [
    "list_columns(rp_hst.get('NDump'), cols=15)"
   ]
  },
  {
   "cell_type": "code",
   "execution_count": 7,
   "metadata": {},
   "outputs": [
    {
     "data": {
      "text/plain": [
       "(0.0, 300.0)"
      ]
     },
     "execution_count": 7,
     "metadata": {},
     "output_type": "execute_result"
    },
    {
     "data": {
      "image/png": "[encoded data removed]",
      "text/plain": [
       "<Figure size 432x288 with 1 Axes>"
      ]
     },
     "metadata": {
      "needs_background": "light"
     },
     "output_type": "display_data"
    }
   ],
   "source": [
    "ifig=1; plt.close(ifig); plt.figure(ifig)\n",
    "rp_hst.plot_wct_per_dump()\n",
    "plt.ylim((0., 300.))"
   ]
  },
  {
   "cell_type": "markdown",
   "metadata": {},
   "source": [
    "# Reading and plotting data"
   ]
  },
  {
   "cell_type": "code",
   "execution_count": 8,
   "metadata": {
    "scrolled": false
   },
   "outputs": [
    {
     "name": "stdout",
     "output_type": "stream",
     "text": [
      "Dump 675 at t = 114211.50 min is the closest to t = 114211.54 min.\n",
      "36.566212    32.631344    29.739134    27.533916    24.4167      24.41354     24.415873    24.421856    \n",
      "36.566223    32.555637    29.691031    27.312973    24.416521    24.413557    24.415915    24.421944    \n",
      "36.567909    32.480808    29.643143    26.966076    24.416344    24.413572    24.415939    24.422026    \n",
      "36.763779    32.406639    29.595512    26.444529    24.416155    24.413578    24.415983    24.422043    \n",
      "36.865971    32.333004    29.548376    25.809841    24.415974    24.413601    24.416046    24.422123    \n",
      "36.849133    32.26049     29.501572    25.25947     24.415794    24.413628    24.416143    24.422209    \n",
      "36.827904    32.189178    29.455105    24.892612    24.415625    24.413671    24.416256    24.422329    \n",
      "36.785545    32.11853     29.40888     24.681787    24.415461    24.413702    24.416317    24.422428    \n",
      "36.708885    32.048538    29.3629      24.569092    24.415314    24.413763    24.416416    24.422512    \n",
      "36.596928    31.979586    29.317186    24.507586    24.415178    24.413754    24.416517    24.422531    \n",
      "36.468563    31.911331    29.271935    24.473394    24.415045    24.413803    24.416615    24.422604    \n",
      "36.340767    31.843557    29.227154    24.454252    24.414921    24.413862    24.416729    24.422663    \n",
      "36.21801     31.776583    29.182747    24.443424    24.414793    24.413919    24.416876    24.422756    \n",
      "36.096813    31.710707    29.138651    24.437269    24.4147      24.413975    24.417017    24.422823    \n",
      "35.971661    31.645397    29.094767    24.433636    24.414558    24.414051    24.417145    24.422909    \n",
      "35.840233    31.580471    29.051353    24.431282    24.414433    24.414099    24.417263    24.422997    \n",
      "35.706753    31.516314    29.008366    24.429682    24.41433     24.414167    24.417379    24.423069    \n",
      "35.579357    31.452501    28.96559     24.428446    24.414213    24.414215    24.41749     24.423107    \n",
      "35.45985     31.389071    28.923027    24.427462    24.414125    24.414253    24.41762     24.423098    \n",
      "35.344353    31.326538    28.880743    24.42667     24.414043    24.414295    24.417738    24.423107    \n",
      "35.230232    31.264734    28.838665    24.425974    24.413979    24.414351    24.417847    24.423105    \n",
      "35.116985    31.203316    28.796822    24.425341    24.413906    24.414402    24.41795     24.423113    \n",
      "35.005142    31.142635    28.755274    24.424801    24.413803    24.414438    24.418081    24.423111    \n",
      "34.895164    31.082611    28.714088    24.424311    24.413792    24.414469    24.418255    24.423109    \n",
      "34.786224    31.023155    28.673176    24.423864    24.413734    24.414509    24.418394    24.423071    \n",
      "34.679447    30.964369    28.632448    24.423407    24.413694    24.41456     24.418543    24.423088    \n",
      "34.57476     30.905848    28.592056    24.422955    24.413656    24.414602    24.418665    24.423088    \n",
      "34.472153    30.847618    28.552013    24.422523    24.413645    24.414667    24.418837    24.423082    \n",
      "34.372021    30.790207    28.512224    24.422174    24.413599    24.414713    24.419016    24.423132    \n",
      "34.273689    30.733496    28.472744    24.42178     24.413567    24.414759    24.419205    24.423149    \n",
      "34.175854    30.677223    28.433558    24.421425    24.41354     24.414797    24.41938     24.423183    \n",
      "34.077969    30.621401    28.394573    24.421097    24.413507    24.414816    24.4195      24.423237    \n",
      "33.981949    30.565781    28.355761    24.420778    24.413454    24.414865    24.419619    24.423241    \n",
      "33.888611    30.511003    28.317251    24.420464    24.413399    24.414927    24.419727    24.423189    \n",
      "33.796589    30.456745    28.279026    24.420153    24.413378    24.414982    24.419828    24.42312     \n",
      "33.705959    30.402586    28.241026    24.41984     24.413374    24.415049    24.41995     24.423063    \n",
      "33.616795    30.348801    28.203186    24.41955     24.413366    24.415104    24.420069    24.422943    \n",
      "33.52906     30.295389    28.165363    24.419287    24.413364    24.415165    24.420214    24.422762    \n",
      "33.442142    30.242661    28.127113    24.418991    24.413363    24.415215    24.420357    24.422632    \n",
      "33.355854    30.19055     28.088612    24.418726    24.413376    24.415268    24.420488    24.422649    \n",
      "33.270569    30.138597    28.050117    24.418467    24.413374    24.415321    24.420656    24.422747    \n",
      "33.186733    30.086966    28.01248     24.418194    24.413397    24.415392    24.420816    24.42288     \n",
      "33.104473    30.036207    27.976826    24.417963    24.413404    24.415394    24.42104     24.423037    \n",
      "33.02335     29.98608     27.943436    24.417723    24.413416    24.415464    24.421204    24.423292    \n",
      "32.942806    29.936003    27.910149    24.417511    24.413446    24.415537    24.421408    24.423639    \n",
      "32.86314     29.886105    27.868622    24.417276    24.413477    24.415596    24.421583    24.410717    \n",
      "32.784973    29.83658     27.799753    24.41708     24.4135      24.415701    24.421648    24.148485    \n",
      "32.707829    29.78763     27.689285    24.41687     24.413519    24.415775    24.421717    24.08322     \n"
     ]
    }
   ],
   "source": [
    "t=rp_set.get('t',fname=675)\n",
    "list_columns(rp_set.get('A', t, num_type='t', resolution='l'), cols=8)"
   ]
  },
  {
   "cell_type": "code",
   "execution_count": 9,
   "metadata": {},
   "outputs": [],
   "source": [
    "rp = rp_set.get_dump(675)"
   ]
  },
  {
   "cell_type": "code",
   "execution_count": 10,
   "metadata": {
    "scrolled": false
   },
   "outputs": [
    {
     "name": "stdout",
     "output_type": "stream",
     "text": [
      "airmu                         ifintel                       nvarstovisualize              \n",
      "argsimg(1)                    ifmoms                        nViews                        \n",
      "argsimg(10                    ifnotviolent                  NWorkersPerTeam               \n",
      "argsimg(11                    ifnowriteback                 Nx                            \n",
      "argsimg(12                    ifpmoms                       NXBricks                      \n",
      "argsimg(13                    ifsimplechop                  NXBricksPerTeam               \n",
      "argsimg(14                    ifsloflo                      NXTeams                       \n",
      "argsimg(15                    ifsrend                       NYBricks                      \n",
      "argsimg(16                    ifteambobs                    NYTeams                       \n",
      "argsimg(17                    isstar                        NZBricks                      \n",
      "argsimg(18                    lenbob8                       NZTeams                       \n",
      "argsimg(2)                    lenboball                     p0                            \n",
      "argsimg(3)                    lenbobs                       p00                           \n",
      "argsimg(4)                    maxbqsallowedforchads         p1                            \n",
      "argsimg(5)                    maxchadbytes                  prs00base                     \n",
      "argsimg(6)                    maxfullbks                    qc12pgammaMEV                 \n",
      "argsimg(7)                    maxnbks                       radbase                       \n",
      "argsimg(8)                    maxrad                        radin0                        \n",
      "argsimg(9)                    maxxpixels                    radinner                      \n",
      "atomicnoair                   maxypixels                    radmax                        \n",
      "atomicnocld                   NAdminsPerTeam                radout0                       \n",
      "BrickDepth                    nbdy                          radouter                      \n",
      "BrickHeight                   nbqs                          radtop                        \n",
      "BrickWidth                    nbqsinaaa                     Rgasconst                     \n",
      "cldmu                         nbqsinbrickrecord             rho0                          \n",
      "CN                            nbqsinchads                   rho00                         \n",
      "coefns                        nbqsindd                      rho00base                     \n",
      "deex                          nbqsinmaxbkchads              rho1                          \n",
      "delrad                        nbqsinmaxchad                 rhoabove                      \n",
      "difcon                        nbqsinradprofs                RhoCldToAir0                  \n",
      "DisplaceAmpl                  nbqsinrprofs                  rhoconv                       \n",
      "divu0                         nbqx                          s0                            \n",
      "divu1                         nbqy                          s00                           \n",
      "dlayerbot                     nbqz                          s01                           \n",
      "dlayertop                     NBricks                       s1                            \n",
      "dtinit                        nbricksperdimension           shkjmp                        \n",
      "fkair                         nbricksperdimensionperteam    smalle                        \n",
      "fkcld                         NBricksPerTeam                smallp                        \n",
      "fv0                           NBricksPerWorker              smallu                        \n",
      "fv1                           ncpucores                     smlrho                        \n",
      "g                             NcyclesPerDump                SoundSpeed0Air                \n",
      "gammaabove                    nddvars                       SoundSpeed0Cld                \n",
      "GammaAir                      NDumps                        t                             \n",
      "gammabelow                    NdumpsperRestartDump          totallum                      \n",
      "GammaCld                      nfluids                       TransitionThickness           \n",
      "gammaconv                     nglobs                        ujiggle                       \n",
      "grav00base                    nincacheline                  urbdryatreq1                  \n",
      "gravconst                     ninsugarcube                  ux0                           \n",
      "if1dtest                      Nloops                        ux1                           \n",
      "if2ddisk                      nprevtimes                    uy0                           \n",
      "if3dtest                      NRanks                        uy1                           \n",
      "ifamr                         NRanksPerNode                 uz0                           \n",
      "ifbarrierperblock             NRanksPerTeam                 uz1                           \n",
      "ifburn                        nssq                          vort0                         \n",
      "ifcall3in1                    nssqbq                        vort1                         \n",
      "ifcray                        nsugar                        VX0                           \n",
      "ifflatstar                    NTeams                        vx0sq                         \n",
      "ifgputest                     nteamsperdimension            wavhaf                        \n",
      "ifheat                        ntocomposite                                                \n"
     ]
    }
   ],
   "source": [
    "list_columns(rp.get_header_variables(), cols=3)"
   ]
  },
  {
   "cell_type": "code",
   "execution_count": 11,
   "metadata": {},
   "outputs": [
    {
     "name": "stdout",
     "output_type": "stream",
     "text": [
      "Nx = 768\n",
      "airmu = 0.6690000295639038\n",
      "cldmu = 0.6169999837875366\n"
     ]
    }
   ],
   "source": [
    "print('Nx = ' + str(rp.get('Nx')))\n",
    "print('airmu = ' + str(rp.get('airmu')))\n",
    "print('cldmu = ' + str(rp.get('cldmu')))"
   ]
  },
  {
   "cell_type": "code",
   "execution_count": 12,
   "metadata": {},
   "outputs": [
    {
     "data": {
      "text/plain": [
       "['FV', 'FV0', 'P0', 'P1', 'R', 'Rho0', 'Rho1', 'T9']"
      ]
     },
     "execution_count": 12,
     "metadata": {},
     "output_type": "execute_result"
    }
   ],
   "source": [
    "rp.get_hr_variables()"
   ]
  },
  {
   "cell_type": "code",
   "execution_count": 13,
   "metadata": {},
   "outputs": [
    {
     "name": "stdout",
     "output_type": "stream",
     "text": [
      "A               EnucSumMax      Rho1fMin        \n",
      "Ceul            EnucSumMin      RhoUr           \n",
      "dEnucRMS        FV              RhoUrH          \n",
      "dEnucSumRMS     FVMax           RhoUrUsq        \n",
      "dFVrms          FVMin           RhoUrUsqMax     \n",
      "dHburnedRMS     Hburned         RhoUrUsqMin     \n",
      "dMachRMS        HburnedMax      T9              \n",
      "dP1fRMS         HburnedMin      T9Max           \n",
      "dRho1fRMS       Mach            T9Min           \n",
      "dRhoUrUsqRMS    Mach#           Ur              \n",
      "dT9RMS          MachMax         UrMax           \n",
      "dUrRMS          MachMin         UrMin           \n",
      "d|Ut|RMS        P1/P0           |Ut|            \n",
      "d|U|RMS         P1fMax          |Ut|Max         \n",
      "Enuc            P1fMin          |Ut|Min         \n",
      "EnucMax         R               |U|             \n",
      "EnucMin         Rho1/Rho0       |U|Max          \n",
      "EnucSum         Rho1fMax        |U|Min          \n"
     ]
    }
   ],
   "source": [
    "list_columns(rp.get_lr_variables(),cols=3)"
   ]
  },
  {
   "cell_type": "code",
   "execution_count": 14,
   "metadata": {},
   "outputs": [],
   "source": [
    "# for nice colors, linestyles, etc.\n",
    "import nugridpy.utils as utils\n",
    "cb = utils.linestylecb"
   ]
  },
  {
   "cell_type": "code",
   "execution_count": 15,
   "metadata": {},
   "outputs": [
    {
     "data": {
      "text/plain": [
       "<matplotlib.legend.Legend at 0x7f09baeda668>"
      ]
     },
     "execution_count": 15,
     "metadata": {},
     "output_type": "execute_result"
    },
    {
     "data": {
      "image/png": "[encoded data removed]",
      "text/plain": [
       "<Figure size 432x288 with 1 Axes>"
      ]
     },
     "metadata": {
      "needs_background": "light"
     },
     "output_type": "display_data"
    }
   ],
   "source": [
    "ifig=2; plt.close(ifig); plt.figure(ifig)\n",
    "\n",
    "# get quantities, use high resolution!\n",
    "fv = rp_set.get('FV',600,resolution='h')\n",
    "r = rp_set.get('R',600,resolution='h')\n",
    "\n",
    "# plot FV vs. R, semilog it\n",
    "plt.semilogy(r, fv, color=cb(0)[2], linestyle=cb(0)[0], label='Dump 600')\n",
    "\n",
    "# where is the convective boundary?\n",
    "conv_bound = rp_set.bound_rad(600,1000,2000,var='FV',criterion='max_grad')\n",
    "\n",
    "ymin = 1e-4\n",
    "ymax = 1.1\n",
    "plt.vlines(conv_bound[0],ymin,ymax,color='k',linestyle='--',label='Convective Boundary')\n",
    "\n",
    "# force a range for FV values\n",
    "plt.ylim([ymin,ymax])\n",
    "\n",
    "# other details in a plot\n",
    "plt.xlabel('R')\n",
    "plt.ylabel('FV')\n",
    "plt.legend()"
   ]
  },
  {
   "cell_type": "code",
   "execution_count": null,
   "metadata": {},
   "outputs": [],
   "source": []
  }
 ],
 "metadata": {
  "kernelspec": {
   "display_name": "Python 3",
   "language": "python",
   "name": "python3"
  },
  "language_info": {
   "codemirror_mode": {
    "name": "ipython",
    "version": 3
   },
   "file_extension": ".py",
   "mimetype": "text/x-python",
   "name": "python",
   "nbconvert_exporter": "python",
   "pygments_lexer": "ipython3",
   "version": "3.6.7"
  }
 },
 "nbformat": 4,
 "nbformat_minor": 2
}
