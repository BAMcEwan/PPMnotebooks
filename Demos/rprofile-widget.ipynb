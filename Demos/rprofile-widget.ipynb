{
 "cells": [
  {
   "cell_type": "markdown",
   "metadata": {},
   "source": [
    "# Plot radial profiles"
   ]
  },
  {
   "cell_type": "code",
   "execution_count": 1,
   "metadata": {},
   "outputs": [],
   "source": [
    "import sys\n",
    "sys.path.insert(1,'/user/scratch14_csa/fherwig/repos/PyPPM')"
   ]
  },
  {
   "cell_type": "code",
   "execution_count": 2,
   "metadata": {},
   "outputs": [
    {
     "name": "stdout",
     "output_type": "stream",
     "text": [
      "Populating the interactive namespace from numpy and matplotlib\n"
     ]
    }
   ],
   "source": [
    "%pylab ipympl\n",
    "from ppmpy import ppm"
   ]
  },
  {
   "cell_type": "code",
   "execution_count": 3,
   "metadata": {},
   "outputs": [],
   "source": [
    "# Specify path to rprofs\n",
    "path = '/data/ASDR/H-core-M25/M29-768/rprofs'\n",
    "path ='/user/niagara_scratch_pwoodwar/HHe-768-1000xlum-3-12-19/prfs'"
   ]
  },
  {
   "cell_type": "code",
   "execution_count": 4,
   "metadata": {},
   "outputs": [
    {
     "name": "stdout",
     "output_type": "stream",
     "text": [
      "129 rprof files found in '/user/niagara_scratch_pwoodwar/HHe-768-1000xlum-3-12-19/prfs/.\n",
      "Dump numbers range from 0 to 128.\n"
     ]
    },
    {
     "data": {
      "application/vnd.jupyter.widget-view+json": {
       "model_id": "4f174d0a273a49a98e4778fd26c26fbf",
       "version_major": 2,
       "version_minor": 0
      },
      "text/plain": [
       "interactive(children=(IntSlider(value=4, description='dump1', max=128), IntSlider(value=125, description='dump…"
      ]
     },
     "metadata": {},
     "output_type": "display_data"
    }
   ],
   "source": [
    "rp_set = ppm.RprofSet(path)\n",
    "rp_set.rprofgui()"
   ]
  },
  {
   "cell_type": "markdown",
   "metadata": {},
   "source": [
    "## Manual plot\n",
    "Example of how to plot radial profiles from two runs. First, define two paths to two runs, then use the `rp_plot` method."
   ]
  },
  {
   "cell_type": "code",
   "execution_count": 5,
   "metadata": {},
   "outputs": [],
   "source": [
    "path1 = \"/user/niagara_scratch_djstephe/N70-isrealeos0-10x-noburn-768/prfs\"\n",
    "path2 = \"/data/niagara_projects/PPM2.0/N_LowZRAWD/N12-LowZRAWD-768-10x-noburn-O1/prfs\""
   ]
  },
  {
   "cell_type": "code",
   "execution_count": 6,
   "metadata": {},
   "outputs": [
    {
     "name": "stdout",
     "output_type": "stream",
     "text": [
      "504 rprof files found in '/user/niagara_scratch_djstephe/N70-isrealeos0-10x-noburn-768/prfs/.\n",
      "Dump numbers range from 0 to 503.\n",
      "737 rprof files found in '/data/niagara_projects/PPM2.0/N_LowZRAWD/N12-LowZRAWD-768-10x-noburn-O1/prfs/.\n",
      "Dump numbers range from 0 to 736.\n"
     ]
    }
   ],
   "source": [
    "rp_setN70 = ppm.RprofSet(path1)\n",
    "rp_setN12 = ppm.RprofSet(path2)"
   ]
  },
  {
   "cell_type": "code",
   "execution_count": 8,
   "metadata": {},
   "outputs": [
    {
     "data": {
      "application/vnd.jupyter.widget-view+json": {
       "model_id": "7b7735f625b3428fbfd1fb27df7bfe7b",
       "version_major": 2,
       "version_minor": 0
      },
      "text/plain": [
       "FigureCanvasNbAgg()"
      ]
     },
     "metadata": {},
     "output_type": "display_data"
    },
    {
     "name": "stderr",
     "output_type": "stream",
     "text": [
      "/user/scratch14_csa/fherwig/repos/PyPPM/ppmpy/ppm.py:9241: RuntimeWarning: divide by zero encountered in log10\n",
      "  yquantity = np.log10(yquantity)\n"
     ]
    }
   ],
   "source": [
    "dumps = list(range(200,501,150))\n",
    "rp_setN70.rp_plot(dumps,'FV',ifig=12,logy=True,runlabel='N70')\n",
    "rp_setN12.rp_plot(dumps,'FV',ifig=12,logy=True,yylim=(-9,0.5),\\\n",
    "                  newfig=False,idn=1,runlabel='N12')\n"
   ]
  },
  {
   "cell_type": "code",
   "execution_count": null,
   "metadata": {},
   "outputs": [],
   "source": []
  }
 ],
 "metadata": {
  "kernelspec": {
   "display_name": "Python 3",
   "language": "python",
   "name": "python3"
  },
  "language_info": {
   "codemirror_mode": {
    "name": "ipython",
    "version": 3
   },
   "file_extension": ".py",
   "mimetype": "text/x-python",
   "name": "python",
   "nbconvert_exporter": "python",
   "pygments_lexer": "ipython3",
   "version": "3.6.7"
  }
 },
 "nbformat": 4,
 "nbformat_minor": 2
}
