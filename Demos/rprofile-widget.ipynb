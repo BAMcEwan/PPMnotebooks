{
 "cells": [
  {
   "cell_type": "markdown",
   "metadata": {},
   "source": [
    "# Plot radial profiles"
   ]
  },
  {
   "cell_type": "code",
   "execution_count": 28,
   "metadata": {},
   "outputs": [
    {
     "data": {
      "text/plain": [
       "'/user/dataA_rpod4/rprof-temp'"
      ]
     },
     "execution_count": 28,
     "metadata": {},
     "output_type": "execute_result"
    }
   ],
   "source": [
    "pwd"
   ]
  },
  {
   "cell_type": "code",
   "execution_count": 1,
   "metadata": {},
   "outputs": [],
   "source": [
    "# Specify path to rprofs\n",
    "path = '/data/ASDR/H-core-M25/M29-768/rprofs'\n",
    "path ='/user/niagara_scratch_tjhanra/HHe-768-1000xlum-2-12-19/prfs'\n",
    "path ='/user/niagara_scratch_pwoodwar/HHe-768-1000xlum-3-12-19/prfs'"
   ]
  },
  {
   "cell_type": "code",
   "execution_count": 2,
   "metadata": {},
   "outputs": [
    {
     "name": "stdout",
     "output_type": "stream",
     "text": [
      "Populating the interactive namespace from numpy and matplotlib\n",
      "93 rprof files found in '/user/niagara_scratch_pwoodwar/HHe-768-1000xlum-3-12-19/prfs/.\n",
      "Dump numbers range from 0 to 92.\n"
     ]
    }
   ],
   "source": [
    "%pylab ipympl\n",
    "import sys\n",
    "sys.path.insert(1,'/user/scratch14_ppmstar/fherwig/repos/PyPPM')\n",
    "from ppmpy import ppm\n",
    "rp_set = ppm.RprofSet(path)"
   ]
  },
  {
   "cell_type": "code",
   "execution_count": 3,
   "metadata": {},
   "outputs": [
    {
     "data": {
      "application/vnd.jupyter.widget-view+json": {
       "model_id": "a6a78c791e964ae3948b85eca9ef669e",
       "version_major": 2,
       "version_minor": 0
      },
      "text/plain": [
       "interactive(children=(IntSlider(value=46, description='dump1', max=92), IntSlider(value=46, description='dump2…"
      ]
     },
     "metadata": {},
     "output_type": "display_data"
    }
   ],
   "source": [
    "rp_set.rprofgui()"
   ]
  },
  {
   "cell_type": "markdown",
   "metadata": {},
   "source": [
    "## Manual plot"
   ]
  },
  {
   "cell_type": "code",
   "execution_count": 17,
   "metadata": {},
   "outputs": [
    {
     "data": {
      "application/vnd.jupyter.widget-view+json": {
       "model_id": "e6e4bd46962044048d305e1a9af8d601",
       "version_major": 2,
       "version_minor": 0
      },
      "text/plain": [
       "FigureCanvasNbAgg()"
      ]
     },
     "metadata": {},
     "output_type": "display_data"
    },
    {
     "name": "stderr",
     "output_type": "stream",
     "text": [
      "/user/scratch14_ppmstar/fherwig/repos/PyPPM/ppmpy/ppm.py:9237: RuntimeWarning: divide by zero encountered in log10\n",
      "  yquantity = np.log10(yquantity)\n"
     ]
    }
   ],
   "source": [
    "rp_set.rp_plot([20,40,60],'FV',ifig=12,logy=True)"
   ]
  },
  {
   "cell_type": "markdown",
   "metadata": {},
   "source": [
    "## Available things"
   ]
  },
  {
   "cell_type": "code",
   "execution_count": 18,
   "metadata": {},
   "outputs": [
    {
     "data": {
      "text/plain": [
       "['FV', 'FV0', 'P0', 'P1', 'R', 'Rho0', 'Rho1', 'T9']"
      ]
     },
     "execution_count": 18,
     "metadata": {},
     "output_type": "execute_result"
    }
   ],
   "source": [
    "rp.get_hr_variables()"
   ]
  },
  {
   "cell_type": "code",
   "execution_count": 26,
   "metadata": {},
   "outputs": [
    {
     "data": {
      "text/plain": [
       "['A',\n",
       " 'Ceul',\n",
       " 'dEnucRMS',\n",
       " 'dEnucSumRMS',\n",
       " 'dFVrms',\n",
       " 'dHburnedRMS',\n",
       " 'dMachRMS',\n",
       " 'dP1fRMS',\n",
       " 'dRho1fRMS',\n",
       " 'dRhoUrUsqRMS',\n",
       " 'dT9RMS',\n",
       " 'dUrRMS',\n",
       " 'd|Ut|RMS',\n",
       " 'd|U|RMS',\n",
       " 'Enuc',\n",
       " 'EnucMax',\n",
       " 'EnucMin',\n",
       " 'EnucSum',\n",
       " 'EnucSumMax',\n",
       " 'EnucSumMin',\n",
       " 'FV',\n",
       " 'FVMax',\n",
       " 'FVMin',\n",
       " 'Hburned',\n",
       " 'HburnedMax',\n",
       " 'HburnedMin',\n",
       " 'Mach',\n",
       " 'Mach#',\n",
       " 'MachMax',\n",
       " 'MachMin',\n",
       " 'P1/P0',\n",
       " 'P1fMax',\n",
       " 'P1fMin',\n",
       " 'R',\n",
       " 'Rho1/Rho0',\n",
       " 'Rho1fMax',\n",
       " 'Rho1fMin',\n",
       " 'RhoUr',\n",
       " 'RhoUrH',\n",
       " 'RhoUrUsq',\n",
       " 'RhoUrUsqMax',\n",
       " 'RhoUrUsqMin',\n",
       " 'T9',\n",
       " 'T9Max',\n",
       " 'T9Min',\n",
       " 'Ur',\n",
       " 'UrMax',\n",
       " 'UrMin',\n",
       " '|Ut|',\n",
       " '|Ut|Max',\n",
       " '|Ut|Min',\n",
       " '|U|',\n",
       " '|U|Max',\n",
       " '|U|Min']"
      ]
     },
     "execution_count": 26,
     "metadata": {},
     "output_type": "execute_result"
    }
   ],
   "source": [
    "rp.get_lr_variables()"
   ]
  },
  {
   "cell_type": "code",
   "execution_count": null,
   "metadata": {},
   "outputs": [],
   "source": []
  }
 ],
 "metadata": {
  "kernelspec": {
   "display_name": "Python 3",
   "language": "python",
   "name": "python3"
  },
  "language_info": {
   "codemirror_mode": {
    "name": "ipython",
    "version": 3
   },
   "file_extension": ".py",
   "mimetype": "text/x-python",
   "name": "python",
   "nbconvert_exporter": "python",
   "pygments_lexer": "ipython3",
   "version": "3.6.7"
  }
 },
 "nbformat": 4,
 "nbformat_minor": 2
}
