{
 "cells": [
  {
   "cell_type": "markdown",
   "metadata": {},
   "source": [
    "# Plot radial profiles"
   ]
  },
  {
   "cell_type": "markdown",
   "metadata": {},
   "source": [
    "This notebook should work with the \"latest\" PPMstar astrohub image. Select local PyPPM version below only needed for testing."
   ]
  },
  {
   "cell_type": "code",
   "execution_count": 1,
   "metadata": {},
   "outputs": [],
   "source": [
    "import sys\n",
    "# sys.path.insert(1,'/user/scratch14_csa/fherwig/repos/PyPPM')\n",
    "# sys.path.insert(1,'/user/scratch14_ppmstar-lcse/fherwig/PyPPM')"
   ]
  },
  {
   "cell_type": "code",
   "execution_count": 2,
   "metadata": {},
   "outputs": [
    {
     "name": "stdout",
     "output_type": "stream",
     "text": [
      "Populating the interactive namespace from numpy and matplotlib\n"
     ]
    }
   ],
   "source": [
    "%pylab ipympl\n",
    "from ppmpy import ppm"
   ]
  },
  {
   "cell_type": "code",
   "execution_count": 33,
   "metadata": {},
   "outputs": [],
   "source": [
    "# Specify path to rprofs\n",
    "path1 = '/data/ASDR/PPMstar/H-core-M25/M29-768/rprofs'\n",
    "path2 = '/data/ASDR/PPMstar/H-core-M25/M35-1536/prfs'"
   ]
  },
  {
   "cell_type": "code",
   "execution_count": 14,
   "metadata": {},
   "outputs": [
    {
     "name": "stdout",
     "output_type": "stream",
     "text": [
      "2413 rprof files found in '/data/ASDR/PPMstar/H-core-M25/M29-768/rprofs/.\n",
      "Dump numbers range from 0 to 2412.\n"
     ]
    },
    {
     "data": {
      "application/vnd.jupyter.widget-view+json": {
       "model_id": "6cb08eea20a34df9a294d40a3e64353d",
       "version_major": 2,
       "version_minor": 0
      },
      "text/plain": [
       "interactive(children=(IntSlider(value=80, description='dump1', max=2413), IntSlider(value=2372, description='d…"
      ]
     },
     "metadata": {},
     "output_type": "display_data"
    }
   ],
   "source": [
    "rp1 = ppm.RprofSet(path1)\n",
    "rp1.rprofgui(ifig=1)"
   ]
  },
  {
   "cell_type": "code",
   "execution_count": 34,
   "metadata": {},
   "outputs": [
    {
     "name": "stdout",
     "output_type": "stream",
     "text": [
      "437 rprof files found in '/data/ASDR/PPMstar/H-core-M25/M35-1536/prfs/.\n",
      "Dump numbers range from 0 to 436.\n"
     ]
    },
    {
     "data": {
      "application/vnd.jupyter.widget-view+json": {
       "model_id": "01929a8bea654b34879dbc38ae10671b",
       "version_major": 2,
       "version_minor": 0
      },
      "text/plain": [
       "interactive(children=(IntSlider(value=14, description='dump1', max=436), IntSlider(value=428, description='dum…"
      ]
     },
     "metadata": {},
     "output_type": "display_data"
    }
   ],
   "source": [
    "rp2 = ppm.RprofSet(path2)\n",
    "rp2.rprofgui(ifig=2)"
   ]
  },
  {
   "cell_type": "markdown",
   "metadata": {},
   "source": [
    "## Manual plot\n",
    "Example of how to plot radial profiles from two runs. \n",
    "1. Select a variable to plot.\n",
    "2. Use the `rp_plot` method."
   ]
  },
  {
   "cell_type": "code",
   "execution_count": 26,
   "metadata": {},
   "outputs": [
    {
     "data": {
      "text/plain": [
       "['FV', 'FV0', 'P0', 'P1', 'R', 'Rho0', 'Rho1', 'T9']"
      ]
     },
     "execution_count": 26,
     "metadata": {},
     "output_type": "execute_result"
    }
   ],
   "source": [
    "# the available rprof columns can be querried with this function (it is oddly associated \n",
    "# with a particular dump object)\n",
    "\n",
    "#rp1.get_dump(0).get_hr_variables()  # for high-res columns\n",
    "#rp1.get_dump(0).get_lr_variables()  # for low-res columns\n"
   ]
  },
  {
   "cell_type": "code",
   "execution_count": 40,
   "metadata": {},
   "outputs": [
    {
     "data": {
      "application/vnd.jupyter.widget-view+json": {
       "model_id": "",
       "version_major": 2,
       "version_minor": 0
      },
      "text/plain": [
       "FigureCanvasNbAgg()"
      ]
     },
     "metadata": {},
     "output_type": "display_data"
    },
    {
     "data": {
      "application/vnd.jupyter.widget-view+json": {
       "model_id": "e9c923d77abf4f40922e77f486fbd689",
       "version_major": 2,
       "version_minor": 0
      },
      "text/plain": [
       "FigureCanvasNbAgg()"
      ]
     },
     "metadata": {},
     "output_type": "display_data"
    },
    {
     "name": "stderr",
     "output_type": "stream",
     "text": [
      "/user/scratch14_ppmstar-lcse/fherwig/PyPPM/ppmpy/ppm.py:9334: RuntimeWarning: divide by zero encountered in log10\n",
      "  yquantity = np.log10(yquantity)\n"
     ]
    }
   ],
   "source": [
    "ifig=12;close(ifig);figure(ifig)\n",
    "dumps = list(range(200,401,200))\n",
    "labels = ['M29','M35']\n",
    "yvar = 'FV'\n",
    "rp1.rp_plot(dumps,yvar,ifig=ifig,logy=True,runlabel=labels[0])\n",
    "rp2.rp_plot(dumps,yvar,ifig=ifig,logy=True,yylim=(-3,0.1),\\\n",
    "                  xxlim=(0,2000),newfig=False,idn=1,runlabel=labels[0])\n"
   ]
  },
  {
   "cell_type": "code",
   "execution_count": null,
   "metadata": {},
   "outputs": [],
   "source": []
  }
 ],
 "metadata": {
  "kernelspec": {
   "display_name": "Python 3",
   "language": "python",
   "name": "python3"
  },
  "language_info": {
   "codemirror_mode": {
    "name": "ipython",
    "version": 3
   },
   "file_extension": ".py",
   "mimetype": "text/x-python",
   "name": "python",
   "nbconvert_exporter": "python",
   "pygments_lexer": "ipython3",
   "version": "3.6.7"
  }
 },
 "nbformat": 4,
 "nbformat_minor": 2
}
