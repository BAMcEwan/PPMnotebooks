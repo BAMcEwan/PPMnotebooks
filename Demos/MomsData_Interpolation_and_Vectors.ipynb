{
 "cells": [
  {
   "cell_type": "code",
   "execution_count": 1,
   "metadata": {},
   "outputs": [],
   "source": [
    "# %pylab\n",
    "import numpy as np\n",
    "import matplotlib.pyplot as plt\n",
    "import matplotlib.tri as tri\n",
    "import scipy.integrate\n",
    "import nugridpy.utils as utils\n",
    "import sys\n",
    "import os\n",
    "import time\n",
    "\n",
    "# if you make changes to the ppmpy module (e.g. add your analysis methods via a pull \n",
    "# request) in the https://github.com/PPMstar/PyPPM repo you may want use that \n",
    "# updated version\n",
    "#sys.path.insert(0,'/user/david/PyPPM/')\n",
    "sys.path.insert(0,'/home/user/home/PyPPM/')\n",
    "from ppmpy import ppm\n",
    "\n",
    "cb = utils.linestylecb # colours"
   ]
  },
  {
   "cell_type": "markdown",
   "metadata": {},
   "source": [
    "#### Loading In Data"
   ]
  },
  {
   "cell_type": "markdown",
   "metadata": {},
   "source": [
    "| index | quantity            |\n",
    "|:-----:|:--------------:     |\n",
    "| 0     | x                   |\n",
    "| 1     | $\\vec{u_{x}}$                  |   \n",
    "| 2     | $\\vec{u_{y}}$             | \n",
    "|  3    | $\\vec{u_{z}}$             | \n",
    "|  4    | $\\lvert\\vec{u_{t}}\\rvert$         | \n",
    "|  5    | $\\lvert\\vec{u_{r}}\\rvert$             | \n",
    "|  6    | $\\lvert\\vec{\\omega}\\rvert$      | \n",
    "|  7    | P              | \n",
    "|  8    | rho            | \n",
    "|  9    | fv             | \n",
    "\n",
    "* Note that these are just 10 out of 32 quantities that can be made available in the moms data. \n",
    "* fv is the fractional volume of the material initially only outside the convection zone."
   ]
  },
  {
   "cell_type": "code",
   "execution_count": 2,
   "metadata": {},
   "outputs": [
    {
     "name": "stdout",
     "output_type": "stream",
     "text": [
      "2413 rprof files found in '/data/ASDR/H-core-M25/M29-768/rprofs/.\n",
      "Dump numbers range from 0 to 2412.\n",
      "Reading history file '/data/ASDR/H-core-M25/M29-768/rprofs/HcoreE00768-0000.hstry'.\n",
      "2661 .aaa files found in '/data/ASDR/H-core-M25/M29-768/myavsbq/.\n",
      "Dump numbers range from 0 to 2412.\n",
      "Warning: Some dumps are missing!\n",
      "moms and rprof dictionary created\n"
     ]
    }
   ],
   "source": [
    "dir_repo = '/data/ASDR'\n",
    "dir_project = 'H-core-M25'\n",
    "rprof = {}; moms = {}         # initialize dictionaries to hold rprof and moms instances\n",
    "\n",
    "# hold moms dumps for highres and low res\n",
    "moms_dumps = []\n",
    "\n",
    "runs = ['M29-768']            # select runs\n",
    "moms_dumps.append(650)        # select dump numbers for moms\n",
    "\n",
    "add_highres = False\n",
    "if add_highres:\n",
    "    runs.append('M35-1536')\n",
    "    moms_dumps.append(375)  \n",
    "\n",
    "# We can call get with a string now!\n",
    "varlocs = ['xc','ux','uy','uz','|ur|','|ut|','|w|','P','rho','fv']\n",
    "\n",
    "# We can now hold multiple dumps in memory\n",
    "dumps_in_mem = 2\n",
    "\n",
    "# rprof instance holds radial profiles for all dumps\n",
    "# moms instance holds two dumps at a time in this case\n",
    "for i,runid in enumerate(runs):        \n",
    "    path = os.path.join(dir_repo,dir_project,runid)\n",
    "    # radial profile:\n",
    "    rprof[runid] = ppm.RprofSet(os.path.join(path,'rprofs'))\n",
    "    moms[runid] = ppm.MomsDataSet(os.path.join(path,'myavsbq'),init_dump_read=moms_dumps[i],\n",
    "                                dumps_in_mem=dumps_in_mem,var_list=varlocs)\n",
    "print(\"moms and rprof dictionary created\")\n",
    "\n",
    "# We will work with 768 data for the rest of the notebook\n",
    "runid = runs[0]"
   ]
  },
  {
   "cell_type": "markdown",
   "metadata": {},
   "source": [
    "#### New Handling of Data"
   ]
  },
  {
   "cell_type": "markdown",
   "metadata": {},
   "source": [
    "All variables obtained through get methods to the user are COPIES of the actual data. The user never gets the stored data (this ensures we can remove the data from memory when reading new dumps)."
   ]
  },
  {
   "cell_type": "code",
   "execution_count": 3,
   "metadata": {},
   "outputs": [
    {
     "name": "stdout",
     "output_type": "stream",
     "text": [
      "The average and std of z values on a z-plane can be easily obtained with z[0,:,:]\n",
      "-2486.9789237976074 0.0\n",
      "This is the \"bottom\" z-plane of the simulation\n"
     ]
    }
   ],
   "source": [
    "# lets work with just the 768 for now\n",
    "thisrprof = rprof[runid]\n",
    "thismoms = moms[runid]\n",
    "\n",
    "# test a couple new features, get cartesian grid\n",
    "x,y,z = thismoms.get_cgrid()\n",
    "\n",
    "# we can now get the grid in spherical coordinates instead\n",
    "r,theta,phi = thismoms.get_sgrid()\n",
    "\n",
    "# let's get a z-plane, index notations: x[z,y,x]\n",
    "print('The average and std of z values on a z-plane can be easily obtained with z[0,:,:]')\n",
    "print(np.mean(z[0,:,:]),np.std(z[0,:,:]))\n",
    "print('This is the \"bottom\" z-plane of the simulation')"
   ]
  },
  {
   "cell_type": "markdown",
   "metadata": {},
   "source": [
    "## Grid Interpolation"
   ]
  },
  {
   "cell_type": "markdown",
   "metadata": {},
   "source": [
    "We can now make plots of any quantity at the surface of a sphere. This is possible with a trillinear or \"moments\" (quadratic) interpolation of a quantity on the grid"
   ]
  },
  {
   "cell_type": "code",
   "execution_count": 4,
   "metadata": {},
   "outputs": [
    {
     "name": "stdout",
     "output_type": "stream",
     "text": [
      "The percent difference between the mean of these norms is 1.01e-08\n"
     ]
    }
   ],
   "source": [
    "# let's take a look at the radial velocities at the convective boundary\n",
    "# we will say that the convective boundary is when the gradient of FV is largest\n",
    "conv_radius = thisrprof.bound_rad([thismoms.what_dump_am_i],500.,1800.,'FV','max_grad')\n",
    "\n",
    "# problem is in the data we have |ur|, what about direction?\n",
    "# we can use ux, uy and uz to construct ur, utheta and uphi!\n",
    "# looking at the docs, this function gives me a list which contains ur, utheta and uphi\n",
    "u = thismoms.get_spherical_components('ux','uy','uz')\n",
    "ur = u[0]\n",
    "utheta = u[1]\n",
    "uphi = u[2]\n",
    "\n",
    "# the norm of |u| should be the same whether it is in cartesian or spherical, check\n",
    "# we can get a norm with variables within data by calling their strings we assigned them earlier\n",
    "# as well as supplying our own arrays to the method for derived quantities\n",
    "u_normc = thismoms.norm('ux','uy','uz')\n",
    "u_norms = thismoms.norm(ur,utheta,uphi)\n",
    "\n",
    "print('The percent difference between the mean of these norms is {:0.2e}'.\n",
    "      format(np.mean((u_normc - u_norms)/u_normc)))"
   ]
  },
  {
   "cell_type": "markdown",
   "metadata": {},
   "source": [
    "With all rprof and momsdata methods there are docstrings to help the user. They should be detailed enough for you to understand what is going on like below:"
   ]
  },
  {
   "cell_type": "code",
   "execution_count": 5,
   "metadata": {},
   "outputs": [
    {
     "data": {
      "text/plain": [
       "\u001b[0;31mSignature:\u001b[0m \u001b[0mthisrprof\u001b[0m\u001b[0;34m.\u001b[0m\u001b[0mbound_rad\u001b[0m\u001b[0;34m(\u001b[0m\u001b[0mcycles\u001b[0m\u001b[0;34m,\u001b[0m \u001b[0mr_min\u001b[0m\u001b[0;34m,\u001b[0m \u001b[0mr_max\u001b[0m\u001b[0;34m,\u001b[0m \u001b[0mvar\u001b[0m\u001b[0;34m=\u001b[0m\u001b[0;34m'ut'\u001b[0m\u001b[0;34m,\u001b[0m \u001b[0mcriterion\u001b[0m\u001b[0;34m=\u001b[0m\u001b[0;34m'min_grad'\u001b[0m\u001b[0;34m,\u001b[0m \u001b[0mvar_value\u001b[0m\u001b[0;34m=\u001b[0m\u001b[0;32mNone\u001b[0m\u001b[0;34m,\u001b[0m \u001b[0mreturn_var_scale_height\u001b[0m\u001b[0;34m=\u001b[0m\u001b[0;32mFalse\u001b[0m\u001b[0;34m,\u001b[0m \u001b[0meps\u001b[0m\u001b[0;34m=\u001b[0m\u001b[0;36m1e-09\u001b[0m\u001b[0;34m)\u001b[0m\u001b[0;34m\u001b[0m\u001b[0;34m\u001b[0m\u001b[0m\n",
       "\u001b[0;31mDocstring:\u001b[0m\n",
       "Method that finds the radius of a convective boundary.\n",
       "\n",
       "If the search is based on gradients, second-order centred finite\n",
       "differences are used to compute the gradient. The radius where\n",
       "the gradient reaches a local extreme (minimum or maximum depending\n",
       "on the value of criterion) is found. This radius is further\n",
       "refined by fitting a parabola to the three points around the\n",
       "local extreme and computing the radius at that the parabola\n",
       "reaches its extreme.\n",
       "\n",
       "If a certain value of var is searched for the method finds two\n",
       "cells between which var crosses the requested value and then it\n",
       "computes the radius of the actual crossing by linear interpolation.\n",
       "\n",
       "Parameters\n",
       "----------\n",
       "cycles : list\n",
       "    Cycle numbers to be used in the analysis.\n",
       "r_min : float\n",
       "    Minimum radius to for the boundary search.\n",
       "r_max : float\n",
       "    Maximum radius to for the boundary search.\n",
       "var : string\n",
       "    Name of the variable to be used in the boundary search.\n",
       "    This can be any variable contained in the data file or\n",
       "    a special variable 'ut', which is the tangential velocity\n",
       "    (computed in slightly different ways depending on the\n",
       "    source of data).\n",
       "criterion : string\n",
       "    Boundary definition criterion with the following options:\n",
       "    'min_grad' : Search for a local minimum in d(var)/dr.\n",
       "    'max_grad' : Search for a local maximum in d(var)/dr.\n",
       "    'value' : Search for the radius where var == var_value.\n",
       "var_value : float\n",
       "    Value of var to be searched for if criterion == 'value'.\n",
       "return_var_scale_height : bool\n",
       "    Allows the user to have the scale height of var evaluated\n",
       "    at the boundary radius to be returned as well.\n",
       "eps : float\n",
       "    Smallest value considered non-zero in the search alorighm.\n",
       "    \n",
       "Returns\n",
       "-------\n",
       "rb : 1D numpy array\n",
       "    The boundary radius is returned if return_var_scale_height == False.\n",
       "rb, Hv: 1D numpy arrays\n",
       "    The boundary radius rb and the scale height Hv of var evaluated\n",
       "    at rb are returned if return_var_scale_height == True.\n",
       "\u001b[0;31mFile:\u001b[0m      ~/home/PyPPM/ppmpy/ppm.py\n",
       "\u001b[0;31mType:\u001b[0m      method\n"
      ]
     },
     "metadata": {},
     "output_type": "display_data"
    }
   ],
   "source": [
    "thisrprof.bound_rad?"
   ]
  },
  {
   "cell_type": "code",
   "execution_count": 6,
   "metadata": {},
   "outputs": [
    {
     "data": {
      "text/plain": [
       "\u001b[0;31mSignature:\u001b[0m \u001b[0mthismoms\u001b[0m\u001b[0;34m.\u001b[0m\u001b[0mget_spherical_interpolation\u001b[0m\u001b[0;34m(\u001b[0m\u001b[0mvarloc\u001b[0m\u001b[0;34m,\u001b[0m \u001b[0mradius\u001b[0m\u001b[0;34m,\u001b[0m \u001b[0mfname\u001b[0m\u001b[0;34m=\u001b[0m\u001b[0;32mNone\u001b[0m\u001b[0;34m,\u001b[0m \u001b[0mmethod\u001b[0m\u001b[0;34m=\u001b[0m\u001b[0;34m'trilinear'\u001b[0m\u001b[0;34m,\u001b[0m \u001b[0mderivative\u001b[0m\u001b[0;34m=\u001b[0m\u001b[0;34m''\u001b[0m\u001b[0;34m,\u001b[0m \u001b[0mlogvarloc\u001b[0m\u001b[0;34m=\u001b[0m\u001b[0;32mFalse\u001b[0m\u001b[0;34m,\u001b[0m \u001b[0mcoefficients\u001b[0m\u001b[0;34m=\u001b[0m\u001b[0;32mFalse\u001b[0m\u001b[0;34m,\u001b[0m \u001b[0mget_igrid\u001b[0m\u001b[0;34m=\u001b[0m\u001b[0;32mFalse\u001b[0m\u001b[0;34m,\u001b[0m \u001b[0mplot_mollweide\u001b[0m\u001b[0;34m=\u001b[0m\u001b[0;32mTrue\u001b[0m\u001b[0;34m,\u001b[0m \u001b[0mnpoints\u001b[0m\u001b[0;34m=\u001b[0m\u001b[0;36m5000\u001b[0m\u001b[0;34m)\u001b[0m\u001b[0;34m\u001b[0m\u001b[0;34m\u001b[0m\u001b[0m\n",
       "\u001b[0;31mDocstring:\u001b[0m\n",
       "Returns the interpolated array of values of 'varloc' at a radius of 'radius' for a computed uniform distribution of points,\n",
       "'npoints', on that sphere(s). It can return the 'theta,phi' (mollweide) coordinates of the 'varloc' values as well.\n",
       "\n",
       "Parameters\n",
       "----------\n",
       "varloc: str, int, np.ndarray\n",
       "    String: for the variable you want if defined on instantiation\n",
       "    Int: index location of the variable you want\n",
       "    np.ndarray: quantity you want to have interpolated on the grid\n",
       "radius: float or np.ndarray\n",
       "    The radius of the sphere you want 'varloc' to be interpolated to\n",
       "fname: None,int\n",
       "    None: default option, will grab current dump\n",
       "    int: Dump number\n",
       "method: str\n",
       "    'trilinear' (fast): Use a trilinear method to interpolate onto the points on igrid\n",
       "    'moments' (slower): Use a moments averaging within a cell and using a quadratic function as the form for the interpolation\n",
       "derivative: str\n",
       "    The default is NO derivative, i.e an empty string.\n",
       "\n",
       "    Do you want the interpolated values to be of the gradient of varloc in the 'xyz' directions?\n",
       "    If you only want the x direction supply the string 'x' or if x and z then 'xz'. Must be the 'moments' method\n",
       "       method = 'moments': Use the analytic derivative of the moments quadratic function\n",
       "logvarloc: bool\n",
       "    For better fitting should I do varloc = np.log10(varloc)? This also changes how derivatives are handled for method='moments'\n",
       "    The returned varloc_interpolated will be scaled back\n",
       "coefficients: bool\n",
       "    In some cases you may want the coefficients for a particular interpolation scheme\n",
       "get_igrid: bool\n",
       "    In some cases you may want the actual grid points used for the particular interpolation scheme\n",
       "plot_mollweide: bool\n",
       "    Typically you want the theta, phi coordinates of the interpolated values so that it can be plotted with a projection method\n",
       "npoints: int\n",
       "    The number of 'theta and phi' points you want for a projection plot\n",
       "\n",
       "Returns\n",
       "-------\n",
       "plot_mollweide: True\n",
       "    varloc_interpolated, theta, phi: np.ndarray or list\n",
       "\n",
       "plot_mollweide: False\n",
       "    varloc_interpolated: np.ndarray or list\n",
       "\n",
       "derivative: Not Empty\n",
       "    [varloc_interpolated]\n",
       "\n",
       "coefficients: True\n",
       "    varloc_interpolated, coefficients, ...\n",
       "\n",
       "get_igrid: True\n",
       "    varloc_interpolated, ..., igrid\n",
       "\u001b[0;31mFile:\u001b[0m      ~/home/PyPPM/ppmpy/ppm.py\n",
       "\u001b[0;31mType:\u001b[0m      method\n"
      ]
     },
     "metadata": {},
     "output_type": "display_data"
    }
   ],
   "source": [
    "thismoms.get_spherical_interpolation?"
   ]
  },
  {
   "cell_type": "code",
   "execution_count": 47,
   "metadata": {},
   "outputs": [],
   "source": [
    "# so our ur is fine, get its trillinear interpolated value at the convective boundary\n",
    "# scale velocity by it's norm\n",
    "ur_at_r, theta_grid, phi_grid = thismoms.get_spherical_interpolation(ur/u_normc,conv_radius)\n",
    "utheta_at_r = thismoms.get_spherical_interpolation(utheta/u_normc,conv_radius,plot_mollweide=False)\n",
    "uphi_at_r = thismoms.get_spherical_interpolation(uphi/u_normc,conv_radius,plot_mollweide=False)\n",
    "\n",
    "# get the density on the boundary\n",
    "p_at_r = thismoms.get_spherical_interpolation('P',conv_radius,plot_mollweide=False,method='moments')\n",
    "\n",
    "# to understand where you are looking on a mollweide plot, plot xc\n",
    "xc = thismoms.get_spherical_interpolation('xc',conv_radius,plot_mollweide=False)\n",
    "\n",
    "# figure counter\n",
    "# ifig = 0"
   ]
  },
  {
   "cell_type": "code",
   "execution_count": 8,
   "metadata": {},
   "outputs": [
    {
     "data": {
      "application/vnd.jupyter.widget-view+json": {
       "model_id": "",
       "version_major": 2,
       "version_minor": 0
      },
      "text/plain": [
       "FigureCanvasNbAgg()"
      ]
     },
     "metadata": {},
     "output_type": "display_data"
    },
    {
     "name": "stderr",
     "output_type": "stream",
     "text": [
      "DEBUG:matplotlib.colorbar:locator: <matplotlib.colorbar._ColorbarAutoLocator object at 0x7fee420fd860>\n",
      "DEBUG:matplotlib.colorbar:Using auto colorbar locator on colorbar\n",
      "DEBUG:matplotlib.colorbar:locator: <matplotlib.colorbar._ColorbarAutoLocator object at 0x7fee420fd860>\n",
      "DEBUG:matplotlib.colorbar:Setting pcolormesh\n"
     ]
    },
    {
     "data": {
      "text/plain": [
       "Text(0.5, 1.0, 'R = 1534 Mm')"
      ]
     },
     "execution_count": 8,
     "metadata": {},
     "output_type": "execute_result"
    }
   ],
   "source": [
    "# now we can plot with a mollweide projection\n",
    "plt.close(ifig); ifig +=1; plt.figure(ifig)\n",
    "\n",
    "# we want a mollweide projection\n",
    "ax = plt.subplot(111, projection = 'mollweide')\n",
    "\n",
    "# create the triangles that define boundaries for the values\n",
    "triang = tri.Triangulation(phi_grid,theta_grid)\n",
    "plt.tripcolor(triang,xc,cmap='RdBu_r')\n",
    "cbar = plt.colorbar()\n",
    "cbar.set_label('xc')\n",
    "\n",
    "ax.set_xticklabels([])\n",
    "ax.set_yticklabels([])\n",
    "\n",
    "plt.title('R = {:0.0f} Mm'.format(conv_radius[0]))"
   ]
  },
  {
   "cell_type": "code",
   "execution_count": 9,
   "metadata": {},
   "outputs": [
    {
     "data": {
      "application/vnd.jupyter.widget-view+json": {
       "model_id": "",
       "version_major": 2,
       "version_minor": 0
      },
      "text/plain": [
       "FigureCanvasNbAgg()"
      ]
     },
     "metadata": {},
     "output_type": "display_data"
    },
    {
     "name": "stderr",
     "output_type": "stream",
     "text": [
      "DEBUG:matplotlib.colorbar:locator: <matplotlib.colorbar._ColorbarAutoLocator object at 0x7fee40e05208>\n",
      "DEBUG:matplotlib.colorbar:Using auto colorbar locator on colorbar\n",
      "DEBUG:matplotlib.colorbar:locator: <matplotlib.colorbar._ColorbarAutoLocator object at 0x7fee40e05208>\n",
      "DEBUG:matplotlib.colorbar:Setting pcolormesh\n"
     ]
    },
    {
     "data": {
      "text/plain": [
       "Text(0.5, 1.0, 'R = 1534 Mm')"
      ]
     },
     "execution_count": 9,
     "metadata": {},
     "output_type": "execute_result"
    }
   ],
   "source": [
    "# now we can plot with a mollweide projection\n",
    "plt.close(ifig); ifig +=1; plt.figure(ifig)\n",
    "\n",
    "# we want a mollweide projection\n",
    "ax = plt.subplot(111, projection = 'mollweide')\n",
    "\n",
    "# create the triangles that define boundaries for the values\n",
    "triang = tri.Triangulation(phi_grid,theta_grid)\n",
    "\n",
    "# scale velocity by it's norm\n",
    "plt.tripcolor(triang,ur_at_r,cmap='RdBu_r')\n",
    "cbar = plt.colorbar()\n",
    "cbar.set_label('ur / |u|')\n",
    "\n",
    "ax.set_xticklabels([])\n",
    "ax.set_yticklabels([])\n",
    "\n",
    "plt.title('R = {:0.0f} Mm'.format(conv_radius[0]))"
   ]
  },
  {
   "cell_type": "code",
   "execution_count": 49,
   "metadata": {},
   "outputs": [
    {
     "data": {
      "application/vnd.jupyter.widget-view+json": {
       "model_id": "91a25f2b76754f428aa3128a10b2f018",
       "version_major": 2,
       "version_minor": 0
      },
      "text/plain": [
       "FigureCanvasNbAgg()"
      ]
     },
     "metadata": {},
     "output_type": "display_data"
    },
    {
     "name": "stderr",
     "output_type": "stream",
     "text": [
      "DEBUG:matplotlib.colorbar:locator: <matplotlib.colorbar._ColorbarAutoLocator object at 0x7fedf5a802e8>\n",
      "DEBUG:matplotlib.colorbar:Using auto colorbar locator on colorbar\n",
      "DEBUG:matplotlib.colorbar:locator: <matplotlib.colorbar._ColorbarAutoLocator object at 0x7fedf5a802e8>\n",
      "DEBUG:matplotlib.colorbar:Setting pcolormesh\n"
     ]
    },
    {
     "data": {
      "text/plain": [
       "Text(0.5, 1.0, 'R = 1534 Mm')"
      ]
     },
     "execution_count": 49,
     "metadata": {},
     "output_type": "execute_result"
    }
   ],
   "source": [
    "# now we can plot with a mollweide projection\n",
    "plt.close(ifig); ifig +=1; plt.figure(ifig)\n",
    "\n",
    "# we want a mollweide projection\n",
    "ax = plt.subplot(111, projection = 'mollweide')\n",
    "\n",
    "# create the triangles that define boundaries for the values\n",
    "triang = tri.Triangulation(phi_grid,theta_grid)\n",
    "\n",
    "# scale velocity by it's norm\n",
    "plt.tripcolor(triang,p_at_r,cmap='RdBu_r')\n",
    "cbar = plt.colorbar()\n",
    "cbar.set_label(r'P')\n",
    "\n",
    "ax.set_xticklabels([])\n",
    "ax.set_yticklabels([])\n",
    "\n",
    "plt.title('R = {:0.0f} Mm'.format(conv_radius[0]))"
   ]
  },
  {
   "cell_type": "markdown",
   "metadata": {},
   "source": [
    "The flow is mainly driven by a dipole with flows moving right through the center. This creates positive and negative ur at different parts of the sphere we are looking at"
   ]
  },
  {
   "cell_type": "code",
   "execution_count": 13,
   "metadata": {},
   "outputs": [],
   "source": [
    "d_radius = 100.\n",
    "ur_dipole = thismoms.get_spherical_interpolation(ur/u_normc,d_radius,plot_mollweide=False)"
   ]
  },
  {
   "cell_type": "code",
   "execution_count": 14,
   "metadata": {},
   "outputs": [
    {
     "data": {
      "application/vnd.jupyter.widget-view+json": {
       "model_id": "",
       "version_major": 2,
       "version_minor": 0
      },
      "text/plain": [
       "FigureCanvasNbAgg()"
      ]
     },
     "metadata": {},
     "output_type": "display_data"
    },
    {
     "name": "stderr",
     "output_type": "stream",
     "text": [
      "DEBUG:matplotlib.colorbar:locator: <matplotlib.colorbar._ColorbarAutoLocator object at 0x7fee0397eb38>\n",
      "DEBUG:matplotlib.colorbar:Using auto colorbar locator on colorbar\n",
      "DEBUG:matplotlib.colorbar:locator: <matplotlib.colorbar._ColorbarAutoLocator object at 0x7fee0397eb38>\n",
      "DEBUG:matplotlib.colorbar:Setting pcolormesh\n"
     ]
    },
    {
     "data": {
      "text/plain": [
       "Text(0.5, 1.0, 'R = 100 Mm')"
      ]
     },
     "execution_count": 14,
     "metadata": {},
     "output_type": "execute_result"
    }
   ],
   "source": [
    "# now we can plot with a mollweide projection\n",
    "ifig +=1; plt.figure(ifig)\n",
    "\n",
    "# we want a mollweide projection\n",
    "ax = plt.subplot(111, projection = 'mollweide')\n",
    "\n",
    "# create the triangles that define boundaries for the values\n",
    "triang = tri.Triangulation(phi_grid,theta_grid)\n",
    "\n",
    "# scale velocity by it's norm\n",
    "plt.tripcolor(triang,ur_dipole,cmap='RdBu_r')\n",
    "cbar = plt.colorbar()\n",
    "cbar.set_label('ur / |u|')\n",
    "\n",
    "ax.set_xticklabels([])\n",
    "ax.set_yticklabels([])\n",
    "\n",
    "plt.title('R = {:0.0f} Mm'.format(d_radius))"
   ]
  },
  {
   "cell_type": "code",
   "execution_count": null,
   "metadata": {},
   "outputs": [],
   "source": []
  }
 ],
 "metadata": {
  "kernelspec": {
   "display_name": "Python 3",
   "language": "python",
   "name": "python3"
  },
  "language_info": {
   "codemirror_mode": {
    "name": "ipython",
    "version": 3
   },
   "file_extension": ".py",
   "mimetype": "text/x-python",
   "name": "python",
   "nbconvert_exporter": "python",
   "pygments_lexer": "ipython3",
   "version": "3.6.7"
  }
 },
 "nbformat": 4,
 "nbformat_minor": 2
}
