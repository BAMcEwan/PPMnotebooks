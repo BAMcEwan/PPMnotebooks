{
 "cells": [
  {
   "cell_type": "code",
   "execution_count": null,
   "metadata": {},
   "outputs": [],
   "source": [
    "%matplotlib inline\n",
    "import numpy as np\n",
    "import matplotlib.pyplot as plt\n",
    "import matplotlib.tri as tri\n",
    "import matplotlib.colors as colors\n",
    "import nugridpy.utils as utils\n",
    "import sys\n",
    "import logging\n",
    "import collections\n",
    "import os\n",
    "\n",
    "# you can use sys.path.insert to add your own cloned copy of PyPPM which you can modify\n",
    "# sys.path.insert(0,'/home/user/home/PyPPM/')\n",
    "from ppmpy import ppm\n",
    "\n",
    "# plotting utilities\n",
    "ifig = 0\n",
    "ptrack = {}\n",
    "cb = utils.linestylecb # colours\n",
    "\n",
    "# create smaller labelsizes on axes\n",
    "plt.rc('xtick', labelsize=7)\n",
    "plt.rc('ytick', labelsize=7)\n",
    "\n",
    "# named tuple for using rprofs and momsdata\n",
    "hydro = collections.namedtuple('hydro', ['moms','rprof'])\n",
    "\n",
    "# turn off matplotlib messages\n",
    "logging.getLogger(\"matplotlib\").setLevel(logging.CRITICAL)"
   ]
  },
  {
   "cell_type": "code",
   "execution_count": null,
   "metadata": {},
   "outputs": [],
   "source": [
    "# load in data, use LowZRAWD N16\n",
    "moms_dir = '/data/ASDR/PPMstar/LowZRAWD/N16-LowZRAWD-1536-10x-burn-moms/myavsbq'\n",
    "rprof_dir = '/data/ASDR/PPMstar/LowZRAWD/N16-LowZRAWD-1536-10x-burn-moms/prfs/'\n",
    "\n",
    "# the list of variables that are stored within the momsdata cube.\n",
    "var_list = ['xc','ux','uy','uz','|ut|','|ur|','|w|','P','rho','fv']\n",
    "\n",
    "# the dump to plot. read this in immediately \n",
    "mydump = 650\n",
    "\n",
    "# create the \"hydro\" tuple\n",
    "n16 = hydro(ppm.MomsDataSet(moms_dir,mydump,2,var_list,rprofset=ppm.RprofSet(rprof_dir)),\n",
    "              ppm.RprofSet(rprof_dir))"
   ]
  },
  {
   "cell_type": "markdown",
   "metadata": {},
   "source": [
    "Some constants for converting $X_{\\mathrm{cld}}$ fluid to $X_{\\mathrm{H}}$"
   ]
  },
  {
   "cell_type": "code",
   "execution_count": null,
   "metadata": {},
   "outputs": [],
   "source": [
    "atomicnocld = n16.rprof.get('atomicnocld',fname=0)\n",
    "atomicnoH = 1.\n",
    "fkcld = n16.rprof.get('fkcld',fname=0)\n",
    "airmu = n16.rprof.get('airmu',fname=0)\n",
    "cldmu = n16.rprof.get('cldmu',fname=0)"
   ]
  },
  {
   "cell_type": "markdown",
   "metadata": {},
   "source": [
    "#### Find a Suitable Radius"
   ]
  },
  {
   "cell_type": "markdown",
   "metadata": {},
   "source": [
    "We want to find a radius in which the H is just beginning to burn which in the LowZRAWD runs is roughly in the center of the convection zone"
   ]
  },
  {
   "cell_type": "code",
   "execution_count": null,
   "metadata": {},
   "outputs": [],
   "source": [
    "# this ensures that I can open an close the figure that was plotted within this cell. \n",
    "# It doesn't matter in what order I run the notebook cells, this keeps track of it\n",
    "celln = 0\n",
    "\n",
    "# configure plots\n",
    "close_local = ppm.close_plot(celln,ifig,ptrack)\n",
    "if close_local[0]:\n",
    "    plt.close(fig); ifig += 1; fig = plt.figure(ifig,figsize=(3.5,2.5),dpi=300)\n",
    "    ppm.add_plot(celln,ifig,ptrack)\n",
    "else:\n",
    "    ifig += 1; fig = plt.figure(ifig,figsize=(3.5,2.5),dpi=300)\n",
    "    ppm.add_plot(celln,ifig,ptrack)\n",
    "   \n",
    "# set the colour/linestyle counter to 0 and create axes\n",
    "cbc = 0\n",
    "ax = fig.add_subplot(111)\n",
    "\n",
    "# a good radius to use\n",
    "myradius = 16\n",
    "\n",
    "# get the Xcld and plot it. We can access the \"rprof\" intuitively with the hydro tuple\n",
    "Xcld = n16.rprof.compute_Xcld(mydump)\n",
    "r = n16.rprof.get('R',fname=mydump,resolution='l')\n",
    "\n",
    "ax.plot(r, Xcld, color=cb(cbc)[2], ls=cb(cbc)[0])\n",
    "cbc += 1\n",
    "\n",
    "# create the line referring to a \"suitable\" radius\n",
    "myylim = ax.get_ylim()\n",
    "ax.vlines(myradius, *myylim, color='k', linestyle=':')\n",
    "\n",
    "# add limits and labels\n",
    "ax.set_xlabel('R / Mm')\n",
    "ax.set_ylabel(r'$X_{\\mathrm{cld}}$')\n",
    "ax.set_yscale('log')\n",
    "ax.set_ylim([1e-8,1.1])\n",
    "ax.set_xlim([r.min(),r.max()])"
   ]
  },
  {
   "cell_type": "code",
   "execution_count": null,
   "metadata": {},
   "outputs": [],
   "source": [
    "# number of points for interpolation onto a sphere for plotting and calculations\n",
    "# I calculate how many points this is at a given radius and what mode l we can resolve\n",
    "npoints = n16.moms.sphericalHarmonics_lmax(myradius)[-1]\n",
    "\n",
    "# gridline width for mollweide\n",
    "gridlines = 0.1"
   ]
  },
  {
   "cell_type": "markdown",
   "metadata": {},
   "source": [
    "## Mollweide Plots of $u_{\\mathrm{r}}$, X$_{\\mathrm{H}}$, and $\\rho$ perturbations"
   ]
  },
  {
   "cell_type": "markdown",
   "metadata": {},
   "source": [
    "First get all of the appropriate moms data and then interpolate the data onto a sphere for plotting in the mollweide projection. Methods of the MomsDataSet class will handle the appropriate coordinates and  computing the interpolations  "
   ]
  },
  {
   "cell_type": "code",
   "execution_count": null,
   "metadata": {},
   "outputs": [],
   "source": [
    "# start off with ur\n",
    "ux = n16.moms.get('ux',fname=mydump)\n",
    "uy = n16.moms.get('uy',fname=mydump)\n",
    "uz = n16.moms.get('uz',fname=mydump)\n",
    "\n",
    "ur, utheta, uphi = n16.moms.get_spherical_components(ux, uy, uz)\n",
    "ur_r, theta_r, phi_r = n16.moms.get_spherical_interpolation(ur, myradius, npoints=npoints, \n",
    "                                                            plot_mollweide=True)\n",
    "\n",
    "# convert to km/s\n",
    "ur_r *= 1e3"
   ]
  },
  {
   "cell_type": "code",
   "execution_count": null,
   "metadata": {},
   "outputs": [],
   "source": [
    "# to get XH we first need Xcld which is derived from fv\n",
    "fv = n16.moms.get('fv',fname=mydump)\n",
    "Xcld = fv/((1. - fv)*(airmu/cldmu) + fv)\n",
    "XH = atomicnoH * (fkcld / atomicnocld) * Xcld\n",
    "\n",
    "# we use the same number of points so theta_r and phi_r apply to XH_r as well!\n",
    "XH_r = n16.moms.get_spherical_interpolation(XH, myradius, npoints=npoints)"
   ]
  },
  {
   "cell_type": "markdown",
   "metadata": {},
   "source": [
    "We will showcase two different types of interpolation methods for $\\rho$, the linear and moments interpolation types"
   ]
  },
  {
   "cell_type": "code",
   "execution_count": null,
   "metadata": {},
   "outputs": [],
   "source": [
    "# get rho on the sphere with linear interpolation\n",
    "rho = n16.moms.get('rho',fname=mydump)\n",
    "rho_trilinear_r = n16.moms.get_spherical_interpolation(rho, myradius, npoints=npoints, method='trilinear')\n",
    "rho_moments_r = n16.moms.get_spherical_interpolation(rho, myradius, npoints=npoints, method='moments')\n",
    "\n",
    "# estimate spherical average of rho on myradius\n",
    "avg_rho_trilinear = rho_trilinear_r.mean()\n",
    "avg_rho_moments = rho_moments_r.mean()\n",
    "\n",
    "# compute perturbation on the sphere\n",
    "rho_pert_trilinear_r = (rho_trilinear_r - avg_rho_trilinear) / avg_rho_trilinear\n",
    "rho_pert_moments_r = (rho_moments_r - avg_rho_moments) / avg_rho_moments"
   ]
  },
  {
   "cell_type": "markdown",
   "metadata": {},
   "source": [
    "#### Plot Ur"
   ]
  },
  {
   "cell_type": "markdown",
   "metadata": {},
   "source": [
    "We have the $\\theta$ and $\\phi$ coordinates which are defined from $\\pi/2, -\\pi/2$ for $\\theta$ and $-\\pi, \\pi$ for $\\phi$ instead of spherical coordinates in order to plot the data with matplotlib. We can simply plot with a scatter plot keeping in mind that we want \"pixel\" sized markers so that it will show most/all of the data without any overlap. With the 384$^{3}$ data there are enough points at the radii within the convection zone so that there are no blank spots in the plots"
   ]
  },
  {
   "cell_type": "code",
   "execution_count": null,
   "metadata": {},
   "outputs": [],
   "source": [
    "# this ensures that I can open an close the figure that was plotted within this cell. \n",
    "# It doesn't matter in what order I run the notebook cells, this keeps track of it\n",
    "celln = 1\n",
    "\n",
    "# configure plots\n",
    "close_local = ppm.close_plot(celln,ifig,ptrack)\n",
    "if close_local[0]:\n",
    "    plt.close(fig); ifig += 1; fig = plt.figure(ifig,figsize=(3.5,2.5),dpi=300)\n",
    "    ppm.add_plot(celln,ifig,ptrack)\n",
    "else:\n",
    "    ifig += 1; fig = plt.figure(ifig,figsize=(3.5,2.5),dpi=300)\n",
    "    ppm.add_plot(celln,ifig,ptrack)\n",
    "\n",
    "# create mollweide projection axes. Leave room for a colourbar\n",
    "ax = plt.axes([0.01, 0.01, 0.98, 0.88], projection='mollweide')\n",
    "\n",
    "# ensure even bounds\n",
    "ur_bounds = np.max(np.abs(ur_r))\n",
    "\n",
    "# plot as a scatter plot. Make the markersize, s, a pixel (look at the definition of s)\n",
    "ax.scatter(phi_r, theta_r, s=(72./fig.dpi)**2, marker=',', c=ur_r, \n",
    "           cmap='RdBu_r',vmin=-ur_bounds,vmax=ur_bounds)\n",
    "\n",
    "# create a colorbar for the scatter plot data, use a new axes for it\n",
    "cax = fig.add_axes([0.01, 0.03, 0.98, 0.03])\n",
    "cbar1 = fig.colorbar(ax.collections[0], cax=cax, orientation='horizontal',format='%.1f',\n",
    "                     label=r'v$_{\\mathrm{r}}$  / km s$^{-1}$')\n",
    "        \n",
    "# remove ticklabels and thin out grid\n",
    "ax.set_xticklabels([])\n",
    "ax.set_yticklabels([])\n",
    "ax.grid(color='k', linewidth=gridlines)"
   ]
  },
  {
   "cell_type": "markdown",
   "metadata": {},
   "source": [
    "This is an older technique that uses the $\\theta$ and $\\phi$ points and then creates roughly equal area trianges that are filled in with colour. Because it needs to create these triangles, it is a much slower plotting technique and it can only perform reasonably with $\\approx 10,000$ points"
   ]
  },
  {
   "cell_type": "code",
   "execution_count": null,
   "metadata": {},
   "outputs": [],
   "source": [
    "# get less points\n",
    "npoints_plot = 10000\n",
    "ur_r_triang, theta_r_triang, phi_r_triang = n16.moms.get_spherical_interpolation(ur, myradius, \n",
    "                                                            npoints=npoints_plot, plot_mollweide=True)\n",
    "\n",
    "# convert to km/s\n",
    "ur_r_triang *= 1e3"
   ]
  },
  {
   "cell_type": "code",
   "execution_count": null,
   "metadata": {},
   "outputs": [],
   "source": [
    "# this ensures that I can open an close the figure that was plotted within this cell. \n",
    "# It doesn't matter in what order I run the notebook cells, this keeps track of it\n",
    "celln = 2\n",
    "\n",
    "# configure plots\n",
    "close_local = ppm.close_plot(celln,ifig,ptrack)\n",
    "if close_local[0]:\n",
    "    plt.close(fig); ifig += 1; fig = plt.figure(ifig,figsize=(3.5,2.5),dpi=300)\n",
    "    ppm.add_plot(celln,ifig,ptrack)\n",
    "else:\n",
    "    ifig += 1; fig = plt.figure(ifig,figsize=(3.5,2.5),dpi=300)\n",
    "    ppm.add_plot(celln,ifig,ptrack)\n",
    "    \n",
    "ax = plt.axes([0.01, 0.01, 0.98, 0.88], projection='mollweide')\n",
    "\n",
    "# create mollweide projection axes. Leave room for a colourbar\n",
    "triang = tri.Triangulation(phi_r_triang,theta_r_triang)\n",
    "\n",
    "# ensure even bounds\n",
    "ur_bounds = np.max(np.abs(ur_r))\n",
    "\n",
    "# tripcolor plots colour values of unordered data points of the triangles. This is why it takes so long\n",
    "ax.tripcolor(triang,ur_r_triang,cmap='RdBu_r',vmin=-ur_bounds,vmax=ur_bounds)\n",
    "\n",
    "# create a colorbar for the ax tripcolor, use a new axes for it\n",
    "cax = fig.add_axes([0.01, 0.03, 0.98, 0.03])\n",
    "cbar1 = fig.colorbar(ax.collections[0], cax=cax, orientation='horizontal',format='%.1f',\n",
    "                     label=r'v$_{\\mathrm{r}}$  / km s$^{-1}$')\n",
    "        \n",
    "# remove ticklabels and thin out grid\n",
    "ax.set_xticklabels([])\n",
    "ax.set_yticklabels([])\n",
    "ax.grid(color='k', linewidth=gridlines)"
   ]
  },
  {
   "cell_type": "markdown",
   "metadata": {},
   "source": [
    "#### Plot X$_{\\mathrm{H}}$"
   ]
  },
  {
   "cell_type": "code",
   "execution_count": null,
   "metadata": {},
   "outputs": [],
   "source": [
    "# this ensures that I can open an close the figure that was plotted within this cell. \n",
    "# It doesn't matter in what order I run the notebook cells, this keeps track of it\n",
    "celln = 3\n",
    "\n",
    "# configure plots\n",
    "close_local = ppm.close_plot(celln,ifig,ptrack)\n",
    "if close_local[0]:\n",
    "    plt.close(fig); ifig += 1; fig = plt.figure(ifig,figsize=(3.5,2.5),dpi=300)\n",
    "    ppm.add_plot(celln,ifig,ptrack)\n",
    "else:\n",
    "    ifig += 1; fig = plt.figure(ifig,figsize=(3.5,2.5),dpi=300)\n",
    "    ppm.add_plot(celln,ifig,ptrack)\n",
    "\n",
    "# create mollweide projection axes. Leave room for a colourbar\n",
    "ax = plt.axes([0.01, 0.01, 0.98, 0.88], projection='mollweide')\n",
    "\n",
    "# plot with particular bounds. Anything below 1e-7 is 0\n",
    "XH_log = [1e-7, 1e-4]\n",
    "XH_r[np.where(XH_r < 1e-7)] = 0.\n",
    "\n",
    "# plot as a scatter plot. Make the markersize, s, a pixel (look at the definition of s)\n",
    "ax.scatter(phi_r, theta_r, s=(72./fig.dpi)**2, marker=',', c=XH_r, \n",
    "           cmap='Spectral_r',norm=colors.LogNorm(*XH_log))\n",
    "\n",
    "# create a colorbar for the scatter plot data, use a new axes for it\n",
    "cax = fig.add_axes([0.01, 0.03, 0.98, 0.03])\n",
    "cbar1 = fig.colorbar(ax.collections[0], cax=cax, orientation='horizontal',format='%.1e',\n",
    "                             label=r'X$_{\\mathrm{H}}$')\n",
    "        \n",
    "# remove ticklabels and thin out grid\n",
    "ax.set_xticklabels([])\n",
    "ax.set_yticklabels([])\n",
    "ax.grid(color='k', linewidth=gridlines)\n",
    "        \n",
    "# remove ticklabels and thin out grid\n",
    "ax.set_xticklabels([])\n",
    "ax.set_yticklabels([])\n",
    "ax.grid(color='k', linewidth=gridlines)"
   ]
  },
  {
   "cell_type": "markdown",
   "metadata": {},
   "source": [
    "#### Plot $\\rho$ perturbations"
   ]
  },
  {
   "cell_type": "code",
   "execution_count": null,
   "metadata": {},
   "outputs": [],
   "source": [
    "# this ensures that I can open an close the figure that was plotted within this cell. \n",
    "# It doesn't matter in what order I run the notebook cells, this keeps track of it\n",
    "celln = 4\n",
    "\n",
    "# configure plots\n",
    "close_local = ppm.close_plot(celln,ifig,ptrack)\n",
    "if close_local[0]:\n",
    "    plt.close(fig); ifig += 1; fig = plt.figure(ifig,figsize=(3.5,2.5),dpi=300)\n",
    "    ppm.add_plot(celln,ifig,ptrack)\n",
    "else:\n",
    "    ifig += 1; fig = plt.figure(ifig,figsize=(3.5,2.5),dpi=300)\n",
    "    ppm.add_plot(celln,ifig,ptrack)\n",
    "\n",
    "# create mollweide projection axes. Leave room for a colourbar\n",
    "ax = plt.axes([0.01, 0.01, 0.98, 0.88], projection='mollweide')\n",
    "\n",
    "# ensure even bounds\n",
    "rho_bounds = np.abs(rho_pert_trilinear_r).max()\n",
    "\n",
    "# plot as a scatter plot. Make the markersize, s, a pixel (look at the definition of s)\n",
    "ax.scatter(phi_r, theta_r, s=(72./fig.dpi)**2, marker=',', c=rho_pert_trilinear_r, \n",
    "           cmap='BrBG',vmin=-rho_bounds,vmax=rho_bounds)\n",
    "\n",
    "# create a colorbar for the scatter plot data, use a new axes for it\n",
    "cax = fig.add_axes([0.01, 0.03, 0.98, 0.03])\n",
    "cbar1 = fig.colorbar(ax.collections[0], cax=cax, orientation='horizontal',format='%.0e',\n",
    "                             label=r'$\\left( \\rho - \\langle \\rho \\rangle \\right) / \\langle \\rho \\rangle$')\n",
    "        \n",
    "# remove ticklabels and thin out grid\n",
    "ax.set_xticklabels([])\n",
    "ax.set_yticklabels([])\n",
    "ax.grid(color='k', linewidth=gridlines)"
   ]
  },
  {
   "cell_type": "markdown",
   "metadata": {},
   "source": [
    "Because linear interpolation is used on a quantity that is very close to spherically symmetric there are systematic ringing effects seen. Instead, for a quantity like $\\rho$ it is more appropriate to use the moments type interpolation as it can be much \"smoother\" IF the underlying data is nearly continuous. This is not true for quantities like $u_{\\mathrm{r}}$ or X$_{\\mathrm{H}}$"
   ]
  },
  {
   "cell_type": "code",
   "execution_count": null,
   "metadata": {},
   "outputs": [],
   "source": [
    "# this ensures that I can open an close the figure that was plotted within this cell. \n",
    "# It doesn't matter in what order I run the notebook cells, this keeps track of it\n",
    "celln = 5\n",
    "\n",
    "# configure plots\n",
    "close_local = ppm.close_plot(celln,ifig,ptrack)\n",
    "if close_local[0]:\n",
    "    plt.close(fig); ifig += 1; fig = plt.figure(ifig,figsize=(3.5,2.5),dpi=300)\n",
    "    ppm.add_plot(celln,ifig,ptrack)\n",
    "else:\n",
    "    ifig += 1; fig = plt.figure(ifig,figsize=(3.5,2.5),dpi=300)\n",
    "    ppm.add_plot(celln,ifig,ptrack)\n",
    "\n",
    "# create mollweide projection axes. Leave room for a colourbar\n",
    "ax = plt.axes([0.01, 0.01, 0.98, 0.88], projection='mollweide')\n",
    "\n",
    "# ensure even bounds\n",
    "rho_bounds = np.abs(rho_pert_moments_r).max()\n",
    "\n",
    "# plot as a scatter plot. Make the markersize, s, a pixel (look at the definition of s)\n",
    "ax.scatter(phi_r, theta_r, s=(72./fig.dpi)**2, marker=',', c=rho_pert_moments_r, \n",
    "           cmap='BrBG',vmin=-rho_bounds,vmax=rho_bounds)\n",
    "\n",
    "# create a colorbar for the scatter plot data, use a new axes for it\n",
    "cax = fig.add_axes([0.01, 0.03, 0.98, 0.03])\n",
    "cbar1 = fig.colorbar(ax.collections[0], cax=cax, orientation='horizontal',format='%.0e',\n",
    "                             label=r'$\\left( \\rho - \\langle \\rho \\rangle \\right) / \\langle \\rho \\rangle$')\n",
    "        \n",
    "# remove ticklabels and thin out grid\n",
    "ax.set_xticklabels([])\n",
    "ax.set_yticklabels([])\n",
    "ax.grid(color='k', linewidth=gridlines)"
   ]
  },
  {
   "cell_type": "code",
   "execution_count": null,
   "metadata": {},
   "outputs": [],
   "source": []
  }
 ],
 "metadata": {
  "kernelspec": {
   "display_name": "Python 3",
   "language": "python",
   "name": "python3"
  },
  "language_info": {
   "codemirror_mode": {
    "name": "ipython",
    "version": 3
   },
   "file_extension": ".py",
   "mimetype": "text/x-python",
   "name": "python",
   "nbconvert_exporter": "python",
   "pygments_lexer": "ipython3",
   "version": "3.6.7"
  }
 },
 "nbformat": 4,
 "nbformat_minor": 2
}
