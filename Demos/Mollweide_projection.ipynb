{
 "cells": [
  {
   "cell_type": "markdown",
   "metadata": {},
   "source": [
    "# Using healpy and yt to make Mollweide projections of spheres"
   ]
  },
  {
   "cell_type": "code",
   "execution_count": 1,
   "metadata": {},
   "outputs": [
    {
     "name": "stdout",
     "output_type": "stream",
     "text": [
      "438 .aaa files found in '/data/ASDR/H-core-M25/M35-1536/myavsbq/.\n",
      "Dump numbers range from 0 to 437.\n"
     ]
    },
    {
     "name": "stderr",
     "output_type": "stream",
     "text": [
      "yt : [INFO     ] 2018-12-20 16:59:53,191 Parameters: current_time              = 0.0\n",
      "yt : [INFO     ] 2018-12-20 16:59:53,193 Parameters: domain_dimensions         = [384 384 384]\n",
      "yt : [INFO     ] 2018-12-20 16:59:53,193 Parameters: domain_left_edge          = [-2493.48950195 -2493.48950195 -2493.48950195]\n",
      "yt : [INFO     ] 2018-12-20 16:59:53,194 Parameters: domain_right_edge         = [2493.48950195 2493.48950195 2493.48950195]\n",
      "yt : [INFO     ] 2018-12-20 16:59:53,195 Parameters: cosmological_simulation   = 0.0\n"
     ]
    }
   ],
   "source": [
    "import numpy as np\n",
    "import healpy as hp\n",
    "import matplotlib.pyplot as plt\n",
    "import nugridpy.utils as utils\n",
    "import sys\n",
    "sys.path.insert(0,'/home/user/home/PyPPM/')\n",
    "from ppmpy import ppm\n",
    "import os\n",
    "import yt\n",
    "\n",
    "dir_repo = '/data/ASDR'\n",
    "dir_project = 'H-core-M25'\n",
    "# run, dump = 'M29-768', 650\n",
    "run, dump = 'M35-1536', 425\n",
    "\n",
    "path = os.path.join(dir_repo,dir_project,run)\n",
    "moms = ppm.MomsDataSet(os.path.join(path,'myavsbq'),dump)\n",
    "\n",
    "x,y,z = moms.get_cgrid()\n",
    "\n",
    "res = moms.moms_resolution    # should be 192\n",
    "vor_matrix = moms.get(6,dump)\n",
    "\n",
    "data = dict(vorticity=vor_matrix)\n",
    "bbox = np.array([[np.min(x),np.max(x)], [np.min(y),np.max(y)], [np.min(z),np.max(z)]])\n",
    "ds = yt.load_uniform_grid(data=data, domain_dimensions=[res,res,res], length_unit='Mm', bbox=bbox)"
   ]
  },
  {
   "cell_type": "code",
   "execution_count": 2,
   "metadata": {},
   "outputs": [
    {
     "name": "stdout",
     "output_type": "stream",
     "text": [
      "223208 triangles on the surface\n"
     ]
    }
   ],
   "source": [
    "from yt.units import cm, Mm, m\n",
    "radius = 1000. * Mm\n",
    "all = ds.all_data()   # flat collection of all points\n",
    "surface = ds.surface(data_source=all, surface_field=('index', 'radius'), field_value=radius)\n",
    "numTriangles = surface.triangles.shape[0]\n",
    "print(numTriangles, 'triangles on the surface')"
   ]
  },
  {
   "cell_type": "code",
   "execution_count": 3,
   "metadata": {},
   "outputs": [],
   "source": [
    "points = []\n",
    "for i, t in enumerate(surface.triangles):\n",
    "    points.append([t[:,0].mean(), t[:,1].mean(), t[:,2].mean()])\n",
    "\n",
    "coords = np.array(points)\n",
    "theta, phi = hp.vec2ang(coords)   # latitude,longitude of all trianles\n",
    "theta -= np.pi/2.\n",
    "phi -= np.pi"
   ]
  },
  {
   "cell_type": "code",
   "execution_count": 4,
   "metadata": {},
   "outputs": [
    {
     "data": {
      "application/vnd.jupyter.widget-view+json": {
       "model_id": "d7f6e8ab6f35468480fee44972fe7306",
       "version_major": 2,
       "version_minor": 0
      },
      "text/plain": [
       "FigureCanvasNbAgg()"
      ]
     },
     "metadata": {},
     "output_type": "display_data"
    },
    {
     "name": "stderr",
     "output_type": "stream",
     "text": [
      "yt : [INFO     ] 2018-12-20 17:01:29,493 Extracting (sampling: ('stream', 'vorticity'))\n",
      "DEBUG:matplotlib.colorbar:locator: <matplotlib.colorbar._ColorbarAutoLocator object at 0x7f8b68c547b8>\n",
      "DEBUG:matplotlib.colorbar:Using auto colorbar locator on colorbar\n",
      "DEBUG:matplotlib.colorbar:locator: <matplotlib.colorbar._ColorbarAutoLocator object at 0x7f8b68c547b8>\n",
      "DEBUG:matplotlib.colorbar:Setting pcolormesh\n"
     ]
    }
   ],
   "source": [
    "close(1);figure(1,figsize=(8,6))\n",
    "ax = plt.subplot(111, projection = 'mollweide')\n",
    "im = ax.tripcolor(phi,theta,surface['vorticity'])   # create a pseudocolor plot of an unstructured triangular grid\n",
    "frame = plt.gca(projection='mollweide')\n",
    "frame.axes.xaxis.set_ticklabels([])\n",
    "frame.axes.yaxis.set_ticklabels([])\n",
    "cbar = plt.colorbar(im, orientation=\"horizontal\", pad=0.2, shrink=0.75)\n",
    "cbar.set_label('vorticity')\n",
    "plt.show()\n"
   ]
  },
  {
   "cell_type": "code",
   "execution_count": null,
   "metadata": {},
   "outputs": [],
   "source": [
    "plt.savefig('vorticity-mollweide.png')"
   ]
  }
 ],
 "metadata": {
  "kernelspec": {
   "display_name": "Python 3",
   "language": "python",
   "name": "python3"
  },
  "language_info": {
   "codemirror_mode": {
    "name": "ipython",
    "version": 3
   },
   "file_extension": ".py",
   "mimetype": "text/x-python",
   "name": "python",
   "nbconvert_exporter": "python",
   "pygments_lexer": "ipython3",
   "version": "3.6.7"
  }
 },
 "nbformat": 4,
 "nbformat_minor": 2
}
