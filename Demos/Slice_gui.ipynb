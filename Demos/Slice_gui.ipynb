{
 "cells": [
  {
   "cell_type": "markdown",
   "metadata": {},
   "source": [
    "# Tomography movie"
   ]
  },
  {
   "cell_type": "code",
   "execution_count": 1,
   "metadata": {},
   "outputs": [
    {
     "name": "stdout",
     "output_type": "stream",
     "text": [
      "Populating the interactive namespace from numpy and matplotlib\n"
     ]
    }
   ],
   "source": [
    "%pylab ipympl"
   ]
  },
  {
   "cell_type": "code",
   "execution_count": 2,
   "metadata": {},
   "outputs": [
    {
     "name": "stdout",
     "output_type": "stream",
     "text": [
      "/user/scratch14_ppmstar/bamcewan/repos/PyPPM/ppmpy/ppm.py\n"
     ]
    }
   ],
   "source": [
    "import numpy as np\n",
    "import matplotlib as mpl\n",
    "import matplotlib.pyplot as plt\n",
    "import matplotlib.colors as color\n",
    "import nugridpy.utils as utils\n",
    "import sys, os, time\n",
    "import inspect\n",
    "\n",
    "# if you make changes to the ppmpy module (e.g. add your analysis methods via a pull \n",
    "# request) in the https://github.com/PPMstar/PyPPM repo you may want use that \n",
    "# updated version\n",
    "#sys.path.insert(0,'/user/david/PyPPM/')\n",
    "#sys.path.insert(0,'/user/PyPPM/')\n",
    "# sys.path.insert(0,'/home/user/home/PyPPM/')\n",
    "sys.path.insert(0, '/user/scratch14_ppmstar/bamcewan/repos/PyPPM/')\n",
    "from ppmpy import ppm\n",
    "print(inspect.getfile(ppm))\n",
    "\n",
    "cb = utils.linestylecb # colours"
   ]
  },
  {
   "cell_type": "code",
   "execution_count": 3,
   "metadata": {},
   "outputs": [],
   "source": [
    "import logging\n",
    "l = logging.getLogger()\n",
    "l.setLevel(logging.ERROR)"
   ]
  },
  {
   "cell_type": "code",
   "execution_count": 4,
   "metadata": {},
   "outputs": [
    {
     "name": "stdout",
     "output_type": "stream",
     "text": [
      "HcoreM025Z0-BQav2650.aaa\n"
     ]
    }
   ],
   "source": [
    "%%bash\n",
    "ls /data/ASDR/PPMstar/H-core-M25/M45/myavsbq/2650"
   ]
  },
  {
   "cell_type": "code",
   "execution_count": 5,
   "metadata": {},
   "outputs": [
    {
     "name": "stdout",
     "output_type": "stream",
     "text": [
      "10000 rprof files found in '/data/ASDR/PPMstar/H-core-M25/M45/prfs/.\n",
      "Dump numbers range from 0 to 9999.\n",
      "10000 .aaa files found in '/data/ASDR/PPMstar/H-core-M25/M45/myavsbq/.\n",
      "Dump numbers range from 0 to 9999.\n",
      "moms and rprof dictionary created\n"
     ]
    }
   ],
   "source": [
    "dir_repo    = '/data/ASDR/PPMstar'\n",
    "dir_project = 'H-core-M25/'\n",
    "rprof = {}; moms = {}         # initialize dictionaries to hold rprof and moms instances\n",
    "\n",
    "moms_dumps = {}\n",
    "\n",
    "runs                = ['M45'] # select runs\n",
    "moms_dumps[runs[0]] = 2100   # select dump numbers for moms\n",
    "\n",
    "add_highres = False\n",
    "if add_highres:\n",
    "    runs.append('M35-1536')\n",
    "    moms_dumps[runs[1]] = 375   \n",
    "\n",
    "# rprof instance holds radial profiles for all dumps\n",
    "# moms instance holds only one dump at a time\n",
    "for run in runs:        \n",
    "    path = os.path.join(dir_repo,dir_project,run)\n",
    "    # radial profile:\n",
    "    rprof[run] = ppm.RprofSet(os.path.join(path,'prfs'))\n",
    "    moms[run] = ppm.MomsDataSet(os.path.join(path,'myavsbq'),moms_dumps[run])\n",
    "print(\"moms and rprof dictionary created\")"
   ]
  },
  {
   "cell_type": "code",
   "execution_count": 6,
   "metadata": {},
   "outputs": [
    {
     "name": "stdout",
     "output_type": "stream",
     "text": [
      "{'M45': 2100}\n"
     ]
    }
   ],
   "source": [
    "print(moms_dumps)"
   ]
  },
  {
   "cell_type": "code",
   "execution_count": 7,
   "metadata": {},
   "outputs": [],
   "source": [
    "runid = 'M45'"
   ]
  },
  {
   "cell_type": "markdown",
   "metadata": {},
   "source": [
    "# Slice_Gui"
   ]
  },
  {
   "cell_type": "code",
   "execution_count": 8,
   "metadata": {},
   "outputs": [
    {
     "data": {
      "application/vnd.jupyter.widget-view+json": {
       "model_id": "ed9548566f634fe598ea2c9aa0b4d823",
       "version_major": 2,
       "version_minor": 0
      },
      "text/plain": [
       "Tab(children=(HBox(children=(VBox(children=(IntSlider(value=6666, description='Dump', layout=Layout(width='335…"
      ]
     },
     "metadata": {},
     "output_type": "display_data"
    },
    {
     "data": {
      "application/vnd.jupyter.widget-view+json": {
       "model_id": "b7cf02bb909249d8a1f823204006cc64",
       "version_major": 2,
       "version_minor": 0
      },
      "text/plain": [
       "Output()"
      ]
     },
     "metadata": {},
     "output_type": "display_data"
    }
   ],
   "source": [
    "thismoms = moms[runid]\n",
    "thismoms.slice_gui()"
   ]
  },
  {
   "cell_type": "code",
   "execution_count": null,
   "metadata": {},
   "outputs": [],
   "source": []
  }
 ],
 "metadata": {
  "kernelspec": {
   "display_name": "Python 3",
   "language": "python",
   "name": "python3"
  },
  "language_info": {
   "codemirror_mode": {
    "name": "ipython",
    "version": 3
   },
   "file_extension": ".py",
   "mimetype": "text/x-python",
   "name": "python",
   "nbconvert_exporter": "python",
   "pygments_lexer": "ipython3",
   "version": "3.6.8"
  }
 },
 "nbformat": 4,
 "nbformat_minor": 4
}
