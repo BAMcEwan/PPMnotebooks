{
 "cells": [
  {
   "cell_type": "markdown",
   "metadata": {},
   "source": [
    "# Tomography movie"
   ]
  },
  {
   "cell_type": "code",
   "execution_count": 1,
   "metadata": {},
   "outputs": [
    {
     "name": "stdout",
     "output_type": "stream",
     "text": [
      "Populating the interactive namespace from numpy and matplotlib\n"
     ]
    }
   ],
   "source": [
    "%pylab ipympl"
   ]
  },
  {
   "cell_type": "code",
   "execution_count": 2,
   "metadata": {},
   "outputs": [
    {
     "name": "stdout",
     "output_type": "stream",
     "text": [
      "/user/scratch14_ppmstar/bamcewan/repos/PyPPM/ppmpy/ppm.py\n"
     ]
    }
   ],
   "source": [
    "import os\n",
    "import sys\n",
    "import inspect\n",
    "import logging\n",
    "import ipywidgets as widgets\n",
    "\n",
    "# if you make changes to the ppmpy module (e.g. add your analysis methods via a pull \n",
    "# request) in the https://github.com/PPMstar/PyPPM repo you may want use that \n",
    "# updated version\n",
    "#sys.path.insert(0,'/user/david/PyPPM/')\n",
    "#sys.path.insert(0,'/user/PyPPM/')\n",
    "# sys.path.insert(0,'/home/user/home/PyPPM/')\n",
    "sys.path.insert(0, '/user/scratch14_ppmstar/bamcewan/repos/PyPPM/')\n",
    "from ppmpy import ppm\n",
    "print(inspect.getfile(ppm))\n",
    "\n",
    "# turn off matplotlib messages\n",
    "logging.getLogger(\"matplotlib\").setLevel(logging.CRITICAL)"
   ]
  },
  {
   "cell_type": "code",
   "execution_count": 3,
   "metadata": {},
   "outputs": [
    {
     "data": {
      "application/vnd.jupyter.widget-view+json": {
       "model_id": "42304c0d6a32447bbb4bfbb422d7b650",
       "version_major": 2,
       "version_minor": 0
      },
      "text/plain": [
       "VBox(children=(Dropdown(description='Path Select', layout=Layout(width='450px'), options=('/home/user/data/ASD…"
      ]
     },
     "metadata": {},
     "output_type": "display_data"
    }
   ],
   "source": [
    "base_dir = os.getcwd() + '/data/ASDR/PPMstar/'\n",
    "root_dirs = os.listdir(base_dir)\n",
    "options =[]\n",
    "\n",
    "for sub_dir in root_dirs:\n",
    "    if (os.path.isdir(base_dir + sub_dir)):\n",
    "        data_dirs = os.listdir(base_dir + sub_dir)\n",
    "        for folder in data_dirs:\n",
    "            if (os.path.isdir(base_dir + sub_dir + '/' + folder)):\n",
    "                full_dir = base_dir + sub_dir + '/' + folder\n",
    "                if (os.path.exists(full_dir + '/prfs') and os.path.exists(full_dir + '/myavsbq')):\n",
    "                    if ((os.listdir(full_dir + '/prfs') != []) and (os.listdir(full_dir + '/myavsbq') != [])):\n",
    "                        options.append(full_dir)\n",
    "\n",
    "select_dropdown = widgets.Dropdown(options=options, description=\"Path Select\", layout=widgets.Layout(width='450px'))\n",
    "select_button = widgets.Button(description=\"Select Runs\", disabled=False)\n",
    "selected_label = widgets.Label(value=\"\")\n",
    "select_group = widgets.VBox([select_dropdown, select_button, selected_label])\n",
    "\n",
    "def select(b):\n",
    "    global rprof_dir\n",
    "    global moms_dir\n",
    "    rprof_dir = select_dropdown.value + '/prfs/'\n",
    "    moms_dir = select_dropdown.value + '/myavsbq/'\n",
    "    selected_label.value = select_dropdown.value\n",
    "select_button.on_click(select)\n",
    "\n",
    "display(select_group)"
   ]
  },
  {
   "cell_type": "markdown",
   "metadata": {},
   "source": [
    "# Slice_Gui"
   ]
  },
  {
   "cell_type": "code",
   "execution_count": 4,
   "metadata": {},
   "outputs": [
    {
     "name": "stdout",
     "output_type": "stream",
     "text": [
      "437 rprof files found in '/home/user/data/ASDR/PPMstar/H-core-M25/M35-1536/prfs/.\n",
      "Dump numbers range from 0 to 436.\n",
      "438 .aaa files found in '/home/user/data/ASDR/PPMstar/H-core-M25/M35-1536/myavsbq/.\n",
      "Dump numbers range from 0 to 437.\n"
     ]
    },
    {
     "data": {
      "application/vnd.jupyter.widget-view+json": {
       "model_id": "caa81ba233d44010b9c3b045b00d1330",
       "version_major": 2,
       "version_minor": 0
      },
      "text/plain": [
       "Tab(children=(HBox(children=(VBox(children=(IntSlider(value=291, description='Dump', layout=Layout(width='335p…"
      ]
     },
     "metadata": {},
     "output_type": "display_data"
    },
    {
     "data": {
      "application/vnd.jupyter.widget-view+json": {
       "model_id": "d071f0f9ef4c485396ad26e10ea550ac",
       "version_major": 2,
       "version_minor": 0
      },
      "text/plain": [
       "Output()"
      ]
     },
     "metadata": {},
     "output_type": "display_data"
    }
   ],
   "source": [
    "#get rprof and moms data\n",
    "rprof_data = ppm.RprofSet(rprof_dir)\n",
    "moms_data = ppm.MomsDataSet(moms_dir, 100, rprofset=rprof_data)\n",
    "\n",
    "moms_data.slice_gui()"
   ]
  },
  {
   "cell_type": "code",
   "execution_count": null,
   "metadata": {},
   "outputs": [],
   "source": []
  }
 ],
 "metadata": {
  "kernelspec": {
   "display_name": "Python 3",
   "language": "python",
   "name": "python3"
  },
  "language_info": {
   "codemirror_mode": {
    "name": "ipython",
    "version": 3
   },
   "file_extension": ".py",
   "mimetype": "text/x-python",
   "name": "python",
   "nbconvert_exporter": "python",
   "pygments_lexer": "ipython3",
   "version": "3.6.8"
  }
 },
 "nbformat": 4,
 "nbformat_minor": 4
}
