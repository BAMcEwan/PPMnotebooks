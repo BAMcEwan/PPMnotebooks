{
 "cells": [
  {
   "cell_type": "markdown",
   "metadata": {},
   "source": [
    "# Plot radial profiles"
   ]
  },
  {
   "cell_type": "markdown",
   "metadata": {},
   "source": [
    "### Initialization"
   ]
  },
  {
   "cell_type": "code",
   "execution_count": 1,
   "metadata": {},
   "outputs": [
    {
     "name": "stdout",
     "output_type": "stream",
     "text": [
      "Populating the interactive namespace from numpy and matplotlib\n"
     ]
    }
   ],
   "source": [
    "%pylab ipympl\n",
    "import os\n",
    "from ppmpy import ppm"
   ]
  },
  {
   "cell_type": "code",
   "execution_count": 2,
   "metadata": {},
   "outputs": [
    {
     "name": "stdout",
     "output_type": "stream",
     "text": [
      "2413 rprof files found in '/data/ASDR/H-core-M25/M29-768/rprofs/.\n",
      "Dump numbers range from 0 to 2412.\n",
      "Reading history file '/data/ASDR/H-core-M25/M29-768/rprofs/HcoreE00768-0000.hstry'.\n"
     ]
    }
   ],
   "source": [
    "# Initialization\n",
    "dir_repo    = '/data/ASDR'\n",
    "dir_project = 'H-core-M25'\n",
    "run         = 'M29-768'\n",
    "path = os.path.join(dir_repo,dir_project,run,'rprofs')\n",
    "rp_set = ppm.RprofSet(path)"
   ]
  },
  {
   "cell_type": "markdown",
   "metadata": {},
   "source": [
    "### Quantities avilable"
   ]
  },
  {
   "cell_type": "code",
   "execution_count": 10,
   "metadata": {},
   "outputs": [
    {
     "name": "stdout",
     "output_type": "stream",
     "text": [
      "The high resolution variables are:\n",
      "['FV', 'FV0', 'P0', 'P1', 'R', 'Rho0', 'Rho1', 'T9']\n",
      "\n",
      "The low resolution variables are:\n",
      "['A', 'Ceul', 'dEnucRMS', 'dEnucSumRMS', 'dFVrms', 'dHburnedRMS', 'dMachRMS', 'dP1fRMS', 'dRho1fRMS', 'dRhoUrUsqRMS', 'dT9RMS', 'dUrRMS', 'd|Ut|RMS', 'd|U|RMS', 'Enuc', 'EnucMax', 'EnucMin', 'EnucSum', 'EnucSumMax', 'EnucSumMin', 'FV', 'FVMax', 'FVMin', 'Hburned', 'HburnedMax', 'HburnedMin', 'Mach', 'Mach#', 'MachMax', 'MachMin', 'P1/P0', 'P1fMax', 'P1fMin', 'R', 'Rho1/Rho0', 'Rho1fMax', 'Rho1fMin', 'RhoUr', 'RhoUrH', 'RhoUrUsq', 'RhoUrUsqMax', 'RhoUrUsqMin', 'T9', 'T9Max', 'T9Min', 'Ur', 'UrMax', 'UrMin', '|Ut|', '|Ut|Max', '|Ut|Min', '|U|', '|U|Max', '|U|Min']\n"
     ]
    }
   ],
   "source": [
    "# get a single rprof for a dump to see what quantities we have\n",
    "rp = rp_set.get_dump(dump1)\n",
    "\n",
    "# high resolution vars\n",
    "print('The high resolution variables are:')\n",
    "print(rp.get_hr_variables())\n",
    "print()\n",
    "\n",
    "# low resolution vars\n",
    "print('The low resolution variables are:')\n",
    "print(rp.get_lr_variables())"
   ]
  },
  {
   "cell_type": "markdown",
   "metadata": {},
   "source": [
    "## Basic Plot"
   ]
  },
  {
   "cell_type": "code",
   "execution_count": 3,
   "metadata": {},
   "outputs": [
    {
     "data": {
      "application/vnd.jupyter.widget-view+json": {
       "model_id": "",
       "version_major": 2,
       "version_minor": 0
      },
      "text/plain": [
       "FigureCanvasNbAgg()"
      ]
     },
     "metadata": {},
     "output_type": "display_data"
    },
    {
     "data": {
      "text/plain": [
       "[<matplotlib.lines.Line2D at 0x7fb0b3f96860>]"
      ]
     },
     "execution_count": 3,
     "metadata": {},
     "output_type": "execute_result"
    }
   ],
   "source": [
    "# inputs to functions\n",
    "dump = 110\n",
    "xthing = 'R'\n",
    "ything = 'A'\n",
    "\n",
    "# A is a low resolution quantity, need R to be low resolution\n",
    "xquantity = rp_set.get(xthing,dump,resolution='l')\n",
    "yquantity = rp_set.get(ything,dump,resolution='l')\n",
    "\n",
    "# do plot\n",
    "ifig = 100; close(ifig); figure(ifig)\n",
    "plot(xquantity, yquantity)"
   ]
  },
  {
   "cell_type": "markdown",
   "metadata": {},
   "source": [
    "## Multiple Quantities and Adding Details"
   ]
  },
  {
   "cell_type": "markdown",
   "metadata": {},
   "source": [
    "Plot A at two different dumps to see how it changes over time"
   ]
  },
  {
   "cell_type": "code",
   "execution_count": 7,
   "metadata": {},
   "outputs": [
    {
     "data": {
      "application/vnd.jupyter.widget-view+json": {
       "model_id": "",
       "version_major": 2,
       "version_minor": 0
      },
      "text/plain": [
       "FigureCanvasNbAgg()"
      ]
     },
     "metadata": {},
     "output_type": "display_data"
    },
    {
     "data": {
      "text/plain": [
       "<matplotlib.legend.Legend at 0x7fb0b3f5ceb8>"
      ]
     },
     "execution_count": 7,
     "metadata": {},
     "output_type": "execute_result"
    }
   ],
   "source": [
    "# inputs to functions\n",
    "dump1 = 110\n",
    "dump2 = 400\n",
    "xthing = 'R'\n",
    "ything = 'A'\n",
    "\n",
    "# A is a low resolution quantity, need R to be low resolution\n",
    "xquantity1 = rp_set.get(xthing,dump1,resolution='l')\n",
    "yquantity1 = rp_set.get(ything,dump1,resolution='l')\n",
    "\n",
    "xquantity2 = rp_set.get(xthing,dump2,resolution='l')\n",
    "yquantity2 = rp_set.get(ything,dump2,resolution='l')\n",
    "\n",
    "# do plot\n",
    "ifig = 101; close(ifig); figure(ifig)\n",
    "\n",
    "# we can add labels to each line\n",
    "plot(xquantity1, yquantity1, label='Dump 110')\n",
    "plot(xquantity2, yquantity2, label='Dump 400')\n",
    "\n",
    "# force the legend to show up\n",
    "legend()"
   ]
  },
  {
   "cell_type": "markdown",
   "metadata": {},
   "source": [
    "## FV "
   ]
  },
  {
   "cell_type": "code",
   "execution_count": 9,
   "metadata": {},
   "outputs": [
    {
     "data": {
      "application/vnd.jupyter.widget-view+json": {
       "model_id": "37838265de584ebdb7fbca2512979080",
       "version_major": 2,
       "version_minor": 0
      },
      "text/plain": [
       "FigureCanvasNbAgg()"
      ]
     },
     "metadata": {},
     "output_type": "display_data"
    },
    {
     "data": {
      "text/plain": [
       "<matplotlib.legend.Legend at 0x7fb0b1ae06d8>"
      ]
     },
     "execution_count": 9,
     "metadata": {},
     "output_type": "execute_result"
    }
   ],
   "source": [
    "# inputs to functions\n",
    "dump = 400\n",
    "xthing = 'R'\n",
    "ything = 'FV'\n",
    "\n",
    "# FV is a high resolution quantity, need R to be high resolution\n",
    "xquantity = rp_set.get(xthing,dump,resolution='h')\n",
    "yquantity = rp_set.get(ything,dump,resolution='h')\n",
    "\n",
    "# do plot\n",
    "ifig = 102; close(ifig); figure(ifig)\n",
    "\n",
    "# FV is a quantity that varies over orders of magnitude, use log in the y axis\n",
    "# We will also add axis labels, change color and linestyle\n",
    "semilogy(xquantity, yquantity, color='r', linestyle='-.', label='Dump 400')\n",
    "\n",
    "# axis labels\n",
    "xlabel(xthing)\n",
    "ylabel(ything)\n",
    "\n",
    "# force the legend to show up\n",
    "legend()"
   ]
  },
  {
   "cell_type": "markdown",
   "metadata": {},
   "source": [
    "The variables yquantity and xquantity are arrays that contain all of the values. They can be accessed with C-style indexing"
   ]
  },
  {
   "cell_type": "code",
   "execution_count": 10,
   "metadata": {},
   "outputs": [
    {
     "data": {
      "text/plain": [
       "array([0.99999988, 0.99999994, 0.99999994, 0.99999988, 0.99999988,\n",
       "       0.99999994, 1.        , 1.        , 1.        , 1.        ,\n",
       "       0.99999994, 1.        , 0.99999994, 1.        , 1.        ,\n",
       "       1.        , 1.        , 1.        , 0.99999994, 1.        ,\n",
       "       1.        , 1.        , 1.        , 1.        , 0.99999994,\n",
       "       1.        , 0.99999994, 1.        , 1.        , 0.99999994,\n",
       "       0.99999994, 1.        , 0.99999994, 1.        , 0.99999994,\n",
       "       0.99999994, 0.99999994, 1.        , 0.99999994, 1.        ,\n",
       "       1.        , 1.        , 1.        , 1.        , 1.        ,\n",
       "       1.        , 0.99999994, 0.99999994, 1.        , 1.        ,\n",
       "       1.        , 1.        , 1.        , 1.        , 1.        ,\n",
       "       1.        , 1.        , 1.        , 1.        , 1.        ,\n",
       "       0.99999994, 0.99999994, 0.99999994, 1.        , 0.99999994,\n",
       "       1.        , 1.        , 0.99999994, 1.        , 0.99999994,\n",
       "       1.        , 0.99999994, 0.99999994, 1.        , 0.99999994,\n",
       "       1.        , 1.        , 1.        , 0.99999994, 0.99999994,\n",
       "       0.99999994, 1.        , 0.99999994, 1.        , 1.        ,\n",
       "       1.        , 1.        , 1.        , 1.        , 1.        ,\n",
       "       0.99999994, 1.        , 1.        , 1.        , 1.        ,\n",
       "       1.        , 1.        , 1.        , 0.99999994, 0.99999994,\n",
       "       1.        , 1.        , 1.        , 1.        , 1.        ,\n",
       "       1.        , 1.        , 0.99999994, 0.99999994, 1.        ,\n",
       "       1.        , 1.        , 1.        , 1.        , 0.99999994,\n",
       "       1.        , 1.        , 1.        , 1.        , 0.99999994,\n",
       "       0.99999994, 0.99999994, 1.        , 1.        , 1.        ,\n",
       "       0.99999994, 1.        , 0.99999994, 1.        , 1.        ,\n",
       "       1.        , 1.        , 1.        , 1.        , 1.        ,\n",
       "       1.        , 1.        , 1.        , 1.        , 1.        ,\n",
       "       0.99999994, 1.        , 1.        , 1.        , 1.        ,\n",
       "       1.        , 0.99999994, 0.99999988, 0.99999994, 0.99999994,\n",
       "       0.99999994, 0.99999994, 1.        , 1.        , 1.        ,\n",
       "       1.        , 1.        , 1.        , 1.        , 1.        ,\n",
       "       1.        , 1.        , 1.        , 0.99999994, 1.        ,\n",
       "       1.        , 1.        , 1.        , 0.99999994, 1.        ,\n",
       "       1.        , 0.99999994, 0.99999994, 1.        , 1.        ,\n",
       "       0.99999988, 1.        , 1.        , 1.        , 1.        ,\n",
       "       1.        , 1.        , 1.        , 1.        , 1.        ,\n",
       "       1.        , 1.        , 1.        , 1.        , 0.99999994,\n",
       "       1.        , 1.        , 1.        , 1.        , 1.        ,\n",
       "       0.99999994, 1.        , 1.        , 1.        , 1.        ,\n",
       "       1.        , 0.99999994, 1.        , 1.        , 1.        ,\n",
       "       1.        , 1.        , 1.        , 1.        , 1.        ,\n",
       "       0.99999994, 1.        , 0.99999994, 0.99999994, 1.        ,\n",
       "       0.99999994, 1.        , 1.        , 1.        , 1.        ,\n",
       "       1.        , 1.        , 1.        , 1.        , 1.        ,\n",
       "       0.99999994, 1.        , 1.        , 1.        , 0.99999994,\n",
       "       1.        , 0.99999994, 1.        , 1.        , 0.99999994,\n",
       "       1.        , 0.99999994, 1.        , 1.        , 0.99999994,\n",
       "       0.99999994, 0.99999994, 1.        , 1.        , 1.        ,\n",
       "       0.99999994, 1.        , 1.        , 0.99999994, 1.        ,\n",
       "       0.99999994, 1.        , 1.        , 1.        , 1.        ,\n",
       "       1.        , 1.        , 0.99999994, 1.        , 0.99999994,\n",
       "       0.99999994, 1.        , 1.        , 0.99999994, 0.99999994,\n",
       "       0.99999994, 1.        , 1.        , 1.        , 1.        ,\n",
       "       0.99999988, 0.99999988, 0.9999994 , 0.99999809, 0.99999446,\n",
       "       0.9999848 , 0.99996167, 0.99991655, 0.99983048, 0.99966872,\n",
       "       0.99938148, 0.99888521, 0.99802554, 0.9965924 , 0.99421   ,\n",
       "       0.99026912, 0.98405224, 0.97494614, 0.9624486 , 0.94611979,\n",
       "       0.92553824, 0.90020144, 0.86960244, 0.83290654, 0.78886992,\n",
       "       0.73640335, 0.67494094, 0.60504001, 0.52827442, 0.44706896,\n",
       "       0.36644492, 0.29310492, 0.23093626, 0.18036522, 0.13992602,\n",
       "       0.10782795, 0.0826614 , 0.06305336, 0.04786901, 0.03637775,\n",
       "       0.02800535, 0.02207485, 0.01797638, 0.01514952, 0.01315995,\n",
       "       0.01176423, 0.01074397, 0.00997185, 0.00936507, 0.00889593,\n",
       "       0.0085327 , 0.00823934, 0.00799215, 0.00777802, 0.00759689,\n",
       "       0.007438  , 0.00730079, 0.0071795 , 0.00706945, 0.00696754,\n",
       "       0.00687442, 0.00679083, 0.00671257, 0.00664185, 0.00657274,\n",
       "       0.00650827, 0.006451  , 0.00639859, 0.00635241, 0.00630969,\n",
       "       0.00627015, 0.00623069, 0.00619335, 0.00615716, 0.00612287,\n",
       "       0.00608966, 0.00605981, 0.00603346, 0.00600868, 0.00598417,\n",
       "       0.005959  , 0.00593534, 0.00591304, 0.00589357, 0.00587327,\n",
       "       0.00585441, 0.00583616, 0.00581899, 0.00580267, 0.00578713,\n",
       "       0.00577092, 0.00575525, 0.00573765, 0.00572098, 0.00570383,\n",
       "       0.00568733, 0.00567091, 0.00565466, 0.00563958, 0.00562622,\n",
       "       0.00561345, 0.00560162, 0.00558986, 0.00558035, 0.00557081,\n",
       "       0.00556119, 0.00555161, 0.00554203, 0.0055324 , 0.00552342,\n",
       "       0.00551439, 0.00550598, 0.00549826, 0.00548881, 0.00547982,\n",
       "       0.00547024, 0.00546157, 0.00545355, 0.00544536, 0.00543885,\n",
       "       0.00543194, 0.0054264 , 0.00542098, 0.00541483, 0.00540805,\n",
       "       0.00540169, 0.00539562, 0.0053898 , 0.00538414, 0.00537784,\n",
       "       0.00537252, 0.00536686, 0.00536144, 0.00535675, 0.00535194,\n",
       "       0.00534718, 0.00534254, 0.00533877, 0.00533506, 0.00533113,\n",
       "       0.00532603, 0.00532156, 0.00531679, 0.00531267, 0.00530834,\n",
       "       0.0053045 , 0.00530095, 0.00529762, 0.00529424, 0.00529038,\n",
       "       0.00528648, 0.00528153, 0.00527763, 0.00527301, 0.00527007,\n",
       "       0.00526731, 0.00526436, 0.00526019, 0.00525468, 0.00525   ,\n",
       "       0.00524458, 0.00524005, 0.00523586, 0.00523239, 0.00522896,\n",
       "       0.00522468, 0.00522123, 0.00521779, 0.00521551, 0.00521351,\n",
       "       0.00521206, 0.00520991, 0.00520796, 0.00520594, 0.00520434,\n",
       "       0.00520273, 0.0052012 , 0.00520006, 0.00519885, 0.00519757,\n",
       "       0.00519624, 0.00519517, 0.0051939 , 0.00519297, 0.0051923 ,\n",
       "       0.00519196, 0.00519189, 0.00519064, 0.00518931, 0.0051887 ,\n",
       "       0.00518844, 0.00518851, 0.00518827, 0.00518715, 0.00518614,\n",
       "       0.00518387, 0.00518338, 0.00518278, 0.00518202, 0.00518152,\n",
       "       0.00518103, 0.00518118, 0.00518033, 0.00517923, 0.00517748,\n",
       "       0.00517563, 0.00517379, 0.00517168, 0.00516997, 0.00516751,\n",
       "       0.00516543, 0.0051641 , 0.00516361, 0.00516394, 0.00516332,\n",
       "       0.00516313, 0.00516313, 0.00516317, 0.00516322, 0.00516374,\n",
       "       0.00516365, 0.0051628 , 0.00516091, 0.00515942, 0.00515787,\n",
       "       0.00515543, 0.00515454, 0.00515287, 0.00515223, 0.00515107,\n",
       "       0.00515067, 0.00515094, 0.00515099, 0.00515091, 0.00515067,\n",
       "       0.00515049, 0.00514994, 0.00514982, 0.00514883, 0.00514844,\n",
       "       0.00514811, 0.00514799, 0.00514755, 0.00514729, 0.00514639,\n",
       "       0.00514436, 0.00514316, 0.00514156, 0.00514124, 0.00514136,\n",
       "       0.00514121, 0.00514121, 0.00514151, 0.00514234, 0.00514319,\n",
       "       0.00514467, 0.00514709, 0.00514964, 0.00515248, 0.00515284,\n",
       "       0.00515354, 0.00515311, 0.00515255, 0.00515186, 0.00515225,\n",
       "       0.00515393, 0.00515601, 0.00515764, 0.00515925, 0.00516027,\n",
       "       0.0051612 , 0.00516097, 0.00516065, 0.00516005, 0.00516016,\n",
       "       0.0051609 , 0.00516048, 0.00516016, 0.00515956, 0.00515935,\n",
       "       0.00515923, 0.00515858, 0.0051576 , 0.00515822, 0.00515887,\n",
       "       0.00516117, 0.00516206, 0.00516168, 0.00516086, 0.00515972,\n",
       "       0.00515854, 0.00515689, 0.00515317, 0.00515011, 0.00514766,\n",
       "       0.00514684, 0.00514696, 0.00514689, 0.0051476 , 0.00514688,\n",
       "       0.0051461 , 0.00514467, 0.005143  , 0.00514242, 0.00514244,\n",
       "       0.00514204, 0.00514179, 0.0051421 , 0.00514196, 0.00514147,\n",
       "       0.00514164, 0.00514172, 0.00514339, 0.00514409, 0.00514563,\n",
       "       0.00514729, 0.00514884, 0.00515043, 0.00515286, 0.00515558,\n",
       "       0.00515839, 0.00516198, 0.00516472, 0.00516916, 0.00517252,\n",
       "       0.00517563, 0.00517778, 0.00517686, 0.00517689, 0.00517472,\n",
       "       0.00517438, 0.00517367, 0.00517531, 0.00517793, 0.00518024,\n",
       "       0.00518169, 0.00518146, 0.00518065, 0.00518201, 0.00518489,\n",
       "       0.00518836, 0.00519036, 0.00519258, 0.00519468, 0.0051959 ,\n",
       "       0.00519795, 0.00520018, 0.00520281, 0.00520459, 0.00520643,\n",
       "       0.00520921, 0.00520945, 0.00521041, 0.00521059, 0.00521206,\n",
       "       0.00521432, 0.00521685, 0.00522078, 0.00522394, 0.00522814,\n",
       "       0.00523121, 0.00523326, 0.00523386, 0.00523231, 0.00523102,\n",
       "       0.00523127, 0.00523265, 0.00523481, 0.00523771, 0.00524042,\n",
       "       0.00524203, 0.00524306, 0.00524407, 0.00524482, 0.00524604,\n",
       "       0.00524717, 0.00524849, 0.00525095, 0.00525337, 0.00525674,\n",
       "       0.00525809, 0.00525915, 0.0052608 , 0.00526395, 0.00526665,\n",
       "       0.00526929, 0.00527083, 0.00527064, 0.00527246, 0.00527433,\n",
       "       0.00527427, 0.00527252, 0.0052697 , 0.00527085, 0.00527055,\n",
       "       0.00526986, 0.00526931, 0.00526653, 0.00526499, 0.00526174,\n",
       "       0.00526019, 0.00525628, 0.00525478, 0.00525404, 0.00525393,\n",
       "       0.00525265, 0.00525123, 0.00524875, 0.00524459, 0.00524185,\n",
       "       0.00523854, 0.0052369 , 0.00523377, 0.0052279 , 0.00521998,\n",
       "       0.00521329, 0.00520555, 0.00520134, 0.00519767, 0.00519535,\n",
       "       0.005194  , 0.00519132, 0.00519184, 0.00519344, 0.005195  ,\n",
       "       0.00519825, 0.0052001 , 0.0052018 , 0.00520239, 0.00520255,\n",
       "       0.0052029 , 0.00520132, 0.00520019, 0.00519659, 0.00519258,\n",
       "       0.00519225, 0.00519168, 0.00519073, 0.00518832, 0.00518473,\n",
       "       0.00518547, 0.00518643, 0.00518681, 0.00518504, 0.00518366,\n",
       "       0.00518208, 0.00518184, 0.00518398, 0.00518727, 0.00518909,\n",
       "       0.00518985, 0.00518691, 0.00518239, 0.00518153, 0.00518129,\n",
       "       0.00518057, 0.00518352, 0.00518362, 0.00518309, 0.00518747,\n",
       "       0.00519493, 0.00520232, 0.00521334, 0.00522045, 0.00523383,\n",
       "       0.00524334, 0.00525048, 0.00526355, 0.00526874, 0.00527379,\n",
       "       0.00527524, 0.00527723, 0.0052793 , 0.00528208, 0.00530702,\n",
       "       0.0053279 , 0.00533427, 0.00532747, 0.00532019, 0.00533187,\n",
       "       0.00533586, 0.00536198, 0.00539007, 0.00541629, 0.00542006,\n",
       "       0.00540581, 0.00540951, 0.00538955, 0.00535433, 0.00532414,\n",
       "       0.00530383, 0.00535598, 0.00538593, 0.00482124, 0.00169215,\n",
       "       0.        , 0.        , 0.        ])"
      ]
     },
     "execution_count": 10,
     "metadata": {},
     "output_type": "execute_result"
    }
   ],
   "source": [
    "yquantity"
   ]
  },
  {
   "cell_type": "code",
   "execution_count": 12,
   "metadata": {},
   "outputs": [
    {
     "data": {
      "application/vnd.jupyter.widget-view+json": {
       "model_id": "9af48d90c2134f288974eed56abddf62",
       "version_major": 2,
       "version_minor": 0
      },
      "text/plain": [
       "FigureCanvasNbAgg()"
      ]
     },
     "metadata": {},
     "output_type": "display_data"
    },
    {
     "data": {
      "text/plain": [
       "[<matplotlib.lines.Line2D at 0x7f7f8bff1da0>,\n",
       " <matplotlib.lines.Line2D at 0x7f7f8bff1ef0>]"
      ]
     },
     "execution_count": 12,
     "metadata": {},
     "output_type": "execute_result"
    }
   ],
   "source": [
    "# input section\n",
    "dump=112\n",
    "xthing='R'\n",
    "\n",
    "# do plot - don't edit below\n",
    "\n",
    "ifig=112;close(ifig);figure(ifig)\n",
    "xthing = rp_set.get('R',dump,resolution='h')\n",
    "ything = rp_set.get('FV',dump,resolution='h')\n",
    "\n",
    "plot(xthing,ything,dump)\n",
    "\n",
    "\n",
    "rp_set.plot(,logy=True)"
   ]
  },
  {
   "cell_type": "code",
   "execution_count": null,
   "metadata": {},
   "outputs": [],
   "source": []
  },
  {
   "cell_type": "code",
   "execution_count": null,
   "metadata": {},
   "outputs": [],
   "source": []
  },
  {
   "cell_type": "code",
   "execution_count": null,
   "metadata": {},
   "outputs": [],
   "source": []
  },
  {
   "cell_type": "code",
   "execution_count": null,
   "metadata": {},
   "outputs": [],
   "source": []
  },
  {
   "cell_type": "code",
   "execution_count": null,
   "metadata": {},
   "outputs": [],
   "source": []
  },
  {
   "cell_type": "markdown",
   "metadata": {},
   "source": [
    "We will plot A at the two dumps to see how the profile has changed radially since it's initial stratification as well as FV in another plot"
   ]
  },
  {
   "cell_type": "code",
   "execution_count": 4,
   "metadata": {},
   "outputs": [
    {
     "name": "stdout",
     "output_type": "stream",
     "text": [
      "The length of the A array (low res.) is 384 while the length of the FV array (high res.) is 768\n"
     ]
    }
   ],
   "source": [
    "# A, can use rp_set to get A from ANY dump. A is low resolution!\n",
    "A1 = rp_set.get('A',dump1)\n",
    "A2 = rp_set.get('A',dump2)\n",
    "\n",
    "# Now R has two different resolutions, high and low. We need low to plot it with A\n",
    "Rlow = rp_set.get('R',dump1,resolution='l')\n",
    "\n",
    "# FV, can use rp_set to get A from ANY dump. FV can be high or low resolution!\n",
    "FV1 = rp_set.get('FV',dump1,resolution='h')\n",
    "FV2 = rp_set.get('FV',dump2,resolution='h')\n",
    "\n",
    "# Now R has two different resolutions, high and low. We need high to plot it with FV\n",
    "Rhigh = rp_set.get('R',dump1,resolution='h')\n",
    "\n",
    "print('The length of the A array (low res.) is {0:d} while the length of the FV array \\\n",
    "(high res.) is {1:d}'.format(len(A1),len(FV1)))"
   ]
  },
  {
   "cell_type": "code",
   "execution_count": 8,
   "metadata": {},
   "outputs": [
    {
     "data": {
      "application/vnd.jupyter.widget-view+json": {
       "model_id": "dc395579f31d44ccbced3fe67a8bba11",
       "version_major": 2,
       "version_minor": 0
      },
      "text/plain": [
       "FigureCanvasNbAgg()"
      ]
     },
     "metadata": {},
     "output_type": "display_data"
    },
    {
     "data": {
      "text/plain": [
       "Text(0, 0.5, 'A')"
      ]
     },
     "execution_count": 8,
     "metadata": {},
     "output_type": "execute_result"
    }
   ],
   "source": [
    "ifig=9; close(ifig); figure(ifig)\n",
    "\n",
    "# we can add colors, styles and labels for lines\n",
    "#plot(Rlow, A1, color='b', linestyle='--')# label='A at dump {0:d}'.format(dump1))\n",
    "plot(Rlow, A2, color='o', linestyle='-.')#, label='A at dump {0:d}'.format(dump2))\n",
    "\n",
    "# add axis labels\n",
    "xlabel('R (Mm)')\n",
    "ylabel('A')\n",
    "\n",
    "# add legend\n",
    "# plt.legend()"
   ]
  },
  {
   "cell_type": "code",
   "execution_count": 6,
   "metadata": {},
   "outputs": [
    {
     "data": {
      "application/vnd.jupyter.widget-view+json": {
       "model_id": "f528b72a3a264918b1e02b00f5307d90",
       "version_major": 2,
       "version_minor": 0
      },
      "text/plain": [
       "FigureCanvasNbAgg()"
      ]
     },
     "metadata": {},
     "output_type": "display_data"
    },
    {
     "data": {
      "text/plain": [
       "<matplotlib.legend.Legend at 0x7f7f8c322860>"
      ]
     },
     "execution_count": 6,
     "metadata": {},
     "output_type": "execute_result"
    }
   ],
   "source": [
    "ifig=4; fig = plt.figure(ifig)\n",
    "\n",
    "# we can add colors, styles and labels for lines\n",
    "# FV is many orders of magnitude, log plot is better\n",
    "plt.semilogy(Rhigh, FV1, color='b', linestyle='--', label='A at dump {0:d}'.format(dump1))\n",
    "plt.semilogy(Rhigh, FV2, color='o', linestyle='-.', label='A at dump {0:d}'.format(dump2))\n",
    "\n",
    "# add axis labels\n",
    "plt.xlabel('R (Mm)')\n",
    "plt.ylabel('A')\n",
    "\n",
    "# add legend\n",
    "plt.legend()"
   ]
  },
  {
   "cell_type": "code",
   "execution_count": null,
   "metadata": {},
   "outputs": [],
   "source": []
  },
  {
   "cell_type": "code",
   "execution_count": null,
   "metadata": {},
   "outputs": [],
   "source": []
  },
  {
   "cell_type": "code",
   "execution_count": null,
   "metadata": {},
   "outputs": [],
   "source": []
  }
 ],
 "metadata": {
  "kernelspec": {
   "display_name": "Python 3",
   "language": "python",
   "name": "python3"
  },
  "language_info": {
   "codemirror_mode": {
    "name": "ipython",
    "version": 3
   },
   "file_extension": ".py",
   "mimetype": "text/x-python",
   "name": "python",
   "nbconvert_exporter": "python",
   "pygments_lexer": "ipython3",
   "version": "3.6.7"
  }
 },
 "nbformat": 4,
 "nbformat_minor": 2
}
