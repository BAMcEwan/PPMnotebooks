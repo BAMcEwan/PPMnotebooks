{
 "cells": [
  {
   "cell_type": "markdown",
   "metadata": {},
   "source": [
    "# Diffusion Analysis"
   ]
  },
  {
   "cell_type": "code",
   "execution_count": 1,
   "metadata": {},
   "outputs": [
    {
     "name": "stdout",
     "output_type": "stream",
     "text": [
      "Populating the interactive namespace from numpy and matplotlib\n"
     ]
    }
   ],
   "source": [
    "%pylab ipympl\n",
    "from ppmpy import ppm\n",
    "import matplotlib.pyplot as pl\n",
    "import os\n",
    "\n",
    "project_dir = '/data/ASDR/PPMstar/rpod2_PPMstar/YProfiles/O-shell-M25/'\n",
    "data_dir = '/data/ASDR/CSA/'\n",
    "ppm.set_YProf_path(project_dir)"
   ]
  },
  {
   "cell_type": "code",
   "execution_count": 4,
   "metadata": {
    "scrolled": false
   },
   "outputs": [
    {
     "name": "stdout",
     "output_type": "stream",
     "text": [
      "Reading attributes from file  YProfile-01-0348.bobaaa\n",
      "There are 349 YProfile files in the /data/ASDR/PPMstar/rpod2_PPMstar/YProfiles/O-shell-M25//D1 directory.\n",
      "Ndump values range from 0 to 348\n",
      "Time values range from 0.0 to 3480.0\n"
     ]
    },
    {
     "data": {
      "application/vnd.jupyter.widget-view+json": {
       "model_id": "d2411f0e60e14423b408bfcc93eb464a",
       "version_major": 2,
       "version_minor": 0
      },
      "text/plain": [
       "FigureCanvasNbAgg()"
      ]
     },
     "metadata": {},
     "output_type": "display_data"
    },
    {
     "data": {
      "text/plain": [
       "(7, 15)"
      ]
     },
     "execution_count": 4,
     "metadata": {},
     "output_type": "execute_result"
    }
   ],
   "source": [
    "%%capture  --no-stdout --no-display\n",
    "D1 = ppm.yprofile('D1')\n",
    "res = D1.Dinv(231, 331, plot_Dlt0=False, approx_D = True, linelims = [7.7,8.0],\n",
    "        r0= 6,debug =False)\n",
    "pl.xlim(7.6,8.3)\n",
    "pl.ylim(7,15)"
   ]
  },
  {
   "cell_type": "code",
   "execution_count": 7,
   "metadata": {},
   "outputs": [
    {
     "name": "stdout",
     "output_type": "stream",
     "text": [
      "Reading attributes from file  YProfile-01-0163.bobaaa\n",
      "There are 164 YProfile files in the /data/ASDR/PPMstar/rpod2_PPMstar/YProfiles/O-shell-M25/D2 directory.\n",
      "Ndump values range from 0 to 163\n",
      "Time values range from 0.0 to 1640.0\n",
      "1386 in profiles.index file ...\n",
      "Found and load nearest profile for cycle 28900\n",
      "reading profile/data/ASDR/CSA/Stellar_models/O-shell-M25/M25Z0.02//LOGS/log593.data ...\n",
      " reading ...100% \n",
      "\n",
      "Closing profile tool ...\n"
     ]
    },
    {
     "data": {
      "text/plain": [
       "<matplotlib.legend.Legend at 0x7f9b24419780>"
      ]
     },
     "execution_count": 7,
     "metadata": {},
     "output_type": "execute_result"
    }
   ],
   "source": [
    "%%capture  --no-stdout --no-display\n",
    "ppm.plot_diffusion_profiles('D2',data_dir + 'Stellar_models/O-shell-M25/M25Z0.02/',28900,\n",
    "                        7.8489,(1,160),2.*460.,7.8282,10.**12.27,0.21,0.055,1.6)\n",
    "pl.xlim(3,9)\n",
    "pl.ylim(11,16)\n",
    "pl.legend(loc=6)"
   ]
  },
  {
   "cell_type": "code",
   "execution_count": null,
   "metadata": {},
   "outputs": [],
   "source": []
  }
 ],
 "metadata": {
  "kernelspec": {
   "display_name": "Python 3",
   "language": "python",
   "name": "python3"
  },
  "language_info": {
   "codemirror_mode": {
    "name": "ipython",
    "version": 3
   },
   "file_extension": ".py",
   "mimetype": "text/x-python",
   "name": "python",
   "nbconvert_exporter": "python",
   "pygments_lexer": "ipython3",
   "version": "3.6.7"
  }
 },
 "nbformat": 4,
 "nbformat_minor": 2
}
