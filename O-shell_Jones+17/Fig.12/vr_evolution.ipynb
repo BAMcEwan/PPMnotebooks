{
 "cells": [
  {
   "cell_type": "markdown",
   "metadata": {
    "collapsed": true
   },
   "source": [
    "# Evolution of maximum radial velocity in the convection zone"
   ]
  },
  {
   "cell_type": "code",
   "execution_count": 1,
   "metadata": {},
   "outputs": [],
   "source": [
    "import nugridpy.utils as utils\n",
    "from ppmpy.ppm import *\n",
    "import numpy as np\n",
    "import matplotlib.pyplot as plt\n",
    "%matplotlib nbagg\n",
    "\n",
    "def get_vr_max_evolution(prof, cycles, r1, r2):\n",
    "    r = prof.get('Y', fname = cycles[0], resolution = 'l')\n",
    "    idx1 = np.argmin(np.abs(r - r1))\n",
    "    idx2 = np.argmin(np.abs(r - r2))\n",
    "\n",
    "    t = np.zeros(len(cycles))\n",
    "    vr_max = np.zeros(len(cycles))\n",
    "    for k in range(len(cycles)):\n",
    "        t[k] = prof.get('t', fname = cycles[k], resolution = 'l')[-1]\n",
    "        vr_rms  = prof.get('EkY', fname = cycles[k], resolution = 'l')**0.5\n",
    "        vr_max[k] = np.max(vr_rms[idx2:idx1])\n",
    "    \n",
    "    return t, vr_max"
   ]
  },
  {
   "cell_type": "code",
   "execution_count": 2,
   "metadata": {},
   "outputs": [
    {
     "name": "stdout",
     "output_type": "stream",
     "text": [
      "ppm_path not correctly set: /ppm_data1/rpod2/YProfiles/O-shell-M25/D1 is not directory.\n",
      "error: Directory, /ppm_data1/rpod2/YProfiles/O-shell-M25/D1 not found\n",
      "Now returning None\n",
      "That Data name does not appear in this YProfile Directory\n",
      "Returning none\n"
     ]
    },
    {
     "ename": "TypeError",
     "evalue": "unsupported operand type(s) for -: 'NoneType' and 'float'",
     "output_type": "error",
     "traceback": [
      "\u001b[0;31m\u001b[0m",
      "\u001b[0;31mTypeError\u001b[0mTraceback (most recent call last)",
      "\u001b[0;32m<ipython-input-2-2bb1abac2fd9>\u001b[0m in \u001b[0;36m<module>\u001b[0;34m()\u001b[0m\n\u001b[1;32m      4\u001b[0m \u001b[0mcycles_D1\u001b[0m \u001b[0;34m=\u001b[0m \u001b[0mrange\u001b[0m\u001b[0;34m(\u001b[0m\u001b[0;36m0\u001b[0m\u001b[0;34m,\u001b[0m \u001b[0;36m332\u001b[0m\u001b[0;34m,\u001b[0m \u001b[0msparse\u001b[0m\u001b[0;34m)\u001b[0m\u001b[0;34m\u001b[0m\u001b[0m\n\u001b[1;32m      5\u001b[0m \u001b[0mprof_D1\u001b[0m \u001b[0;34m=\u001b[0m \u001b[0myprofile\u001b[0m\u001b[0;34m(\u001b[0m\u001b[0;34m'/ppm_data1/rpod2/YProfiles/O-shell-M25/D1'\u001b[0m\u001b[0;34m)\u001b[0m\u001b[0;34m\u001b[0m\u001b[0m\n\u001b[0;32m----> 6\u001b[0;31m \u001b[0mt_D1\u001b[0m\u001b[0;34m,\u001b[0m \u001b[0mvr_max_D1\u001b[0m \u001b[0;34m=\u001b[0m \u001b[0mget_vr_max_evolution\u001b[0m\u001b[0;34m(\u001b[0m\u001b[0mprof_D1\u001b[0m\u001b[0;34m,\u001b[0m \u001b[0mcycles_D1\u001b[0m\u001b[0;34m,\u001b[0m \u001b[0;36m4.\u001b[0m\u001b[0;34m,\u001b[0m \u001b[0;36m8.\u001b[0m\u001b[0;34m)\u001b[0m\u001b[0;34m\u001b[0m\u001b[0m\n\u001b[0m\u001b[1;32m      7\u001b[0m \u001b[0;34m\u001b[0m\u001b[0m\n\u001b[1;32m      8\u001b[0m \u001b[0mcycles_D2\u001b[0m \u001b[0;34m=\u001b[0m \u001b[0mrange\u001b[0m\u001b[0;34m(\u001b[0m\u001b[0;36m0\u001b[0m\u001b[0;34m,\u001b[0m \u001b[0;36m164\u001b[0m\u001b[0;34m,\u001b[0m \u001b[0msparse\u001b[0m\u001b[0;34m)\u001b[0m\u001b[0;34m\u001b[0m\u001b[0m\n",
      "\u001b[0;32m<ipython-input-1-00defcbefb67>\u001b[0m in \u001b[0;36mget_vr_max_evolution\u001b[0;34m(prof, cycles, r1, r2)\u001b[0m\n\u001b[1;32m      7\u001b[0m \u001b[0;32mdef\u001b[0m \u001b[0mget_vr_max_evolution\u001b[0m\u001b[0;34m(\u001b[0m\u001b[0mprof\u001b[0m\u001b[0;34m,\u001b[0m \u001b[0mcycles\u001b[0m\u001b[0;34m,\u001b[0m \u001b[0mr1\u001b[0m\u001b[0;34m,\u001b[0m \u001b[0mr2\u001b[0m\u001b[0;34m)\u001b[0m\u001b[0;34m:\u001b[0m\u001b[0;34m\u001b[0m\u001b[0m\n\u001b[1;32m      8\u001b[0m     \u001b[0mr\u001b[0m \u001b[0;34m=\u001b[0m \u001b[0mprof\u001b[0m\u001b[0;34m.\u001b[0m\u001b[0mget\u001b[0m\u001b[0;34m(\u001b[0m\u001b[0;34m'Y'\u001b[0m\u001b[0;34m,\u001b[0m \u001b[0mfname\u001b[0m \u001b[0;34m=\u001b[0m \u001b[0mcycles\u001b[0m\u001b[0;34m[\u001b[0m\u001b[0;36m0\u001b[0m\u001b[0;34m]\u001b[0m\u001b[0;34m,\u001b[0m \u001b[0mresolution\u001b[0m \u001b[0;34m=\u001b[0m \u001b[0;34m'l'\u001b[0m\u001b[0;34m)\u001b[0m\u001b[0;34m\u001b[0m\u001b[0m\n\u001b[0;32m----> 9\u001b[0;31m     \u001b[0midx1\u001b[0m \u001b[0;34m=\u001b[0m \u001b[0mnp\u001b[0m\u001b[0;34m.\u001b[0m\u001b[0margmin\u001b[0m\u001b[0;34m(\u001b[0m\u001b[0mnp\u001b[0m\u001b[0;34m.\u001b[0m\u001b[0mabs\u001b[0m\u001b[0;34m(\u001b[0m\u001b[0mr\u001b[0m \u001b[0;34m-\u001b[0m \u001b[0mr1\u001b[0m\u001b[0;34m)\u001b[0m\u001b[0;34m)\u001b[0m\u001b[0;34m\u001b[0m\u001b[0m\n\u001b[0m\u001b[1;32m     10\u001b[0m     \u001b[0midx2\u001b[0m \u001b[0;34m=\u001b[0m \u001b[0mnp\u001b[0m\u001b[0;34m.\u001b[0m\u001b[0margmin\u001b[0m\u001b[0;34m(\u001b[0m\u001b[0mnp\u001b[0m\u001b[0;34m.\u001b[0m\u001b[0mabs\u001b[0m\u001b[0;34m(\u001b[0m\u001b[0mr\u001b[0m \u001b[0;34m-\u001b[0m \u001b[0mr2\u001b[0m\u001b[0;34m)\u001b[0m\u001b[0;34m)\u001b[0m\u001b[0;34m\u001b[0m\u001b[0m\n\u001b[1;32m     11\u001b[0m \u001b[0;34m\u001b[0m\u001b[0m\n",
      "\u001b[0;31mTypeError\u001b[0m: unsupported operand type(s) for -: 'NoneType' and 'float'"
     ]
    }
   ],
   "source": [
    "sparse = 1\n",
    "markevery = 25\n",
    "\n",
    "cycles_D1 = range(0, 332, sparse)\n",
    "prof_D1 = yprofile('/ppm_data1/rpod2/YProfiles/O-shell-M25/D1')\n",
    "t_D1, vr_max_D1 = get_vr_max_evolution(prof_D1, cycles_D1, 4., 8.)\n",
    "\n",
    "cycles_D2 = range(0, 164, sparse)\n",
    "prof_D2 = yprofile('/ppm_data1/rpod2/YProfiles/O-shell-M25/D2')\n",
    "t_D2, vr_max_D2 = get_vr_max_evolution(prof_D2, cycles_D2, 4., 8.)\n",
    "\n",
    "cycles_D8 = range(0, 218, sparse)\n",
    "prof_D8 = yprofile('/ppm_data1/rpod2/YProfiles/O-shell-M25/D8')\n",
    "t_D8, vr_max_D8 = get_vr_max_evolution(prof_D8, cycles_D8, 4., 8.)\n",
    "\n",
    "cycles_D5 = range(0, 224, sparse)\n",
    "prof_D5 = yprofile('/ppm_data1/rpod2/YProfiles/O-shell-M25/D5')\n",
    "t_D5, vr_max_D5 = get_vr_max_evolution(prof_D5, cycles_D5, 4., 8.)\n",
    "\n",
    "cycles_D6 = range(0, 249, sparse)\n",
    "prof_D6 = yprofile('/ppm_data1/rpod2/YProfiles/O-shell-M25/D6')\n",
    "t_D6, vr_max_D6 = get_vr_max_evolution(prof_D6, cycles_D6, 4., 8.)\n",
    "\n",
    "cycles_D9 = range(0, 262, sparse)\n",
    "prof_D9 = yprofile('/ppm_data1/rpod2/YProfiles/O-shell-M25/D9')\n",
    "t_D9, vr_max_D9 = get_vr_max_evolution(prof_D9, cycles_D9, 4., 8.)\n",
    "\n",
    "cycles_D10 = range(0, 263, sparse)\n",
    "prof_D10 = yprofile('/ppm_data1/rpod2/YProfiles/O-shell-M25/D10')\n",
    "t_D10, vr_max_D10 = get_vr_max_evolution(prof_D10, cycles_D10, 4., 8.)"
   ]
  },
  {
   "cell_type": "code",
   "execution_count": null,
   "metadata": {},
   "outputs": [],
   "source": [
    "cb = utils.colourblind\n",
    "ifig = 1; plt.close(ifig); plt.figure(ifig)\n",
    "plt.plot(t_D1/60.,  1e3*vr_max_D1,  color = cb(0), marker = 's', markevery = markevery, label = 'D1')\n",
    "plt.plot(t_D2/60.,  1e3*vr_max_D2,  color = cb(1), marker = 'D', markevery = markevery, label = 'D2')\n",
    "plt.plot(t_D8/60.,  1e3*vr_max_D8,  color = cb(2), marker = 'd', markevery = markevery, label = 'D8')\n",
    "plt.plot(t_D5/60.,  1e3*vr_max_D5,  color = cb(3), marker = 'v', markevery = markevery, label = 'D5')\n",
    "plt.plot(t_D6/60.,  1e3*vr_max_D6,  color = cb(4), marker = '^', markevery = markevery, label = 'D6')\n",
    "plt.plot(t_D9/60.,  1e3*vr_max_D9,  color = cb(5), marker = '>', markevery = markevery, label = 'D9')\n",
    "plt.plot(t_D10/60., 1e3*vr_max_D10, color = cb(6), marker = '<', markevery = markevery, label = 'D10')\n",
    "plt.xlim((0., 60.))\n",
    "plt.ylim((0., 130.))\n",
    "plt.xlabel('t / min')\n",
    "plt.ylabel(r'v$_r$ / km s$^{-1}$')\n",
    "plt.legend(loc = 0)"
   ]
  },
  {
   "cell_type": "code",
   "execution_count": null,
   "metadata": {
    "collapsed": true
   },
   "outputs": [],
   "source": []
  }
 ],
 "metadata": {
  "kernelspec": {
   "display_name": "Python 2",
   "language": "python",
   "name": "python2"
  },
  "language_info": {
   "codemirror_mode": {
    "name": "ipython",
    "version": 2
   },
   "file_extension": ".py",
   "mimetype": "text/x-python",
   "name": "python",
   "nbconvert_exporter": "python",
   "pygments_lexer": "ipython2",
   "version": "2.7.12"
  }
 },
 "nbformat": 4,
 "nbformat_minor": 1
}
