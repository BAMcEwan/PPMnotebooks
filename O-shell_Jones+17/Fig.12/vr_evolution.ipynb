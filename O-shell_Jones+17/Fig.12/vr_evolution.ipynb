{
 "cells": [
  {
   "cell_type": "markdown",
   "metadata": {
    "collapsed": true
   },
   "source": [
    "# Evolution of maximum radial velocity in the convection zone"
   ]
  },
  {
   "cell_type": "code",
   "execution_count": 37,
   "metadata": {},
   "outputs": [
    {
     "name": "stdout",
     "output_type": "stream",
     "text": [
      "Using matplotlib backend: nbAgg\n",
      "Populating the interactive namespace from numpy and matplotlib\n"
     ]
    }
   ],
   "source": [
    "%pylab "
   ]
  },
  {
   "cell_type": "code",
   "execution_count": 38,
   "metadata": {
    "collapsed": true
   },
   "outputs": [],
   "source": [
    "import nugridpy.utils as utils\n",
    "from ppmpy import ppm  \n",
    "import numpy as np\n",
    "import matplotlib.pyplot as plt\n",
    "%matplotlib nbagg\n",
    "\n",
    "def get_vr_max_evolution(prof, cycles, r1, r2):\n",
    "    r = prof.get('Y', fname = cycles[0], resolution = 'l')\n",
    "    idx1 = np.argmin(np.abs(r - r1))\n",
    "    idx2 = np.argmin(np.abs(r - r2))\n",
    "\n",
    "    t = np.zeros(len(cycles))\n",
    "    vr_max = np.zeros(len(cycles))\n",
    "    for k in range(len(cycles)):\n",
    "        t[k] = prof.get('t', fname = cycles[k], resolution = 'l')[-1]\n",
    "        vr_rms  = prof.get('EkY', fname = cycles[k], resolution = 'l')**0.5\n",
    "        vr_max[k] = np.max(vr_rms[idx2:idx1])\n",
    "    \n",
    "    return t, vr_max"
   ]
  },
  {
   "cell_type": "code",
   "execution_count": 39,
   "metadata": {
    "collapsed": true
   },
   "outputs": [],
   "source": [
    "data_dir='/data/ppm_rpod2/YProfiles/O-shell-M25/'"
   ]
  },
  {
   "cell_type": "code",
   "execution_count": 40,
   "metadata": {},
   "outputs": [
    {
     "name": "stdout",
     "output_type": "stream",
     "text": [
      "Reading attributes from file  YProfile-01-0348.bobaaa\n",
      "Analyzing headers ...\n",
      "There are 349 YProfile files in the /data/ppm_rpod2/YProfiles/O-shell-M25/D1 directory.\n",
      "Ndump values range from 0 to 348\n",
      "Time values range from 0.0 to 3480.0\n"
     ]
    }
   ],
   "source": [
    "prof = ppm.yprofile(data_dir+'D1')"
   ]
  },
  {
   "cell_type": "code",
   "execution_count": null,
   "metadata": {
    "collapsed": true
   },
   "outputs": [],
   "source": [
    "sparse = 1\n",
    "markevery = 25\n",
    "Ymin=4.; Ymax=8.\n",
    "cases = ['D1','D2']\n",
    "for case in cases:\n",
    "    cycles = range(prof.cycles[0], prof.cycles[-1], sparse)\n",
    "    prof = yprofile(data_dir+case)\n",
    "    t, vr_max = get_vr_max_evolution(prof, cycles, Ymin, Ymax)\n",
    "    plt.plot(t/60.,  1e3*vr_max,  color = cb(0),\\\n",
    "             marker = 's', markevery = markevery, label = case)\n",
    "    "
   ]
  },
  {
   "cell_type": "code",
   "execution_count": 43,
   "metadata": {
    "collapsed": true
   },
   "outputs": [],
   "source": [
    "from nugridpy import utils as ut"
   ]
  },
  {
   "cell_type": "code",
   "execution_count": 47,
   "metadata": {},
   "outputs": [
    {
     "data": {
      "text/plain": [
       "(':', '>', (0.37254901960784315, 0.6196078431372549, 0.8196078431372549), 5)"
      ]
     },
     "execution_count": 47,
     "metadata": {},
     "output_type": "execute_result"
    }
   ],
   "source": [
    "ut.linestylecb(3)\n"
   ]
  },
  {
   "cell_type": "code",
   "execution_count": null,
   "metadata": {
    "collapsed": true
   },
   "outputs": [],
   "source": [
    "cycles_D2 = range(0, 164, sparse)\n",
    "prof_D2 = yprofile('/ppm_data1/rpod2/YProfiles/O-shell-M25/D2')\n",
    "t_D2, vr_max_D2 = get_vr_max_evolution(prof_D2, cycles_D2, 4., 8.)\n",
    "\n",
    "cycles_D8 = range(0, 218, sparse)\n",
    "prof_D8 = yprofile('/ppm_data1/rpod2/YProfiles/O-shell-M25/D8')\n",
    "t_D8, vr_max_D8 = get_vr_max_evolution(prof_D8, cycles_D8, 4., 8.)\n",
    "\n",
    "cycles_D5 = range(0, 224, sparse)\n",
    "prof_D5 = yprofile('/ppm_data1/rpod2/YProfiles/O-shell-M25/D5')\n",
    "t_D5, vr_max_D5 = get_vr_max_evolution(prof_D5, cycles_D5, 4., 8.)\n",
    "\n",
    "cycles_D6 = range(0, 249, sparse)\n",
    "prof_D6 = yprofile('/ppm_data1/rpod2/YProfiles/O-shell-M25/D6')\n",
    "t_D6, vr_max_D6 = get_vr_max_evolution(prof_D6, cycles_D6, 4., 8.)\n",
    "\n",
    "cycles_D9 = range(0, 262, sparse)\n",
    "prof_D9 = yprofile('/ppm_data1/rpod2/YProfiles/O-shell-M25/D9')\n",
    "t_D9, vr_max_D9 = get_vr_max_evolution(prof_D9, cycles_D9, 4., 8.)\n",
    "\n",
    "cycles_D10 = range(0, 263, sparse)\n",
    "prof_D10 = yprofile('/ppm_data1/rpod2/YProfiles/O-shell-M25/D10')\n",
    "t_D10, vr_max_D10 = get_vr_max_evolution(prof_D10, cycles_D10, 4., 8.)"
   ]
  },
  {
   "cell_type": "code",
   "execution_count": null,
   "metadata": {
    "collapsed": true
   },
   "outputs": [],
   "source": [
    "cb = utils.colourblind\n",
    "ifig = 1; plt.close(ifig); plt.figure(ifig)\n",
    "plt.plot(t_D1/60.,  1e3*vr_max_D1,  color = cb(0), marker = 's', markevery = markevery, label = 'D1')\n",
    "plt.plot(t_D2/60.,  1e3*vr_max_D2,  color = cb(1), marker = 'D', markevery = markevery, label = 'D2')\n",
    "plt.plot(t_D8/60.,  1e3*vr_max_D8,  color = cb(2), marker = 'd', markevery = markevery, label = 'D8')\n",
    "plt.plot(t_D5/60.,  1e3*vr_max_D5,  color = cb(3), marker = 'v', markevery = markevery, label = 'D5')\n",
    "plt.plot(t_D6/60.,  1e3*vr_max_D6,  color = cb(4), marker = '^', markevery = markevery, label = 'D6')\n",
    "plt.plot(t_D9/60.,  1e3*vr_max_D9,  color = cb(5), marker = '>', markevery = markevery, label = 'D9')\n",
    "plt.plot(t_D10/60., 1e3*vr_max_D10, color = cb(6), marker = '<', markevery = markevery, label = 'D10')\n",
    "plt.xlim((0., 60.))\n",
    "plt.ylim((0., 130.))\n",
    "plt.xlabel('t / min')\n",
    "plt.ylabel(r'v$_r$ / km s$^{-1}$')\n",
    "plt.legend(loc = 0)"
   ]
  },
  {
   "cell_type": "code",
   "execution_count": null,
   "metadata": {
    "collapsed": true
   },
   "outputs": [],
   "source": []
  }
 ],
 "metadata": {
  "kernelspec": {
   "display_name": "Python 2",
   "language": "python",
   "name": "python2"
  },
  "language_info": {
   "codemirror_mode": {
    "name": "ipython",
    "version": 2
   },
   "file_extension": ".py",
   "mimetype": "text/x-python",
   "name": "python",
   "nbconvert_exporter": "python",
   "pygments_lexer": "ipython2",
   "version": "2.7.12"
  }
 },
 "nbformat": 4,
 "nbformat_minor": 1
}
