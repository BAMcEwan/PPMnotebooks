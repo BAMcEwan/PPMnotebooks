{
 "cells": [
  {
   "cell_type": "markdown",
   "metadata": {},
   "source": [
    "# Isotopes in the nuclear reaction network in MESA"
   ]
  },
  {
   "cell_type": "code",
   "execution_count": 2,
   "metadata": {},
   "outputs": [
    {
     "ename": "IOError",
     "evalue": "[Errno 2] No such file or directory: 'network.txt'",
     "output_type": "error",
     "traceback": [
      "\u001b[0;31m\u001b[0m",
      "\u001b[0;31mIOError\u001b[0mTraceback (most recent call last)",
      "\u001b[0;32m<ipython-input-2-c78e65efc4b9>\u001b[0m in \u001b[0;36m<module>\u001b[0;34m()\u001b[0m\n\u001b[1;32m     25\u001b[0m       'fe' : 26 }\n\u001b[1;32m     26\u001b[0m \u001b[0;34m\u001b[0m\u001b[0m\n\u001b[0;32m---> 27\u001b[0;31m \u001b[0mlines\u001b[0m\u001b[0;34m=\u001b[0m\u001b[0mopen\u001b[0m\u001b[0;34m(\u001b[0m\u001b[0;34m'network.txt'\u001b[0m\u001b[0;34m,\u001b[0m\u001b[0;34m'r'\u001b[0m\u001b[0;34m)\u001b[0m\u001b[0;34m.\u001b[0m\u001b[0mreadlines\u001b[0m\u001b[0;34m(\u001b[0m\u001b[0;34m)\u001b[0m\u001b[0;34m\u001b[0m\u001b[0m\n\u001b[0m\u001b[1;32m     28\u001b[0m \u001b[0;32mfor\u001b[0m \u001b[0mline\u001b[0m \u001b[0;32min\u001b[0m \u001b[0mlines\u001b[0m\u001b[0;34m:\u001b[0m\u001b[0;34m\u001b[0m\u001b[0m\n\u001b[1;32m     29\u001b[0m     \u001b[0mzn\u001b[0m \u001b[0;34m=\u001b[0m \u001b[0mline\u001b[0m\u001b[0;34m.\u001b[0m\u001b[0msplit\u001b[0m\u001b[0;34m(\u001b[0m\u001b[0;34m)\u001b[0m\u001b[0;34m[\u001b[0m\u001b[0;36m0\u001b[0m\u001b[0;34m]\u001b[0m\u001b[0;34m\u001b[0m\u001b[0m\n",
      "\u001b[0;31mIOError\u001b[0m: [Errno 2] No such file or directory: 'network.txt'"
     ]
    }
   ],
   "source": [
    "# Don't know where the supporting files are\n",
    "import matplotlib.patches as patches\n",
    "from nugridpy.utils import colourblind as cb\n",
    "\n",
    "# network:\n",
    "\n",
    "ZH = [0,1,1,2,2,3,5,6,6,21,22,26]\n",
    "AH = [1,1,2,3,4,7,8,12,13,45,46,56]\n",
    "\n",
    "Z = { 'n'  : 7,\n",
    "      'o'  : 8,\n",
    "      'f'  : 9,\n",
    "      'ne' : 10,\n",
    "      'na' : 11,\n",
    "      'mg' : 12,\n",
    "      'al' : 13,\n",
    "      'si' : 14,\n",
    "      'p'  : 15,\n",
    "      's'  : 16,\n",
    "      'cl' : 17,\n",
    "      'ar' : 18,\n",
    "      'k'  : 19,\n",
    "      'ca' : 20,\n",
    "      'sc' : 21,\n",
    "      'ti' : 22,\n",
    "      'fe' : 26 }\n",
    "\n",
    "lines=open('network.txt','r').readlines()\n",
    "for line in lines:\n",
    "    zn = line.split()[0]\n",
    "    a1 = int(line.split()[1])\n",
    "    a2 = int(line.split()[2])\n",
    "    z = Z[zn]\n",
    "    for i in range(a1,a2+1):\n",
    "        ZH.append(z)\n",
    "        AH.append(i)\n",
    "    \n",
    "ZH=np.array(ZH)\n",
    "AH=np.array(AH)\n",
    "\n",
    "figure()\n",
    "plot(AH-ZH,ZH,'o',color=cb(5))\n",
    "\n",
    "# stable nuclei\n",
    "lines = open( '/home/swj/work/nugrid_svn/pylib/stable.dat', 'r' ).readlines()[1:]\n",
    "z = [ int( l.split()[2] ) for l in lines ]\n",
    "n = [ int( l.split()[3] ) for l in lines ]\n",
    "#scatter( n, z, facecolor= 'None', \\\n",
    "#    zorder = 3, marker = 's', \\\n",
    "#    lw = 0.5, s = siz )\n",
    "ax = gca()\n",
    "ax.set_aspect('equal')\n",
    "for i in range(len(z)):\n",
    "    ax.add_patch(\n",
    "        patches.Rectangle(\n",
    "            (n[i] - 0.5, z[i] - 0.5),   # (x,y)\n",
    "            1.,          # width\n",
    "            1.,          # height\n",
    "            facecolor = 'None',\n",
    "            lw = 0.5,\n",
    "            zorder = 3\n",
    "        )\n",
    "    )\n",
    "\n",
    "magic = [1,8,16,20,28,40,50,82]\n",
    "for j in magic:\n",
    "    axvline( j, ls = '-', lw = 0.25, c = cb(7), zorder = 1)\n",
    "    axhline( j, ls = '-', lw = 0.25, c = cb(7), zorder = 1 )\n",
    "xticks( magic )\n",
    "yticks( magic )\n",
    "\n",
    "\n",
    "xlim(-1,30)\n",
    "ylim(-1,22)\n",
    "\n",
    "xlabel('N')\n",
    "ylabel('Z')\n",
    "\n",
    "#leg = legend(loc='upper left',scatterpoints=1)\n",
    "#leg.draw_frame(True)\n",
    "#frame = leg.get_frame()\n",
    "#frame.set_facecolor('white')\n",
    "#frame.set_linewidth(0)"
   ]
  },
  {
   "cell_type": "code",
   "execution_count": null,
   "metadata": {
    "collapsed": true
   },
   "outputs": [],
   "source": []
  }
 ],
 "metadata": {
  "kernelspec": {
   "display_name": "Python 2",
   "language": "python",
   "name": "python2"
  },
  "language_info": {
   "codemirror_mode": {
    "name": "ipython",
    "version": 2
   },
   "file_extension": ".py",
   "mimetype": "text/x-python",
   "name": "python",
   "nbconvert_exporter": "python",
   "pygments_lexer": "ipython2",
   "version": "2.7.12"
  }
 },
 "nbformat": 4,
 "nbformat_minor": 2
}
