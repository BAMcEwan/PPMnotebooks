{
 "cells": [
  {
   "cell_type": "markdown",
   "metadata": {},
   "source": [
    "# Entrained Material"
   ]
  },
  {
   "cell_type": "code",
   "execution_count": 1,
   "metadata": {},
   "outputs": [
    {
     "name": "stdout",
     "output_type": "stream",
     "text": [
      "Populating the interactive namespace from numpy and matplotlib\n"
     ]
    }
   ],
   "source": [
    "%pylab ipympl\n",
    "from ppmpy import ppm\n",
    "import os\n",
    "\n",
    "data_dir = '/data/ASDR/PPMstar/rpod2_PPMstar/YProfiles'\n",
    "project = 'O-shell-M25'\n",
    "\n",
    "mpl_logger = logging.getLogger('matplotlib')\n",
    "mpl_logger.setLevel(logging.WARNING)"
   ]
  },
  {
   "cell_type": "code",
   "execution_count": 2,
   "metadata": {},
   "outputs": [],
   "source": [
    "ppm.set_YProf_path(os.path.join(data_dir,project))"
   ]
  },
  {
   "cell_type": "code",
   "execution_count": 3,
   "metadata": {},
   "outputs": [
    {
     "name": "stdout",
     "output_type": "stream",
     "text": [
      "Reading attributes from file  YProfile-01-0348.bobaaa\n",
      "There are 349 YProfile files in the /data/ASDR/PPMstar/rpod2_PPMstar/YProfiles/O-shell-M25/D1 directory.\n",
      "Ndump values range from 0 to 348\n",
      "Time values range from 0.0 to 3480.0\n",
      "Reading attributes from file  YProfile-01-0163.bobaaa\n",
      "There are 164 YProfile files in the /data/ASDR/PPMstar/rpod2_PPMstar/YProfiles/O-shell-M25/D2 directory.\n",
      "Ndump values range from 0 to 163\n",
      "Time values range from 0.0 to 1640.0\n"
     ]
    },
    {
     "data": {
      "application/vnd.jupyter.widget-view+json": {
       "model_id": "d091157c7f4d4fa1bf5723bd411b1790",
       "version_major": 2,
       "version_minor": 0
      },
      "text/plain": [
       "FigureCanvasNbAgg()"
      ]
     },
     "metadata": {},
     "output_type": "display_data"
    },
    {
     "data": {
      "application/vnd.jupyter.widget-view+json": {
       "model_id": "fc61cde379854f378fbebfcf0440f1a6",
       "version_major": 2,
       "version_minor": 0
      },
      "text/plain": [
       "FigureCanvasNbAgg()"
      ]
     },
     "metadata": {},
     "output_type": "display_data"
    },
    {
     "data": {
      "text/plain": [
       "1.1567752336505737e-06"
      ]
     },
     "execution_count": 3,
     "metadata": {},
     "output_type": "execute_result"
    }
   ],
   "source": [
    "D1 = ppm.yprofile('D1')\n",
    "D2 = ppm.yprofile('D2')\n",
    "D1.entrainment_rate(range(150, 332, 10), 7.5, 8.5, var = 'vxz',\n",
    "                     criterion = 'min_grad', offset = -1.,\n",
    "                     integrate_both_fluids = False, ifig0 = 18,\n",
    "                     mdot_curve_label = r'D1 $\\left( 768^3 \\right)$')"
   ]
  },
  {
   "cell_type": "code",
   "execution_count": 4,
   "metadata": {},
   "outputs": [
    {
     "name": "stdout",
     "output_type": "stream",
     "text": [
      "Reading attributes from file  YProfile-01-0348.bobaaa\n",
      "There are 349 YProfile files in the /data/ASDR/PPMstar/rpod2_PPMstar/YProfiles/O-shell-M25/D1 directory.\n",
      "Ndump values range from 0 to 348\n",
      "Time values range from 0.0 to 3480.0\n",
      "Reading attributes from file  YProfile-01-0217.bobaaa\n",
      "There are 218 YProfile files in the /data/ASDR/PPMstar/rpod2_PPMstar/YProfiles/O-shell-M25/D8 directory.\n",
      "Ndump values range from 0 to 217\n",
      "Time values range from 0.0 to 2170.0\n",
      "Reading attributes from file  YProfile-01-0279.bobaaa\n",
      "There are 280 YProfile files in the /data/ASDR/PPMstar/rpod2_PPMstar/YProfiles/O-shell-M25/D5 directory.\n",
      "Ndump values range from 0 to 279\n",
      "Time values range from 0.0 to 2790.0\n",
      "Reading attributes from file  YProfile-01-0248.bobaaa\n",
      "There are 249 YProfile files in the /data/ASDR/PPMstar/rpod2_PPMstar/YProfiles/O-shell-M25/D6 directory.\n",
      "Ndump values range from 0 to 248\n",
      "Time values range from 0.0 to 2480.0\n",
      "Reading attributes from file  YProfile-01-0261.bobaaa\n",
      "There are 262 YProfile files in the /data/ASDR/PPMstar/rpod2_PPMstar/YProfiles/O-shell-M25/D9 directory.\n",
      "Ndump values range from 0 to 261\n",
      "Time values range from 0.0 to 2610.0\n",
      "Reading attributes from file  YProfile-01-0262.bobaaa\n",
      "There are 263 YProfile files in the /data/ASDR/PPMstar/rpod2_PPMstar/YProfiles/O-shell-M25/D10 directory.\n",
      "Ndump values range from 0 to 262\n",
      "Time values range from 0.0 to 2620.0\n"
     ]
    },
    {
     "data": {
      "application/vnd.jupyter.widget-view+json": {
       "model_id": "f4cf9fbaa8114b9e9e226c5dd4566749",
       "version_major": 2,
       "version_minor": 0
      },
      "text/plain": [
       "FigureCanvasNbAgg()"
      ]
     },
     "metadata": {},
     "output_type": "display_data"
    },
    {
     "data": {
      "text/plain": [
       "(-7, -3.5)"
      ]
     },
     "execution_count": 4,
     "metadata": {},
     "output_type": "execute_result"
    }
   ],
   "source": [
    "cases = ('D1', 'D8', 'D5', 'D6', 'D9', 'D10')\n",
    "c0 = (241,154,142,155,123,78)  \n",
    "ppm.plot_entr_v_ut(cases,c0,10,7.5,8.5,'tangential','max','$768^3$',ifig = 3,\n",
    "                  integrate_both_fluids = False)\n",
    "xlim(1.4,2.4);ylim(-6.5,-3.6)"
   ]
  },
  {
   "cell_type": "code",
   "execution_count": 6,
   "metadata": {},
   "outputs": [
    {
     "name": "stdout",
     "output_type": "stream",
     "text": [
      "Reading attributes from file  YProfile-01-0498.bobaaa\n",
      "There are 499 YProfile files in the /data/ppm_rpod2/YProfiles/agb-entrainment-convergence/H1 directory.\n",
      "Ndump values range from 0 to 498\n",
      "Time values range from 0.0 to 29954.6\n"
     ]
    },
    {
     "data": {
      "application/vnd.jupyter.widget-view+json": {
       "model_id": "4016a2564bf04c79a623b6be3e4b0e71",
       "version_major": 2,
       "version_minor": 0
      },
      "text/plain": [
       "FigureCanvasNbAgg()"
      ]
     },
     "metadata": {},
     "output_type": "display_data"
    }
   ],
   "source": [
    "H1 = ppm.yprofile('/data/ppm_rpod2/YProfiles/agb-entrainment-convergence/H1')\n",
    "ppm.compare_entrained_material([H1,D2],['O shell','AGB'], fname = 271)"
   ]
  },
  {
   "cell_type": "code",
   "execution_count": 7,
   "metadata": {},
   "outputs": [
    {
     "data": {
      "application/vnd.jupyter.widget-view+json": {
       "model_id": "ec7f02d20cc54406883df619efe791f5",
       "version_major": 2,
       "version_minor": 0
      },
      "text/plain": [
       "FigureCanvasNbAgg()"
      ]
     },
     "metadata": {},
     "output_type": "display_data"
    },
    {
     "name": "stderr",
     "output_type": "stream",
     "text": [
      "/usr/local/lib/python3.6/dist-packages/ppmpy/ppm.py:3113: RuntimeWarning: divide by zero encountered in log10\n",
      "  pl.plot(Y,np.log10(y),utils.linestyle(i+ls_offset)[0],\n"
     ]
    }
   ],
   "source": [
    "D1.prof_time([0,3,4,5,10,15,20],yaxis_thing = 'FV',\n",
    "             logy=True,num_type='time',markevery = 50)"
   ]
  },
  {
   "cell_type": "code",
   "execution_count": null,
   "metadata": {},
   "outputs": [],
   "source": []
  }
 ],
 "metadata": {
  "kernelspec": {
   "display_name": "Python 3",
   "language": "python",
   "name": "python3"
  },
  "language_info": {
   "codemirror_mode": {
    "name": "ipython",
    "version": 3
   },
   "file_extension": ".py",
   "mimetype": "text/x-python",
   "name": "python",
   "nbconvert_exporter": "python",
   "pygments_lexer": "ipython3",
   "version": "3.6.7"
  }
 },
 "nbformat": 4,
 "nbformat_minor": 2
}
